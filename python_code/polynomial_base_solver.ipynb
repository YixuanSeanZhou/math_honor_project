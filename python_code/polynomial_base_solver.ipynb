{
 "cells": [
  {
   "cell_type": "code",
   "execution_count": 39,
   "metadata": {},
   "outputs": [],
   "source": [
    "import sympy as sp\n",
    "from sympy import Matrix as mtx\n",
    "from sympy import symbols as syms\n",
    "import math\n",
    "from collections import deque\n",
    "import copy"
   ]
  },
  {
   "cell_type": "code",
   "execution_count": null,
   "metadata": {},
   "outputs": [],
   "source": []
  },
  {
   "cell_type": "markdown",
   "metadata": {},
   "source": [
    "### Monomials\n",
    "Lets start with monomials"
   ]
  },
  {
   "cell_type": "code",
   "execution_count": 10,
   "metadata": {},
   "outputs": [],
   "source": [
    "def init_mono(var, degree, coeff):\n",
    "    if len(coeff) != degree + 1:\n",
    "        raise Exception(\"Degree coeff doesn't match\")\n",
    "        return\n",
    "    poly = coeff[0]\n",
    "    base = [1]\n",
    "    for i in range(1, degree+1):\n",
    "        base.append(var**i)\n",
    "    return base, coeff"
   ]
  },
  {
   "cell_type": "code",
   "execution_count": 12,
   "metadata": {},
   "outputs": [
    {
     "data": {
      "text/plain": [
       "[1, x, x**2, x**3, x**4]"
      ]
     },
     "execution_count": 12,
     "metadata": {},
     "output_type": "execute_result"
    }
   ],
   "source": [
    "x = syms('x')\n",
    "b, c = init_mono(x, 4, [2, 3, 5, 7, 1])\n",
    "b"
   ]
  },
  {
   "cell_type": "code",
   "execution_count": 17,
   "metadata": {},
   "outputs": [],
   "source": [
    "def init_scaled_mono_basis(var, degree, poly):\n",
    "    p = 1\n",
    "    mb, c = poly\n",
    "    for i in range(1, degree+1):\n",
    "        p *= math.factorial(i)\n",
    "    const = math.factorial(degree) / p\n",
    "    base = [1]\n",
    "    coeff = [c[0]/p]\n",
    "    for i in range(1, degree+1):\n",
    "        base.append(var**i)\n",
    "        coeff.append(c[i] / p)\n",
    "    return base, coeff"
   ]
  },
  {
   "cell_type": "code",
   "execution_count": 18,
   "metadata": {},
   "outputs": [
    {
     "data": {
      "text/plain": [
       "([1, x, x**2, x**3, x**4],\n",
       " [0.006944444444444444,\n",
       "  0.010416666666666666,\n",
       "  0.017361111111111112,\n",
       "  0.024305555555555556,\n",
       "  0.003472222222222222])"
      ]
     },
     "execution_count": 18,
     "metadata": {},
     "output_type": "execute_result"
    }
   ],
   "source": [
    "init_scaled_mono_basis(x, 4, (b, c))"
   ]
  },
  {
   "cell_type": "code",
   "execution_count": 128,
   "metadata": {},
   "outputs": [],
   "source": [
    "def init_poly(var_num, degree, coeff):\n",
    "    '''\n",
    "    Init a multivariate polynomial with given num of var and num of degree.\n",
    "    The base used here is monomial\n",
    "    '''\n",
    "    var_list = deque()\n",
    "    for i in range(var_num):\n",
    "        var_list.append(syms('x_' + str(i)))\n",
    "    terms = []\n",
    "    for i in range(degree, -1, -1):\n",
    "        terms += gen_terms(var, i, 1)\n",
    "    return var_list, terms, coeff"
   ]
  },
  {
   "cell_type": "code",
   "execution_count": 129,
   "metadata": {},
   "outputs": [],
   "source": [
    "def gen_terms(var_list, total_degree, term):\n",
    "    '''\n",
    "    var_list is of type deque\n",
    "    '''\n",
    "    terms = []\n",
    "    if len(var_list) == 1:\n",
    "        term *= var_list[0] ** total_degree\n",
    "        terms.append(term)\n",
    "        return terms\n",
    "    elif total_degree == 0:\n",
    "        term *= 1\n",
    "        terms.append(term)\n",
    "        return terms\n",
    "    else:\n",
    "        for i in range(total_degree, -1, -1):\n",
    "            var_list_further = copy.deepcopy(var_list)\n",
    "            var = var_list_further.popleft()\n",
    "            term_further = term * var ** i\n",
    "            terms += gen_terms(var_list_further, total_degree - i, term_further)\n",
    "        return terms"
   ]
  },
  {
   "cell_type": "code",
   "execution_count": 135,
   "metadata": {},
   "outputs": [],
   "source": [
    "v, d, t = init_poly(2, 3, 0)"
   ]
  },
  {
   "cell_type": "code",
   "execution_count": 137,
   "metadata": {},
   "outputs": [
    {
     "data": {
      "text/plain": [
       "[x**3,\n",
       " x**2*y,\n",
       " x**2*z,\n",
       " x*y**2,\n",
       " x*y*z,\n",
       " x*z**2,\n",
       " y**3,\n",
       " y**2*z,\n",
       " y*z**2,\n",
       " z**3,\n",
       " x**2,\n",
       " x*y,\n",
       " x*z,\n",
       " y**2,\n",
       " y*z,\n",
       " z**2,\n",
       " x,\n",
       " y,\n",
       " z,\n",
       " 1]"
      ]
     },
     "execution_count": 137,
     "metadata": {},
     "output_type": "execute_result"
    }
   ],
   "source": [
    "d"
   ]
  },
  {
   "cell_type": "code",
   "execution_count": null,
   "metadata": {},
   "outputs": [],
   "source": []
  }
 ],
 "metadata": {
  "kernelspec": {
   "display_name": "Python 3",
   "language": "python",
   "name": "python3"
  },
  "language_info": {
   "codemirror_mode": {
    "name": "ipython",
    "version": 3
   },
   "file_extension": ".py",
   "mimetype": "text/x-python",
   "name": "python",
   "nbconvert_exporter": "python",
   "pygments_lexer": "ipython3",
   "version": "3.8.5"
  }
 },
 "nbformat": 4,
 "nbformat_minor": 4
}
