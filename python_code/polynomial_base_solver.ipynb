{
 "cells": [
  {
   "cell_type": "code",
   "execution_count": 2,
   "metadata": {},
   "outputs": [],
   "source": [
    "import sympy as sp\n",
    "from sympy import Matrix as spmtx\n",
    "from sympy import symbols as syms\n",
    "import math\n",
    "from collections import deque\n",
    "import copy\n",
    "import random"
   ]
  },
  {
   "cell_type": "markdown",
   "metadata": {},
   "source": [
    "### Monomials\n",
    "Lets start with monomials"
   ]
  },
  {
   "cell_type": "code",
   "execution_count": 3,
   "metadata": {},
   "outputs": [],
   "source": [
    "def init_mono(var, degree, coeff):\n",
    "    if len(coeff) != degree + 1:\n",
    "        raise Exception(\"Degree coeff doesn't match\")\n",
    "        return\n",
    "    poly = coeff[0]\n",
    "    base = [1]\n",
    "    for i in range(1, degree+1):\n",
    "        base.append(var**i)\n",
    "    return base, coeff"
   ]
  },
  {
   "cell_type": "code",
   "execution_count": 4,
   "metadata": {},
   "outputs": [
    {
     "data": {
      "text/plain": [
       "[1, x, x**2, x**3, x**4]"
      ]
     },
     "execution_count": 4,
     "metadata": {},
     "output_type": "execute_result"
    }
   ],
   "source": [
    "x = syms('x')\n",
    "b, c = init_mono(x, 4, [2, 3, 5, 7, 1])\n",
    "b"
   ]
  },
  {
   "cell_type": "code",
   "execution_count": 5,
   "metadata": {},
   "outputs": [],
   "source": [
    "def init_scaled_mono_basis(var, degree, poly):\n",
    "    p = 1\n",
    "    mb, c = poly\n",
    "    for i in range(1, degree+1):\n",
    "        p *= math.factorial(i)\n",
    "    const = math.factorial(degree) / p\n",
    "    base = [1]\n",
    "    coeff = [c[0]/p]\n",
    "    for i in range(1, degree+1):\n",
    "        base.append(var**i)\n",
    "        coeff.append(c[i] / p)\n",
    "    return base, coeff"
   ]
  },
  {
   "cell_type": "code",
   "execution_count": 6,
   "metadata": {},
   "outputs": [
    {
     "data": {
      "text/plain": [
       "([1, x, x**2, x**3, x**4],\n",
       " [0.006944444444444444,\n",
       "  0.010416666666666666,\n",
       "  0.017361111111111112,\n",
       "  0.024305555555555556,\n",
       "  0.003472222222222222])"
      ]
     },
     "execution_count": 6,
     "metadata": {},
     "output_type": "execute_result"
    }
   ],
   "source": [
    "init_scaled_mono_basis(x, 4, (b, c))"
   ]
  },
  {
   "cell_type": "markdown",
   "metadata": {},
   "source": [
    "# Multivariate Polynomial"
   ]
  },
  {
   "cell_type": "markdown",
   "metadata": {},
   "source": [
    "### Initalize a polynomial using monomial bases"
   ]
  },
  {
   "cell_type": "markdown",
   "metadata": {},
   "source": [
    "##### General Procedure\n",
    "\n",
    "This is some text that I am writing so that I know what I am doing, and I can check my understand with Prof.Dressler. \n",
    "\n",
    "Goal: Condition number of a matrix $A$, but what is this matrx.\n",
    "\n",
    "When fomulazing the SDP, we want to solve $b^T Q b = p(x)$ with some $Q$ positive semidefinte. There are well known algroithms so I don't really need to deal with it.\n",
    "\n",
    "However, what we are interested in is the formulazation of $b^T Q b = p(x)$.\n",
    "\n",
    "In particular, let $Q = \\begin{pmatrix} q_{11} &  q_{12} & q_{13} \\\\ q_{12} & q_{22} & q_{23} \\\\ q_{13} & q_{23} & q_{33} \\end{pmatrix}$ we can constrant this by the matching of coefficient method. \n",
    "\n",
    "Therefore, given a basis of the polynomial with half of the total degree, we actually have a linear system $Aq = b$ where $b$ is the coefficient of the polynomial expressed in the given basis. And we are interested in the condition number of $A$ "
   ]
  },
  {
   "cell_type": "code",
   "execution_count": 2,
   "metadata": {},
   "outputs": [],
   "source": [
    "def init_poly(var_num, degree, coeff=None):\n",
    "    '''\n",
    "    Init a multivariate polynomial with given num of var and num of degree.\n",
    "    The base used here is monomial\n",
    "    '''\n",
    "    var_list = deque()\n",
    "    for i in range(var_num):\n",
    "        var_list.append(syms('x_' + str(i)))\n",
    "    terms = []\n",
    "    for i in range(degree, -1, -1):\n",
    "        terms += gen_terms(var_list, i, 1)\n",
    "    if coeff == None:\n",
    "        coeff = []\n",
    "        for i in range(len(terms)):\n",
    "            coeff.append(random.randint(-100, 100))\n",
    "    return var_list, terms, coeff"
   ]
  },
  {
   "cell_type": "code",
   "execution_count": 3,
   "metadata": {},
   "outputs": [],
   "source": [
    "def gen_terms(var_list, total_degree, term):\n",
    "    '''\n",
    "    var_list is of type deque\n",
    "    '''\n",
    "    terms = []\n",
    "    if len(var_list) == 1:\n",
    "        term *= var_list[0] ** total_degree\n",
    "        terms.append(term)\n",
    "        return terms\n",
    "    elif total_degree == 0:\n",
    "        term *= 1\n",
    "        terms.append(term)\n",
    "        return terms\n",
    "    else:\n",
    "        for i in range(total_degree, -1, -1):\n",
    "            var_list_further = copy.deepcopy(var_list)\n",
    "            var = var_list_further.popleft()\n",
    "            term_further = term * var ** i\n",
    "            terms += gen_terms(var_list_further, total_degree - i, term_further)\n",
    "        return terms"
   ]
  },
  {
   "cell_type": "code",
   "execution_count": 56,
   "metadata": {},
   "outputs": [],
   "source": [
    "v, d, c = init_poly(2, 2, coeff=None)"
   ]
  },
  {
   "cell_type": "code",
   "execution_count": 64,
   "metadata": {},
   "outputs": [
    {
     "data": {
      "text/plain": [
       "[x_0**2, x_0*x_1, x_1**2, x_0, x_1, 1]"
      ]
     },
     "execution_count": 64,
     "metadata": {},
     "output_type": "execute_result"
    }
   ],
   "source": [
    "d # lexicographic order or reveres lexicographic order"
   ]
  },
  {
   "cell_type": "code",
   "execution_count": 58,
   "metadata": {},
   "outputs": [
    {
     "data": {
      "text/plain": [
       "[-33, -63, -93, 94, 24, -5]"
      ]
     },
     "execution_count": 58,
     "metadata": {},
     "output_type": "execute_result"
    }
   ],
   "source": [
    "c"
   ]
  },
  {
   "cell_type": "markdown",
   "metadata": {},
   "source": [
    "### Convert to Quadratic form\n",
    "\n",
    "Given a polynomial (terms, coeffs), and a bases (basis), convert it into the form $b^TQb$, where Q is a matrix. \n",
    "We want to generate the linear equations that constraint Q\n",
    "- Q should be a symmetric matrix"
   ]
  },
  {
   "cell_type": "code",
   "execution_count": 62,
   "metadata": {},
   "outputs": [],
   "source": [
    "basis = init_poly(2, 1, coeff=None)[1]"
   ]
  },
  {
   "cell_type": "code",
   "execution_count": 63,
   "metadata": {},
   "outputs": [
    {
     "data": {
      "text/plain": [
       "[x_0, x_1, 1]"
      ]
     },
     "execution_count": 63,
     "metadata": {},
     "output_type": "execute_result"
    }
   ],
   "source": [
    "basis"
   ]
  },
  {
   "cell_type": "code",
   "execution_count": 59,
   "metadata": {},
   "outputs": [],
   "source": [
    "basis = [1, v[0], v[1]]"
   ]
  },
  {
   "cell_type": "code",
   "execution_count": 65,
   "metadata": {},
   "outputs": [],
   "source": [
    "def gen_monomial_basis(num_of_var, degree):\n",
    "    var_list = deque()\n",
    "    for i in range(num_of_var):\n",
    "        var_list.append(syms('x_' + str(i)))\n",
    "    terms = []\n",
    "    for i in range(degree, -1, -1):\n",
    "        terms += gen_terms(var_list, i, 1)\n",
    "    return terms"
   ]
  },
  {
   "cell_type": "code",
   "execution_count": 66,
   "metadata": {},
   "outputs": [],
   "source": [
    "def gen_linear_system(basis, terms, coeffs):\n",
    "    Q_dim = len(basis)\n",
    "    Q = mtx.zeros(Q_dim)\n",
    "    mtx_var = set()\n",
    "    for i in range(Q_dim):\n",
    "        for j in range(i, Q_dim):\n",
    "            Q[i, j] = (syms('q_(' + str(i) + ')(' + str(j) + ')'))\n",
    "            Q[j, i] = (syms('q_(' + str(i) + ')(' + str(j) + ')'))\n",
    "            mtx_var.add(syms('q_(' + str(i) + ')(' + str(j) + ')'))\n",
    "    quad = basis.T * Q * basis\n",
    "    quad = sp.expand(quad)\n",
    "    r = sp.collect(quad[0], (syms('x_0'), syms('x_1')))\n",
    "    coeff = dict()\n",
    "    for b in basis:\n",
    "        print(b)\n",
    "        args = quad[0].coeff(b).args\n",
    "        coeff[b] = 0\n",
    "        for arg in args:\n",
    "            not_in = True\n",
    "            for b_itr in basis:\n",
    "                if b_itr in arg.free_symbols:\n",
    "                    not_in = False\n",
    "                    break\n",
    "            if not_in == True:\n",
    "                coeff[b] += arg\n",
    "        print(coeff[b])\n",
    "        print('---------')\n",
    "    coeff_list = []\n",
    "    for key in coeff:\n",
    "        coeff_list.append(coeff[key])\n",
    "    A, b = sp.linear_eq_to_matrix(coeff_list, list(mtx_var))\n",
    "    return A, b"
   ]
  },
  {
   "cell_type": "code",
   "execution_count": 67,
   "metadata": {},
   "outputs": [],
   "source": [
    "basis = gen_monomial_basis(2, 1)\n",
    "basis = mtx(basis)"
   ]
  },
  {
   "cell_type": "code",
   "execution_count": 68,
   "metadata": {},
   "outputs": [
    {
     "data": {
      "text/latex": [
       "$\\displaystyle \\left[\\begin{matrix}x_{0}\\\\x_{1}\\\\1\\end{matrix}\\right]$"
      ],
      "text/plain": [
       "Matrix([\n",
       "[x_0],\n",
       "[x_1],\n",
       "[  1]])"
      ]
     },
     "execution_count": 68,
     "metadata": {},
     "output_type": "execute_result"
    }
   ],
   "source": [
    "basis"
   ]
  },
  {
   "cell_type": "code",
   "execution_count": 69,
   "metadata": {},
   "outputs": [
    {
     "name": "stdout",
     "output_type": "stream",
     "text": [
      "x_0\n",
      "2*q_(0)(2)\n",
      "---------\n",
      "x_1\n",
      "2*q_(1)(2)\n",
      "---------\n",
      "1\n",
      "q_(2)(2)\n",
      "---------\n"
     ]
    }
   ],
   "source": [
    "A, b = gen_linear_system(basis, d, c)"
   ]
  },
  {
   "cell_type": "code",
   "execution_count": 70,
   "metadata": {},
   "outputs": [],
   "source": [
    "def condition_num(A, norm = None):\n",
    "    min_dim = min(A.shape)\n",
    "    if A.rank() != min_dim:\n",
    "        return -1 # since condition number is geq 1, this indicate it is not full rank\n",
    "    else:\n",
    "        cond = A.pinv().norm() * A.norm()\n",
    "        return cond"
   ]
  },
  {
   "cell_type": "code",
   "execution_count": 71,
   "metadata": {},
   "outputs": [
    {
     "data": {
      "text/latex": [
       "$\\displaystyle \\frac{3 \\sqrt{6}}{2}$"
      ],
      "text/plain": [
       "3*sqrt(6)/2"
      ]
     },
     "execution_count": 71,
     "metadata": {},
     "output_type": "execute_result"
    }
   ],
   "source": [
    "condition_num(A)"
   ]
  },
  {
   "cell_type": "code",
   "execution_count": 18,
   "metadata": {},
   "outputs": [],
   "source": [
    "Q_dim = len(basis)\n",
    "Q = mtx.zeros(Q_dim)\n",
    "mtx_var = set()\n",
    "for i in range(Q_dim):\n",
    "    for j in range(i, Q_dim):\n",
    "        Q[i, j] = (syms('q_(' + str(i) + ')(' + str(j) + ')'))\n",
    "        Q[j, i] = (syms('q_(' + str(i) + ')(' + str(j) + ')'))\n",
    "        mtx_var.add(syms('q_(' + str(i) + ')(' + str(j) + ')'))"
   ]
  },
  {
   "cell_type": "code",
   "execution_count": 19,
   "metadata": {},
   "outputs": [
    {
     "data": {
      "text/plain": [
       "[q_(2)(2), q_(0)(1), q_(0)(0), q_(0)(2), q_(1)(2), q_(1)(1)]"
      ]
     },
     "execution_count": 19,
     "metadata": {},
     "output_type": "execute_result"
    }
   ],
   "source": [
    "list(mtx_var)"
   ]
  },
  {
   "cell_type": "code",
   "execution_count": 20,
   "metadata": {
    "scrolled": true
   },
   "outputs": [
    {
     "data": {
      "text/latex": [
       "$\\displaystyle \\left[\\begin{matrix}q_{(0)(0)} & q_{(0)(1)} & q_{(0)(2)}\\\\q_{(0)(1)} & q_{(1)(1)} & q_{(1)(2)}\\\\q_{(0)(2)} & q_{(1)(2)} & q_{(2)(2)}\\end{matrix}\\right]$"
      ],
      "text/plain": [
       "Matrix([\n",
       "[q_(0)(0), q_(0)(1), q_(0)(2)],\n",
       "[q_(0)(1), q_(1)(1), q_(1)(2)],\n",
       "[q_(0)(2), q_(1)(2), q_(2)(2)]])"
      ]
     },
     "execution_count": 20,
     "metadata": {},
     "output_type": "execute_result"
    }
   ],
   "source": [
    "Q"
   ]
  },
  {
   "cell_type": "code",
   "execution_count": 21,
   "metadata": {},
   "outputs": [
    {
     "name": "stdout",
     "output_type": "stream",
     "text": [
      "x_0\n",
      "2*q_(0)(2)\n",
      "---------\n",
      "x_1\n",
      "2*q_(1)(2)\n",
      "---------\n",
      "1\n",
      "q_(2)(2)\n",
      "---------\n"
     ]
    }
   ],
   "source": [
    "quad = basis.T * Q * basis\n",
    "quad = sp.expand(quad)\n",
    "r = sp.collect(quad[0], (syms('x_0'), syms('x_1')))\n",
    "A = mtx.zeros(len(basis))\n",
    "coeff = dict()\n",
    "for b in basis:\n",
    "    print(b)\n",
    "    args = quad[0].coeff(b).args\n",
    "    coeff[b] = 0\n",
    "    for arg in args:\n",
    "        not_in = True\n",
    "        for b_itr in basis:\n",
    "            if b_itr in arg.free_symbols:\n",
    "                not_in = False\n",
    "                break\n",
    "        if not_in == True:\n",
    "            coeff[b] += arg\n",
    "    print(coeff[b])\n",
    "    print('---------')\n"
   ]
  },
  {
   "cell_type": "markdown",
   "metadata": {},
   "source": [
    "#### Here should be some experiments to get a statsitical behavior of the condition number"
   ]
  },
  {
   "cell_type": "code",
   "execution_count": 22,
   "metadata": {},
   "outputs": [],
   "source": [
    "\n",
    "coeff_list = []\n",
    "for key in coeff:\n",
    "    coeff_list.append(coeff[key])"
   ]
  },
  {
   "cell_type": "code",
   "execution_count": 23,
   "metadata": {},
   "outputs": [
    {
     "data": {
      "text/plain": [
       "[2*q_(0)(2), 2*q_(1)(2), q_(2)(2)]"
      ]
     },
     "execution_count": 23,
     "metadata": {},
     "output_type": "execute_result"
    }
   ],
   "source": [
    "coeff_list"
   ]
  },
  {
   "cell_type": "code",
   "execution_count": 24,
   "metadata": {},
   "outputs": [],
   "source": [
    "A, b = sp.linear_eq_to_matrix(coeff_list, list(mtx_var))"
   ]
  },
  {
   "cell_type": "code",
   "execution_count": 25,
   "metadata": {},
   "outputs": [
    {
     "data": {
      "text/latex": [
       "$\\displaystyle \\tilde{\\infty}$"
      ],
      "text/plain": [
       "zoo"
      ]
     },
     "execution_count": 25,
     "metadata": {},
     "output_type": "execute_result"
    }
   ],
   "source": [
    "A.condition_number()"
   ]
  },
  {
   "cell_type": "code",
   "execution_count": 26,
   "metadata": {},
   "outputs": [
    {
     "data": {
      "text/plain": [
       "3"
      ]
     },
     "execution_count": 26,
     "metadata": {},
     "output_type": "execute_result"
    }
   ],
   "source": [
    "A.rank()"
   ]
  },
  {
   "cell_type": "code",
   "execution_count": 27,
   "metadata": {},
   "outputs": [
    {
     "data": {
      "text/latex": [
       "$\\displaystyle \\frac{3 \\sqrt{6}}{2}$"
      ],
      "text/plain": [
       "3*sqrt(6)/2"
      ]
     },
     "execution_count": 27,
     "metadata": {},
     "output_type": "execute_result"
    }
   ],
   "source": [
    "A.pinv().norm() * A.norm()"
   ]
  },
  {
   "cell_type": "code",
   "execution_count": null,
   "metadata": {},
   "outputs": [],
   "source": []
  },
  {
   "cell_type": "code",
   "execution_count": 111,
   "metadata": {},
   "outputs": [
    {
     "data": {
      "text/latex": [
       "$\\displaystyle \\left[\\begin{matrix}q_{(0)(0)} x_{0}^{2} + 2 q_{(0)(1)} x_{0} x_{1} + 2 q_{(0)(2)} x_{0} + q_{(1)(1)} x_{1}^{2} + 2 q_{(1)(2)} x_{1} + q_{(2)(2)}\\end{matrix}\\right]$"
      ],
      "text/plain": [
       "Matrix([[q_(0)(0)*x_0**2 + 2*q_(0)(1)*x_0*x_1 + 2*q_(0)(2)*x_0 + q_(1)(1)*x_1**2 + 2*q_(1)(2)*x_1 + q_(2)(2)]])"
      ]
     },
     "execution_count": 111,
     "metadata": {},
     "output_type": "execute_result"
    }
   ],
   "source": [
    "quad"
   ]
  },
  {
   "cell_type": "code",
   "execution_count": 102,
   "metadata": {},
   "outputs": [
    {
     "data": {
      "text/plain": [
       "False"
      ]
     },
     "execution_count": 102,
     "metadata": {},
     "output_type": "execute_result"
    }
   ],
   "source": [
    "syms('x_0') in args[0].free_symbols"
   ]
  },
  {
   "cell_type": "markdown",
   "metadata": {},
   "source": [
    "### Scaled Monomials"
   ]
  },
  {
   "cell_type": "code",
   "execution_count": 6,
   "metadata": {},
   "outputs": [
    {
     "data": {
      "text/latex": [
       "$\\displaystyle 6 a^{2} b + 2 b^{3}$"
      ],
      "text/plain": [
       "6*a**2*b + 2*b**3"
      ]
     },
     "execution_count": 6,
     "metadata": {},
     "output_type": "execute_result"
    }
   ],
   "source": [
    "a = syms('a')\n",
    "b = syms('b')\n",
    "\n",
    "sp.expand((a+b)**3 - (a-b)**3)"
   ]
  },
  {
   "cell_type": "code",
   "execution_count": null,
   "metadata": {},
   "outputs": [],
   "source": [
    "def gen_basis(num_of_var, degree):\n",
    "    basis = []\n",
    "    basis.append()"
   ]
  }
 ],
 "metadata": {
  "kernelspec": {
   "display_name": "Python 3",
   "language": "python",
   "name": "python3"
  },
  "language_info": {
   "codemirror_mode": {
    "name": "ipython",
    "version": 3
   },
   "file_extension": ".py",
   "mimetype": "text/x-python",
   "name": "python",
   "nbconvert_exporter": "python",
   "pygments_lexer": "ipython3",
   "version": "3.8.5"
  }
 },
 "nbformat": 4,
 "nbformat_minor": 4
}
