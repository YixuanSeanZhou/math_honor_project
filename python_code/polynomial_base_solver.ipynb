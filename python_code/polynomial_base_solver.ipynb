{
 "cells": [
  {
   "cell_type": "code",
   "execution_count": 13,
   "metadata": {},
   "outputs": [],
   "source": [
    "import sympy as sp\n",
    "from sympy import Matrix as mtx\n",
    "from sympy import symbols as syms\n",
    "import math\n",
    "from collections import deque\n",
    "import copy\n",
    "import random"
   ]
  },
  {
   "cell_type": "markdown",
   "metadata": {},
   "source": [
    "### Monomials\n",
    "Lets start with monomials"
   ]
  },
  {
   "cell_type": "code",
   "execution_count": 2,
   "metadata": {},
   "outputs": [],
   "source": [
    "def init_mono(var, degree, coeff):\n",
    "    if len(coeff) != degree + 1:\n",
    "        raise Exception(\"Degree coeff doesn't match\")\n",
    "        return\n",
    "    poly = coeff[0]\n",
    "    base = [1]\n",
    "    for i in range(1, degree+1):\n",
    "        base.append(var**i)\n",
    "    return base, coeff"
   ]
  },
  {
   "cell_type": "code",
   "execution_count": 3,
   "metadata": {},
   "outputs": [
    {
     "data": {
      "text/plain": [
       "[1, x, x**2, x**3, x**4]"
      ]
     },
     "execution_count": 3,
     "metadata": {},
     "output_type": "execute_result"
    }
   ],
   "source": [
    "x = syms('x')\n",
    "b, c = init_mono(x, 4, [2, 3, 5, 7, 1])\n",
    "b"
   ]
  },
  {
   "cell_type": "code",
   "execution_count": 4,
   "metadata": {},
   "outputs": [],
   "source": [
    "def init_scaled_mono_basis(var, degree, poly):\n",
    "    p = 1\n",
    "    mb, c = poly\n",
    "    for i in range(1, degree+1):\n",
    "        p *= math.factorial(i)\n",
    "    const = math.factorial(degree) / p\n",
    "    base = [1]\n",
    "    coeff = [c[0]/p]\n",
    "    for i in range(1, degree+1):\n",
    "        base.append(var**i)\n",
    "        coeff.append(c[i] / p)\n",
    "    return base, coeff"
   ]
  },
  {
   "cell_type": "code",
   "execution_count": 5,
   "metadata": {},
   "outputs": [
    {
     "data": {
      "text/plain": [
       "([1, x, x**2, x**3, x**4],\n",
       " [0.006944444444444444,\n",
       "  0.010416666666666666,\n",
       "  0.017361111111111112,\n",
       "  0.024305555555555556,\n",
       "  0.003472222222222222])"
      ]
     },
     "execution_count": 5,
     "metadata": {},
     "output_type": "execute_result"
    }
   ],
   "source": [
    "init_scaled_mono_basis(x, 4, (b, c))"
   ]
  },
  {
   "cell_type": "markdown",
   "metadata": {},
   "source": [
    "# Multivariate Polynomial"
   ]
  },
  {
   "cell_type": "markdown",
   "metadata": {},
   "source": [
    "### Initalize a polynomial using monomial bases"
   ]
  },
  {
   "cell_type": "code",
   "execution_count": 14,
   "metadata": {},
   "outputs": [],
   "source": [
    "def init_poly(var_num, degree, coeff=None):\n",
    "    '''\n",
    "    Init a multivariate polynomial with given num of var and num of degree.\n",
    "    The base used here is monomial\n",
    "    '''\n",
    "    var_list = deque()\n",
    "    for i in range(var_num):\n",
    "        var_list.append(syms('x_' + str(i)))\n",
    "    terms = []\n",
    "    for i in range(degree, -1, -1):\n",
    "        terms += gen_terms(var_list, i, 1)\n",
    "    if coeff == None:\n",
    "        coeff = []\n",
    "        for i in range(len(terms)):\n",
    "            coeff.append(random.randint(-100, 100))\n",
    "    return var_list, terms, coeff"
   ]
  },
  {
   "cell_type": "code",
   "execution_count": 15,
   "metadata": {},
   "outputs": [],
   "source": [
    "def gen_terms(var_list, total_degree, term):\n",
    "    '''\n",
    "    var_list is of type deque\n",
    "    '''\n",
    "    terms = []\n",
    "    if len(var_list) == 1:\n",
    "        term *= var_list[0] ** total_degree\n",
    "        terms.append(term)\n",
    "        return terms\n",
    "    elif total_degree == 0:\n",
    "        term *= 1\n",
    "        terms.append(term)\n",
    "        return terms\n",
    "    else:\n",
    "        for i in range(total_degree, -1, -1):\n",
    "            var_list_further = copy.deepcopy(var_list)\n",
    "            var = var_list_further.popleft()\n",
    "            term_further = term * var ** i\n",
    "            terms += gen_terms(var_list_further, total_degree - i, term_further)\n",
    "        return terms"
   ]
  },
  {
   "cell_type": "code",
   "execution_count": 26,
   "metadata": {},
   "outputs": [],
   "source": [
    "v, d, c = init_poly(2, 2, coeff=None)"
   ]
  },
  {
   "cell_type": "markdown",
   "metadata": {},
   "source": [
    "### Convert to Quadratic form\n",
    "\n",
    "Given a polynomial (terms, coeffs), and a bases (basis), convert it into the form $b^TQb$, where Q is a matrix. \n",
    "We want to generate the linear equations that constraint Q\n",
    "- Q should be a symmetric matrix"
   ]
  },
  {
   "cell_type": "code",
   "execution_count": 27,
   "metadata": {},
   "outputs": [
    {
     "data": {
      "text/plain": [
       "deque([x_0, x_1])"
      ]
     },
     "execution_count": 27,
     "metadata": {},
     "output_type": "execute_result"
    }
   ],
   "source": [
    "v"
   ]
  },
  {
   "cell_type": "code",
   "execution_count": 28,
   "metadata": {},
   "outputs": [
    {
     "data": {
      "text/plain": [
       "[x_0**2, x_0*x_1, x_1**2, x_0, x_1, 1]"
      ]
     },
     "execution_count": 28,
     "metadata": {},
     "output_type": "execute_result"
    }
   ],
   "source": [
    "d"
   ]
  },
  {
   "cell_type": "code",
   "execution_count": 29,
   "metadata": {},
   "outputs": [
    {
     "data": {
      "text/plain": [
       "[-39, -33, 80, 87, 95, 70]"
      ]
     },
     "execution_count": 29,
     "metadata": {},
     "output_type": "execute_result"
    }
   ],
   "source": [
    "c"
   ]
  },
  {
   "cell_type": "code",
   "execution_count": 30,
   "metadata": {},
   "outputs": [],
   "source": [
    "basis = [1, v[0], v[1]]"
   ]
  },
  {
   "cell_type": "code",
   "execution_count": 86,
   "metadata": {},
   "outputs": [],
   "source": [
    "def gen_linear_eq(basis, terms, coeffs):\n",
    "    Q_dim = len(basis)\n",
    "    mtx_var = []\n",
    "    for i in range(Q_dim):\n",
    "        for j in range(i, Q_dim):\n",
    "            mtx_var.append(syms('q_(' + str(i) + ')(' + str(j) + ')'))\n",
    "    A = mtx.zeros(Q_dim)\n",
    "    counter = 0\n",
    "    for i in range(Q_dim):\n",
    "        for j in range(i, Q_dim):\n",
    "            if i == j:\n",
    "                A[i, j] = c[counter]\n",
    "            else:\n",
    "                A[i, j] = 0.5 * c[counter]\n",
    "            counter += 1\n",
    "    return (A, A.condition_number())"
   ]
  },
  {
   "cell_type": "code",
   "execution_count": 88,
   "metadata": {},
   "outputs": [],
   "source": [
    "A, num = gen_linear_eq(basis, d, c)"
   ]
  },
  {
   "cell_type": "code",
   "execution_count": 89,
   "metadata": {},
   "outputs": [
    {
     "data": {
      "text/latex": [
       "$\\displaystyle \\left[\\begin{matrix}-39 & -16.5 & 40.0\\\\0 & 87 & 47.5\\\\0 & 0 & 70\\end{matrix}\\right]$"
      ],
      "text/plain": [
       "Matrix([\n",
       "[-39, -16.5, 40.0],\n",
       "[  0,    87, 47.5],\n",
       "[  0,     0,   70]])"
      ]
     },
     "execution_count": 89,
     "metadata": {},
     "output_type": "execute_result"
    }
   ],
   "source": [
    "A"
   ]
  },
  {
   "cell_type": "code",
   "execution_count": 90,
   "metadata": {},
   "outputs": [
    {
     "data": {
      "text/latex": [
       "$\\displaystyle 3.66054824437078$"
      ],
      "text/plain": [
       "3.66054824437078"
      ]
     },
     "execution_count": 90,
     "metadata": {},
     "output_type": "execute_result"
    }
   ],
   "source": [
    "num"
   ]
  }
 ],
 "metadata": {
  "kernelspec": {
   "display_name": "Python 3",
   "language": "python",
   "name": "python3"
  },
  "language_info": {
   "codemirror_mode": {
    "name": "ipython",
    "version": 3
   },
   "file_extension": ".py",
   "mimetype": "text/x-python",
   "name": "python",
   "nbconvert_exporter": "python",
   "pygments_lexer": "ipython3",
   "version": "3.8.5"
  }
 },
 "nbformat": 4,
 "nbformat_minor": 4
}
