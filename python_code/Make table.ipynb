{
 "cells": [
  {
   "cell_type": "code",
   "execution_count": 1,
   "id": "diverse-treasury",
   "metadata": {},
   "outputs": [],
   "source": [
    "import pandas as pd\n",
    "import os\n",
    "import glob"
   ]
  },
  {
   "cell_type": "code",
   "execution_count": 2,
   "id": "coordinated-driver",
   "metadata": {},
   "outputs": [
    {
     "data": {
      "text/plain": [
       "['monomial_basis.py',\n",
       " 'monomial.py',\n",
       " '.DS_Store',\n",
       " 'Coefficient_Moment_Matrix.ipynb',\n",
       " 'polynomial_base_solver.ipynb',\n",
       " 'exp_runner.py',\n",
       " 'Make table.ipynb',\n",
       " '__pycache__',\n",
       " 'coeff_moment_matrix.py',\n",
       " 'results',\n",
       " 'univariate',\n",
       " '.ipynb_checkpoints',\n",
       " 'src']"
      ]
     },
     "execution_count": 2,
     "metadata": {},
     "output_type": "execute_result"
    }
   ],
   "source": [
    "os.listdir()"
   ]
  },
  {
   "cell_type": "code",
   "execution_count": 3,
   "id": "infectious-oregon",
   "metadata": {},
   "outputs": [],
   "source": [
    "os.chdir('results')"
   ]
  },
  {
   "cell_type": "code",
   "execution_count": 4,
   "id": "square-subscription",
   "metadata": {},
   "outputs": [],
   "source": [
    "os.chdir('univariate')"
   ]
  },
  {
   "cell_type": "code",
   "execution_count": 5,
   "id": "surrounded-austin",
   "metadata": {},
   "outputs": [],
   "source": [
    "a = glob.glob('*.csv')"
   ]
  },
  {
   "cell_type": "code",
   "execution_count": 6,
   "id": "instructional-rabbit",
   "metadata": {},
   "outputs": [
    {
     "data": {
      "text/plain": [
       "['monomial-legendre.csv',\n",
       " 'cheby_second_kind-cheby_second_kind.csv',\n",
       " 'jacobi_a_0_b_0-monomial.csv',\n",
       " 'monomial-jacobi_a_0_b_2.0.csv',\n",
       " 'cheby_second_kind-monomial.csv',\n",
       " 'cheby_first_kind-cheby_second_kind.csv',\n",
       " 'legendre-monomial.csv',\n",
       " 'monomial-cheby_first_kind.csv',\n",
       " 'jacobi_a_0_b_2.0-monomial.csv',\n",
       " 'monomial-cheby_second_kind.csv',\n",
       " 'cheby_first_kind-legendre.csv',\n",
       " 'legendre-cheby_second_kind.csv',\n",
       " 'cheby_second_kind-jacobi_a_0_b_2.0.csv',\n",
       " 'cheby_first_kind-cheby_first_kind.csv',\n",
       " 'jacobi_a_0_b_0-legendre.csv',\n",
       " 'cheby_second_kind-legendre.csv',\n",
       " 'legendre-legendre.csv',\n",
       " 'cheby_first_kind-jacobi_a_0_b_2.0.csv',\n",
       " 'cheby_second_kind-cheby_first_kind.csv',\n",
       " 'legendre-cheby_first_kind.csv',\n",
       " 'monomial-monomial.csv',\n",
       " 'legendre-jacobi_a_0_b_2.0.csv',\n",
       " 'cheby_first_kind-monomial.csv',\n",
       " 'jacobi_a_0_b_2.0-cheby_first_kind.csv',\n",
       " 'jacobi_a_0_b_2.0-cheby_second_kind.csv',\n",
       " 'jacobi_a_0_b_2.0-jacobi_a_0_b_2.0.csv',\n",
       " 'jacobi_a_0_b_2.0-legendre.csv']"
      ]
     },
     "execution_count": 6,
     "metadata": {},
     "output_type": "execute_result"
    }
   ],
   "source": [
    "a"
   ]
  },
  {
   "cell_type": "code",
   "execution_count": null,
   "id": "f3536519",
   "metadata": {},
   "outputs": [],
   "source": []
  },
  {
   "cell_type": "code",
   "execution_count": null,
   "id": "05f3d644",
   "metadata": {},
   "outputs": [],
   "source": []
  },
  {
   "cell_type": "code",
   "execution_count": null,
   "id": "dbbacd83",
   "metadata": {},
   "outputs": [],
   "source": []
  },
  {
   "cell_type": "code",
   "execution_count": null,
   "id": "a1e05052",
   "metadata": {},
   "outputs": [],
   "source": []
  },
  {
   "cell_type": "code",
   "execution_count": 7,
   "id": "plastic-going",
   "metadata": {},
   "outputs": [],
   "source": [
    "df = pd.DataFrame(['Kind', 'Degree', 'Condition Number'])"
   ]
  },
  {
   "cell_type": "code",
   "execution_count": 8,
   "id": "6f08f408",
   "metadata": {},
   "outputs": [],
   "source": [
    "b = pd.read_csv(a[0])"
   ]
  },
  {
   "cell_type": "code",
   "execution_count": 9,
   "id": "33f981f0",
   "metadata": {},
   "outputs": [],
   "source": [
    "pb, mmb = a[0].split('.')[0].split('-')"
   ]
  },
  {
   "cell_type": "code",
   "execution_count": 10,
   "id": "eb796921",
   "metadata": {},
   "outputs": [],
   "source": [
    "x = b['degree']\n",
    "y = b['con_num']"
   ]
  },
  {
   "cell_type": "code",
   "execution_count": 11,
   "id": "d106f8de",
   "metadata": {},
   "outputs": [],
   "source": [
    "from matplotlib import pyplot as plt"
   ]
  },
  {
   "cell_type": "code",
   "execution_count": 12,
   "id": "1ff5e080",
   "metadata": {},
   "outputs": [
    {
     "data": {
      "text/plain": [
       "Text(0.5, 1.0, 'monomial polynomial - legendre moment matrix')"
      ]
     },
     "execution_count": 12,
     "metadata": {},
     "output_type": "execute_result"
    },
    {
     "data": {
      "image/png": "[encoded data removed]",
      "text/plain": [
       "<Figure size 432x288 with 1 Axes>"
      ]
     },
     "metadata": {
      "needs_background": "light"
     },
     "output_type": "display_data"
    }
   ],
   "source": [
    "plt.plot(x, y)\n",
    "plt.title(f'{pb} polynomial - {mmb} moment matrix')\n"
   ]
  },
  {
   "cell_type": "code",
   "execution_count": 13,
   "id": "4b286782",
   "metadata": {},
   "outputs": [],
   "source": [
    "file = 'cheby_second_kind-jacobi_a_0_b_2.0.csv'"
   ]
  },
  {
   "cell_type": "code",
   "execution_count": 14,
   "id": "c7da6833",
   "metadata": {},
   "outputs": [
    {
     "name": "stdout",
     "output_type": "stream",
     "text": [
      "['monomial', 'legendre']\n",
      "['cheby_second_kind', 'cheby_second_kind']\n",
      "['jacobi_a_0_b_0', 'monomial']\n",
      "['monomial', 'jacobi_a_0_b_2.0']\n",
      "['cheby_second_kind', 'monomial']\n",
      "['cheby_first_kind', 'cheby_second_kind']\n",
      "['legendre', 'monomial']\n",
      "['monomial', 'cheby_first_kind']\n",
      "['jacobi_a_0_b_2.0', 'monomial']\n",
      "['monomial', 'cheby_second_kind']\n",
      "['cheby_first_kind', 'legendre']\n",
      "['legendre', 'cheby_second_kind']\n",
      "['cheby_second_kind', 'jacobi_a_0_b_2.0']\n",
      "['cheby_first_kind', 'cheby_first_kind']\n",
      "['jacobi_a_0_b_0', 'legendre']\n",
      "['cheby_second_kind', 'legendre']\n",
      "['legendre', 'legendre']\n",
      "['cheby_first_kind', 'jacobi_a_0_b_2.0']\n",
      "['cheby_second_kind', 'cheby_first_kind']\n",
      "['legendre', 'cheby_first_kind']\n",
      "['monomial', 'monomial']\n",
      "['legendre', 'jacobi_a_0_b_2.0']\n",
      "['cheby_first_kind', 'monomial']\n",
      "['jacobi_a_0_b_2.0', 'cheby_first_kind']\n",
      "['jacobi_a_0_b_2.0', 'cheby_second_kind']\n",
      "['jacobi_a_0_b_2.0', 'jacobi_a_0_b_2.0']\n",
      "['jacobi_a_0_b_2.0', 'legendre']\n"
     ]
    },
    {
     "data": {
      "text/plain": [
       "<Figure size 432x288 with 0 Axes>"
      ]
     },
     "metadata": {},
     "output_type": "display_data"
    }
   ],
   "source": [
    "for file in glob.glob('*.csv'):\n",
    "    b = pd.read_csv(file)\n",
    "    print(file.split('.cs')[0].split('-'))\n",
    "    pb, mmb = file.split('.cs')[0].split('-')\n",
    "    x = b['degree']\n",
    "    y = b['con_num']\n",
    "    plt.plot(x, y)\n",
    "    plt.title(f'{pb} - {mmb}', fontsize=12)\n",
    "    plt.xlabel('max degree', fontsize=10)\n",
    "    plt.ylabel('condition number', fontsize=10)\n",
    "    plt.savefig(f'../uni_imgs/{pb}_{mmb}.png', facecolor='white')\n",
    "    plt.clf()"
   ]
  },
  {
   "cell_type": "code",
   "execution_count": null,
   "id": "4fec8462",
   "metadata": {},
   "outputs": [],
   "source": []
  },
  {
   "cell_type": "code",
   "execution_count": 15,
   "id": "908348bd",
   "metadata": {},
   "outputs": [],
   "source": [
    "os.chdir('../bivariate')"
   ]
  },
  {
   "cell_type": "code",
   "execution_count": 16,
   "id": "38166380",
   "metadata": {},
   "outputs": [
    {
     "name": "stdout",
     "output_type": "stream",
     "text": [
      "['monomial', 'legendre']\n",
      "['cheby_second_kind', 'cheby_second_kind']\n",
      "['cheby_second_kind', 'monomial']\n",
      "['cheby_first_kind', 'cheby_second_kind']\n",
      "['legendre', 'monomial']\n",
      "['monomial', 'cheby_first_kind']\n",
      "['monomial', 'cheby_second_kind']\n",
      "['cheby_first_kind', 'legendre']\n",
      "['legendre', 'cheby_second_kind']\n",
      "['cheby_first_kind', 'cheby_first_kind']\n",
      "['cheby_second_kind', 'legendre']\n",
      "['legendre', 'legendre']\n",
      "['cheby_second_kind', 'cheby_first_kind']\n",
      "['legendre', 'cheby_first_kind']\n",
      "['monomial', 'monomial']\n",
      "['cheby_first_kind', 'monomial']\n"
     ]
    },
    {
     "data": {
      "text/plain": [
       "<Figure size 432x288 with 0 Axes>"
      ]
     },
     "metadata": {},
     "output_type": "display_data"
    }
   ],
   "source": [
    "for file in glob.glob('*.csv'):\n",
    "    b = pd.read_csv(file)\n",
    "    print(file.split('.cs')[0].split('-'))\n",
    "    pb, mmb = file.split('.cs')[0].split('-')\n",
    "    x = b['degree']\n",
    "    y = b['con_num']\n",
    "    plt.plot(x, y)\n",
    "    plt.title(f'{pb} - {mmb}', fontsize=12)\n",
    "    plt.xlabel('max degree', fontsize=10)\n",
    "    plt.ylabel('condition number', fontsize=10)\n",
    "    plt.savefig(f'../bi_imgs/{pb}_{mmb}.png', facecolor='white')\n",
    "    plt.clf()"
   ]
  },
  {
   "cell_type": "code",
   "execution_count": null,
   "id": "d8fe248f",
   "metadata": {},
   "outputs": [],
   "source": []
  },
  {
   "cell_type": "code",
   "execution_count": null,
   "id": "eb8ba228",
   "metadata": {},
   "outputs": [],
   "source": []
  },
  {
   "cell_type": "code",
   "execution_count": null,
   "id": "478fa042",
   "metadata": {},
   "outputs": [],
   "source": []
  },
  {
   "cell_type": "code",
   "execution_count": null,
   "id": "0e5b7a4b",
   "metadata": {},
   "outputs": [],
   "source": []
  },
  {
   "cell_type": "code",
   "execution_count": null,
   "id": "553a7c3b",
   "metadata": {},
   "outputs": [],
   "source": []
  },
  {
   "cell_type": "code",
   "execution_count": 8,
   "id": "egyptian-virgin",
   "metadata": {},
   "outputs": [],
   "source": [
    "b = pd.read_csv(a[0])"
   ]
  },
  {
   "cell_type": "code",
   "execution_count": 9,
   "id": "dress-arbor",
   "metadata": {},
   "outputs": [
    {
     "data": {
      "text/html": [
       "<div>\n",
       "<style scoped>\n",
       "    .dataframe tbody tr th:only-of-type {\n",
       "        vertical-align: middle;\n",
       "    }\n",
       "\n",
       "    .dataframe tbody tr th {\n",
       "        vertical-align: top;\n",
       "    }\n",
       "\n",
       "    .dataframe thead th {\n",
       "        text-align: right;\n",
       "    }\n",
       "</style>\n",
       "<table border=\"1\" class=\"dataframe\">\n",
       "  <thead>\n",
       "    <tr style=\"text-align: right;\">\n",
       "      <th></th>\n",
       "      <th>degree</th>\n",
       "      <th>con_num</th>\n",
       "    </tr>\n",
       "  </thead>\n",
       "  <tbody>\n",
       "    <tr>\n",
       "      <th>0</th>\n",
       "      <td>2</td>\n",
       "      <td>3.674235</td>\n",
       "    </tr>\n",
       "    <tr>\n",
       "      <th>1</th>\n",
       "      <td>4</td>\n",
       "      <td>11.014696</td>\n",
       "    </tr>\n",
       "    <tr>\n",
       "      <th>2</th>\n",
       "      <td>6</td>\n",
       "      <td>46.035892</td>\n",
       "    </tr>\n",
       "    <tr>\n",
       "      <th>3</th>\n",
       "      <td>8</td>\n",
       "      <td>243.951983</td>\n",
       "    </tr>\n",
       "    <tr>\n",
       "      <th>4</th>\n",
       "      <td>10</td>\n",
       "      <td>1230.775668</td>\n",
       "    </tr>\n",
       "    <tr>\n",
       "      <th>5</th>\n",
       "      <td>12</td>\n",
       "      <td>6805.717379</td>\n",
       "    </tr>\n",
       "    <tr>\n",
       "      <th>6</th>\n",
       "      <td>14</td>\n",
       "      <td>36438.525157</td>\n",
       "    </tr>\n",
       "  </tbody>\n",
       "</table>\n",
       "</div>"
      ],
      "text/plain": [
       "   degree       con_num\n",
       "0       2      3.674235\n",
       "1       4     11.014696\n",
       "2       6     46.035892\n",
       "3       8    243.951983\n",
       "4      10   1230.775668\n",
       "5      12   6805.717379\n",
       "6      14  36438.525157"
      ]
     },
     "execution_count": 9,
     "metadata": {},
     "output_type": "execute_result"
    }
   ],
   "source": [
    "b"
   ]
  },
  {
   "cell_type": "code",
   "execution_count": 10,
   "id": "looking-syndrome",
   "metadata": {},
   "outputs": [],
   "source": [
    "df = pd.DataFrame()\n",
    "for r in a:\n",
    "    kind = r.replace('.csv', '')\n",
    "    b = pd.read_csv(r)\n",
    "    b.rename(columns={\"degree\": \"Degree\", \"con_num\": \"Condition Number\"})\n",
    "    b['Kind'] = kind\n",
    "    df = df.append(b)"
   ]
  },
  {
   "cell_type": "code",
   "execution_count": 11,
   "id": "according-uganda",
   "metadata": {},
   "outputs": [
    {
     "data": {
      "text/html": [
       "<div>\n",
       "<style scoped>\n",
       "    .dataframe tbody tr th:only-of-type {\n",
       "        vertical-align: middle;\n",
       "    }\n",
       "\n",
       "    .dataframe tbody tr th {\n",
       "        vertical-align: top;\n",
       "    }\n",
       "\n",
       "    .dataframe thead th {\n",
       "        text-align: right;\n",
       "    }\n",
       "</style>\n",
       "<table border=\"1\" class=\"dataframe\">\n",
       "  <thead>\n",
       "    <tr style=\"text-align: right;\">\n",
       "      <th></th>\n",
       "      <th>degree</th>\n",
       "      <th>con_num</th>\n",
       "      <th>Kind</th>\n",
       "    </tr>\n",
       "  </thead>\n",
       "  <tbody>\n",
       "    <tr>\n",
       "      <th>3</th>\n",
       "      <td>8</td>\n",
       "      <td>1.637741e+01</td>\n",
       "      <td>cheby_first_kind_cheby_first_kind</td>\n",
       "    </tr>\n",
       "    <tr>\n",
       "      <th>3</th>\n",
       "      <td>8</td>\n",
       "      <td>2.277155e+01</td>\n",
       "      <td>cheby_first_kind_cheby_second_kind</td>\n",
       "    </tr>\n",
       "    <tr>\n",
       "      <th>3</th>\n",
       "      <td>8</td>\n",
       "      <td>-1.000000e+00</td>\n",
       "      <td>cheby_first_kind_jacobi_a_0_b_2.0</td>\n",
       "    </tr>\n",
       "    <tr>\n",
       "      <th>3</th>\n",
       "      <td>8</td>\n",
       "      <td>1.355827e+01</td>\n",
       "      <td>cheby_first_kind_legendre</td>\n",
       "    </tr>\n",
       "    <tr>\n",
       "      <th>3</th>\n",
       "      <td>8</td>\n",
       "      <td>2.439520e+02</td>\n",
       "      <td>cheby_first_kind_monomial</td>\n",
       "    </tr>\n",
       "    <tr>\n",
       "      <th>3</th>\n",
       "      <td>8</td>\n",
       "      <td>5.386189e+01</td>\n",
       "      <td>cheby_second_kind_cheby_first_kind</td>\n",
       "    </tr>\n",
       "    <tr>\n",
       "      <th>3</th>\n",
       "      <td>8</td>\n",
       "      <td>1.760474e+01</td>\n",
       "      <td>cheby_second_kind_cheby_second_kind</td>\n",
       "    </tr>\n",
       "    <tr>\n",
       "      <th>3</th>\n",
       "      <td>8</td>\n",
       "      <td>-1.000000e+00</td>\n",
       "      <td>cheby_second_kind_jacobi_a_0_b_2.0</td>\n",
       "    </tr>\n",
       "    <tr>\n",
       "      <th>3</th>\n",
       "      <td>8</td>\n",
       "      <td>2.939944e+01</td>\n",
       "      <td>cheby_second_kind_legendre</td>\n",
       "    </tr>\n",
       "    <tr>\n",
       "      <th>3</th>\n",
       "      <td>8</td>\n",
       "      <td>4.489450e+02</td>\n",
       "      <td>cheby_second_kind_monomial</td>\n",
       "    </tr>\n",
       "    <tr>\n",
       "      <th>3</th>\n",
       "      <td>8</td>\n",
       "      <td>1.869968e+01</td>\n",
       "      <td>jacobi_a_0_b_0_legendre</td>\n",
       "    </tr>\n",
       "    <tr>\n",
       "      <th>3</th>\n",
       "      <td>8</td>\n",
       "      <td>8.548209e+01</td>\n",
       "      <td>jacobi_a_0_b_0_monomial</td>\n",
       "    </tr>\n",
       "    <tr>\n",
       "      <th>3</th>\n",
       "      <td>8</td>\n",
       "      <td>2.377530e+04</td>\n",
       "      <td>jacobi_a_0_b_2.0_cheby_first_kind</td>\n",
       "    </tr>\n",
       "    <tr>\n",
       "      <th>3</th>\n",
       "      <td>8</td>\n",
       "      <td>2.819849e+06</td>\n",
       "      <td>jacobi_a_0_b_2.0_cheby_second_kind</td>\n",
       "    </tr>\n",
       "    <tr>\n",
       "      <th>3</th>\n",
       "      <td>8</td>\n",
       "      <td>7.528664e+02</td>\n",
       "      <td>jacobi_a_0_b_2.0_jacobi_a_0_b_2.0</td>\n",
       "    </tr>\n",
       "    <tr>\n",
       "      <th>3</th>\n",
       "      <td>8</td>\n",
       "      <td>2.274737e+09</td>\n",
       "      <td>jacobi_a_0_b_2.0_legendre</td>\n",
       "    </tr>\n",
       "    <tr>\n",
       "      <th>3</th>\n",
       "      <td>8</td>\n",
       "      <td>-1.000000e+00</td>\n",
       "      <td>jacobi_a_0_b_2.0_monomial</td>\n",
       "    </tr>\n",
       "    <tr>\n",
       "      <th>3</th>\n",
       "      <td>8</td>\n",
       "      <td>3.990572e+01</td>\n",
       "      <td>legendre_cheby_first_kind</td>\n",
       "    </tr>\n",
       "    <tr>\n",
       "      <th>3</th>\n",
       "      <td>8</td>\n",
       "      <td>3.296959e+01</td>\n",
       "      <td>legendre_cheby_second_kind</td>\n",
       "    </tr>\n",
       "    <tr>\n",
       "      <th>3</th>\n",
       "      <td>8</td>\n",
       "      <td>-1.000000e+00</td>\n",
       "      <td>legendre_jacobi_a_0_b_2.0</td>\n",
       "    </tr>\n",
       "    <tr>\n",
       "      <th>3</th>\n",
       "      <td>8</td>\n",
       "      <td>1.869968e+01</td>\n",
       "      <td>legendre_legendre</td>\n",
       "    </tr>\n",
       "    <tr>\n",
       "      <th>3</th>\n",
       "      <td>8</td>\n",
       "      <td>8.548209e+01</td>\n",
       "      <td>legendre_monomial</td>\n",
       "    </tr>\n",
       "    <tr>\n",
       "      <th>3</th>\n",
       "      <td>8</td>\n",
       "      <td>9.293179e+02</td>\n",
       "      <td>monomial_cheby_first_kind</td>\n",
       "    </tr>\n",
       "    <tr>\n",
       "      <th>3</th>\n",
       "      <td>8</td>\n",
       "      <td>7.342680e+02</td>\n",
       "      <td>monomial_cheby_second_kind</td>\n",
       "    </tr>\n",
       "    <tr>\n",
       "      <th>3</th>\n",
       "      <td>8</td>\n",
       "      <td>-1.000000e+00</td>\n",
       "      <td>monomial_jacobi_a_0_b_2.0</td>\n",
       "    </tr>\n",
       "    <tr>\n",
       "      <th>3</th>\n",
       "      <td>8</td>\n",
       "      <td>3.409407e+02</td>\n",
       "      <td>monomial_legendre</td>\n",
       "    </tr>\n",
       "    <tr>\n",
       "      <th>3</th>\n",
       "      <td>8</td>\n",
       "      <td>1.211404e+01</td>\n",
       "      <td>monomial_monomial</td>\n",
       "    </tr>\n",
       "  </tbody>\n",
       "</table>\n",
       "</div>"
      ],
      "text/plain": [
       "   degree       con_num                                 Kind\n",
       "3       8  1.637741e+01    cheby_first_kind_cheby_first_kind\n",
       "3       8  2.277155e+01   cheby_first_kind_cheby_second_kind\n",
       "3       8 -1.000000e+00    cheby_first_kind_jacobi_a_0_b_2.0\n",
       "3       8  1.355827e+01            cheby_first_kind_legendre\n",
       "3       8  2.439520e+02            cheby_first_kind_monomial\n",
       "3       8  5.386189e+01   cheby_second_kind_cheby_first_kind\n",
       "3       8  1.760474e+01  cheby_second_kind_cheby_second_kind\n",
       "3       8 -1.000000e+00   cheby_second_kind_jacobi_a_0_b_2.0\n",
       "3       8  2.939944e+01           cheby_second_kind_legendre\n",
       "3       8  4.489450e+02           cheby_second_kind_monomial\n",
       "3       8  1.869968e+01              jacobi_a_0_b_0_legendre\n",
       "3       8  8.548209e+01              jacobi_a_0_b_0_monomial\n",
       "3       8  2.377530e+04    jacobi_a_0_b_2.0_cheby_first_kind\n",
       "3       8  2.819849e+06   jacobi_a_0_b_2.0_cheby_second_kind\n",
       "3       8  7.528664e+02    jacobi_a_0_b_2.0_jacobi_a_0_b_2.0\n",
       "3       8  2.274737e+09            jacobi_a_0_b_2.0_legendre\n",
       "3       8 -1.000000e+00            jacobi_a_0_b_2.0_monomial\n",
       "3       8  3.990572e+01            legendre_cheby_first_kind\n",
       "3       8  3.296959e+01           legendre_cheby_second_kind\n",
       "3       8 -1.000000e+00            legendre_jacobi_a_0_b_2.0\n",
       "3       8  1.869968e+01                    legendre_legendre\n",
       "3       8  8.548209e+01                    legendre_monomial\n",
       "3       8  9.293179e+02            monomial_cheby_first_kind\n",
       "3       8  7.342680e+02           monomial_cheby_second_kind\n",
       "3       8 -1.000000e+00            monomial_jacobi_a_0_b_2.0\n",
       "3       8  3.409407e+02                    monomial_legendre\n",
       "3       8  1.211404e+01                    monomial_monomial"
      ]
     },
     "execution_count": 11,
     "metadata": {},
     "output_type": "execute_result"
    }
   ],
   "source": [
    "df.loc[(df['degree'] == 8)].sort_values('Kind')"
   ]
  },
  {
   "cell_type": "code",
   "execution_count": 12,
   "id": "noble-procedure",
   "metadata": {},
   "outputs": [],
   "source": [
    "df_eight = df.loc[(df['degree'] == 8)].sort_values('Kind')"
   ]
  },
  {
   "cell_type": "code",
   "execution_count": 13,
   "id": "elder-donna",
   "metadata": {},
   "outputs": [
    {
     "ename": "NameError",
     "evalue": "name 'knids' is not defined",
     "output_type": "error",
     "traceback": [
      "\u001b[0;31m---------------------------------------------------------------------------\u001b[0m",
      "\u001b[0;31mNameError\u001b[0m                                 Traceback (most recent call last)",
      "\u001b[0;32m<ipython-input-13-88d758ff088e>\u001b[0m in \u001b[0;36m<module>\u001b[0;34m\u001b[0m\n\u001b[0;32m----> 1\u001b[0;31m \u001b[0mdf_eight\u001b[0m\u001b[0;34m.\u001b[0m\u001b[0mloc\u001b[0m\u001b[0;34m[\u001b[0m\u001b[0mdf_eight\u001b[0m\u001b[0;34m[\u001b[0m\u001b[0;34m'Kind'\u001b[0m\u001b[0;34m]\u001b[0m\u001b[0;34m.\u001b[0m\u001b[0misin\u001b[0m\u001b[0;34m(\u001b[0m\u001b[0mknids\u001b[0m\u001b[0;34m)\u001b[0m\u001b[0;34m]\u001b[0m\u001b[0;34m\u001b[0m\u001b[0;34m\u001b[0m\u001b[0m\n\u001b[0m",
      "\u001b[0;31mNameError\u001b[0m: name 'knids' is not defined"
     ]
    }
   ],
   "source": [
    "df_eight.loc[df_eight['Kind'].isin(knids)]"
   ]
  },
  {
   "cell_type": "code",
   "execution_count": 14,
   "id": "determined-foundation",
   "metadata": {},
   "outputs": [],
   "source": [
    "os.chdir('../bivariate')"
   ]
  },
  {
   "cell_type": "code",
   "execution_count": 35,
   "id": "moral-acrylic",
   "metadata": {},
   "outputs": [],
   "source": [
    "a = glob.glob('*.csv')"
   ]
  },
  {
   "cell_type": "code",
   "execution_count": 36,
   "id": "atmospheric-relaxation",
   "metadata": {},
   "outputs": [],
   "source": [
    "bdf = pd.DataFrame()\n",
    "for r in a:\n",
    "    kind = r.replace('.csv', '')\n",
    "    b = pd.read_csv(r)\n",
    "    b.rename(columns={\"degree\": \"Degree\", \"con_num\": \"Condition Number\"})\n",
    "    b['Kind'] = kind\n",
    "    bdf = bdf.append(b)"
   ]
  },
  {
   "cell_type": "code",
   "execution_count": 48,
   "id": "grave-return",
   "metadata": {},
   "outputs": [],
   "source": [
    "pd.set_option('display.float_format', '{:.7e}'.format)"
   ]
  },
  {
   "cell_type": "code",
   "execution_count": 67,
   "id": "baking-bermuda",
   "metadata": {},
   "outputs": [],
   "source": [
    "knids = bdf.loc[bdf['degree'] == 8].sort_values('Kind')['Kind']"
   ]
  },
  {
   "cell_type": "code",
   "execution_count": 49,
   "id": "intended-daisy",
   "metadata": {},
   "outputs": [
    {
     "data": {
      "text/html": [
       "<div>\n",
       "<style scoped>\n",
       "    .dataframe tbody tr th:only-of-type {\n",
       "        vertical-align: middle;\n",
       "    }\n",
       "\n",
       "    .dataframe tbody tr th {\n",
       "        vertical-align: top;\n",
       "    }\n",
       "\n",
       "    .dataframe thead th {\n",
       "        text-align: right;\n",
       "    }\n",
       "</style>\n",
       "<table border=\"1\" class=\"dataframe\">\n",
       "  <thead>\n",
       "    <tr style=\"text-align: right;\">\n",
       "      <th></th>\n",
       "      <th>degree</th>\n",
       "      <th>con_num</th>\n",
       "      <th>Kind</th>\n",
       "    </tr>\n",
       "  </thead>\n",
       "  <tbody>\n",
       "    <tr>\n",
       "      <th>3</th>\n",
       "      <td>8</td>\n",
       "      <td>8.2741589e+01</td>\n",
       "      <td>cheby_first_kind_cheby_first_kind</td>\n",
       "    </tr>\n",
       "    <tr>\n",
       "      <th>3</th>\n",
       "      <td>8</td>\n",
       "      <td>1.2690227e+02</td>\n",
       "      <td>cheby_first_kind_cheby_second_kind</td>\n",
       "    </tr>\n",
       "    <tr>\n",
       "      <th>3</th>\n",
       "      <td>8</td>\n",
       "      <td>7.2356027e+01</td>\n",
       "      <td>cheby_first_kind_legendre</td>\n",
       "    </tr>\n",
       "    <tr>\n",
       "      <th>3</th>\n",
       "      <td>8</td>\n",
       "      <td>8.2003242e+02</td>\n",
       "      <td>cheby_first_kind_monomial</td>\n",
       "    </tr>\n",
       "    <tr>\n",
       "      <th>3</th>\n",
       "      <td>8</td>\n",
       "      <td>4.7372727e+02</td>\n",
       "      <td>cheby_second_kind_cheby_first_kind</td>\n",
       "    </tr>\n",
       "    <tr>\n",
       "      <th>3</th>\n",
       "      <td>8</td>\n",
       "      <td>9.5693596e+01</td>\n",
       "      <td>cheby_second_kind_cheby_second_kind</td>\n",
       "    </tr>\n",
       "    <tr>\n",
       "      <th>3</th>\n",
       "      <td>8</td>\n",
       "      <td>2.0181265e+02</td>\n",
       "      <td>cheby_second_kind_legendre</td>\n",
       "    </tr>\n",
       "    <tr>\n",
       "      <th>3</th>\n",
       "      <td>8</td>\n",
       "      <td>1.3583584e+03</td>\n",
       "      <td>cheby_second_kind_monomial</td>\n",
       "    </tr>\n",
       "    <tr>\n",
       "      <th>3</th>\n",
       "      <td>8</td>\n",
       "      <td>1.9649165e+02</td>\n",
       "      <td>legendre_cheby_first_kind</td>\n",
       "    </tr>\n",
       "    <tr>\n",
       "      <th>3</th>\n",
       "      <td>8</td>\n",
       "      <td>1.4316038e+02</td>\n",
       "      <td>legendre_cheby_second_kind</td>\n",
       "    </tr>\n",
       "    <tr>\n",
       "      <th>3</th>\n",
       "      <td>8</td>\n",
       "      <td>9.3276473e+01</td>\n",
       "      <td>legendre_legendre</td>\n",
       "    </tr>\n",
       "    <tr>\n",
       "      <th>3</th>\n",
       "      <td>8</td>\n",
       "      <td>3.0351806e+02</td>\n",
       "      <td>legendre_monomial</td>\n",
       "    </tr>\n",
       "    <tr>\n",
       "      <th>3</th>\n",
       "      <td>8</td>\n",
       "      <td>3.8821664e+03</td>\n",
       "      <td>monomial_cheby_first_kind</td>\n",
       "    </tr>\n",
       "    <tr>\n",
       "      <th>3</th>\n",
       "      <td>8</td>\n",
       "      <td>2.2060581e+03</td>\n",
       "      <td>monomial_cheby_second_kind</td>\n",
       "    </tr>\n",
       "    <tr>\n",
       "      <th>3</th>\n",
       "      <td>8</td>\n",
       "      <td>1.3954908e+03</td>\n",
       "      <td>monomial_legendre</td>\n",
       "    </tr>\n",
       "    <tr>\n",
       "      <th>3</th>\n",
       "      <td>8</td>\n",
       "      <td>6.0303522e+01</td>\n",
       "      <td>monomial_monomial</td>\n",
       "    </tr>\n",
       "  </tbody>\n",
       "</table>\n",
       "</div>"
      ],
      "text/plain": [
       "   degree       con_num                                 Kind\n",
       "3       8 8.2741589e+01    cheby_first_kind_cheby_first_kind\n",
       "3       8 1.2690227e+02   cheby_first_kind_cheby_second_kind\n",
       "3       8 7.2356027e+01            cheby_first_kind_legendre\n",
       "3       8 8.2003242e+02            cheby_first_kind_monomial\n",
       "3       8 4.7372727e+02   cheby_second_kind_cheby_first_kind\n",
       "3       8 9.5693596e+01  cheby_second_kind_cheby_second_kind\n",
       "3       8 2.0181265e+02           cheby_second_kind_legendre\n",
       "3       8 1.3583584e+03           cheby_second_kind_monomial\n",
       "3       8 1.9649165e+02            legendre_cheby_first_kind\n",
       "3       8 1.4316038e+02           legendre_cheby_second_kind\n",
       "3       8 9.3276473e+01                    legendre_legendre\n",
       "3       8 3.0351806e+02                    legendre_monomial\n",
       "3       8 3.8821664e+03            monomial_cheby_first_kind\n",
       "3       8 2.2060581e+03           monomial_cheby_second_kind\n",
       "3       8 1.3954908e+03                    monomial_legendre\n",
       "3       8 6.0303522e+01                    monomial_monomial"
      ]
     },
     "execution_count": 49,
     "metadata": {},
     "output_type": "execute_result"
    }
   ],
   "source": [
    "bdf.loc[bdf['degree'] == 8].sort_values('Kind')"
   ]
  },
  {
   "cell_type": "code",
   "execution_count": 21,
   "id": "innovative-opportunity",
   "metadata": {},
   "outputs": [
    {
     "data": {
      "text/plain": [
       "['cheby_first_kind_cheby_first_kind',\n",
       " 'cheby_first_kind_cheby_second_kind',\n",
       " 'cheby_first_kind_legendre',\n",
       " 'cheby_first_kind_monomial',\n",
       " 'cheby_second_kind_cheby_first_kind',\n",
       " 'cheby_second_kind_cheby_second_kind',\n",
       " 'cheby_second_kind_legendre',\n",
       " 'cheby_second_kind_monomial',\n",
       " 'legendre_cheby_first_kind',\n",
       " 'legendre_cheby_second_kind',\n",
       " 'legendre_legendre',\n",
       " 'legendre_monomial',\n",
       " 'monomial_cheby_first_kind',\n",
       " 'monomial_cheby_second_kind',\n",
       " 'monomial_legendre',\n",
       " 'monomial_monomial']"
      ]
     },
     "execution_count": 21,
     "metadata": {},
     "output_type": "execute_result"
    }
   ],
   "source": [
    "a"
   ]
  },
  {
   "cell_type": "code",
   "execution_count": null,
   "id": "advanced-adventure",
   "metadata": {},
   "outputs": [],
   "source": []
  },
  {
   "cell_type": "code",
   "execution_count": null,
   "id": "c7ab3027",
   "metadata": {},
   "outputs": [],
   "source": []
  },
  {
   "cell_type": "code",
   "execution_count": null,
   "id": "81f4a6eb",
   "metadata": {},
   "outputs": [],
   "source": []
  },
  {
   "cell_type": "code",
   "execution_count": null,
   "id": "0d305038",
   "metadata": {},
   "outputs": [],
   "source": []
  },
  {
   "cell_type": "code",
   "execution_count": null,
   "id": "48de379f",
   "metadata": {},
   "outputs": [],
   "source": []
  },
  {
   "cell_type": "code",
   "execution_count": null,
   "id": "e2d564c7",
   "metadata": {},
   "outputs": [],
   "source": []
  },
  {
   "cell_type": "code",
   "execution_count": 1,
   "id": "ef48eab1",
   "metadata": {},
   "outputs": [],
   "source": [
    "# Make path picture"
   ]
  },
  {
   "cell_type": "code",
   "execution_count": 4,
   "id": "f225f87a",
   "metadata": {},
   "outputs": [],
   "source": [
    "import numpy as np\n",
    "from matplotlib import pyplot as plt"
   ]
  },
  {
   "cell_type": "code",
   "execution_count": 36,
   "id": "80a7358e",
   "metadata": {},
   "outputs": [
    {
     "name": "stderr",
     "output_type": "stream",
     "text": [
      "/var/folders/lw/vyvyjgw97l7_z65y1g_kdn8c0000gn/T/ipykernel_58778/1397224240.py:3: RuntimeWarning: invalid value encountered in log\n",
      "  ax.plot(x, -np.log(-x), color='b', linestyle='--')\n",
      "/var/folders/lw/vyvyjgw97l7_z65y1g_kdn8c0000gn/T/ipykernel_58778/1397224240.py:4: RuntimeWarning: invalid value encountered in log\n",
      "  ax.plot(x, -1/0.2 *np.log(-x), color='b', linestyle='--')\n",
      "/var/folders/lw/vyvyjgw97l7_z65y1g_kdn8c0000gn/T/ipykernel_58778/1397224240.py:5: RuntimeWarning: invalid value encountered in log\n",
      "  ax.plot(x, -1/2 *np.log(-x), color='b', linestyle='--')\n"
     ]
    },
    {
     "data": {
      "text/plain": [
       "<matplotlib.collections.LineCollection at 0x10f405ac0>"
      ]
     },
     "execution_count": 36,
     "metadata": {},
     "output_type": "execute_result"
    },
    {
     "data": {
      "image/png": "[encoded data removed]",
      "text/plain": [
       "<Figure size 432x288 with 1 Axes>"
      ]
     },
     "metadata": {
      "needs_background": "light"
     },
     "output_type": "display_data"
    }
   ],
   "source": [
    "x = np.linspace(-1,0.0001,1000)\n",
    "fig, ax = plt.subplots()\n",
    "ax.plot(x, -np.log(-x), color='b', linestyle='--')\n",
    "ax.plot(x, -1/0.2 *np.log(-x), color='b', linestyle='--')\n",
    "ax.plot(x, -1/2 *np.log(-x), color='b', linestyle='--')\n",
    "ax.vlines(0, 0, 40, color='r')\n",
    "ax.hlines(0, -1, 0, color='r')\n",
    "# ax.set_aspect('equal')\n",
    "# ax.grid(True, which='both')"
   ]
  },
  {
   "cell_type": "code",
   "execution_count": 38,
   "id": "5bb6f0dc",
   "metadata": {},
   "outputs": [],
   "source": [
    "fig.savefig('log_barrier.jpeg')"
   ]
  },
  {
   "cell_type": "code",
   "execution_count": null,
   "id": "0ab26ec1",
   "metadata": {},
   "outputs": [],
   "source": []
  }
 ],
 "metadata": {
  "kernelspec": {
   "display_name": "Python 3 (ipykernel)",
   "language": "python",
   "name": "python3"
  },
  "language_info": {
   "codemirror_mode": {
    "name": "ipython",
    "version": 3
   },
   "file_extension": ".py",
   "mimetype": "text/x-python",
   "name": "python",
   "nbconvert_exporter": "python",
   "pygments_lexer": "ipython3",
   "version": "3.9.9"
  }
 },
 "nbformat": 4,
 "nbformat_minor": 5
}
