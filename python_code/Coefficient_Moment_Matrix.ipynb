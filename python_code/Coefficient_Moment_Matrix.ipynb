{
 "cells": [
  {
   "cell_type": "code",
   "execution_count": 1,
   "metadata": {},
   "outputs": [],
   "source": [
    "import sympy as sp\n",
    "from sympy import Matrix as spmtx\n",
    "from sympy import *\n",
    "from sympy import symbols as syms\n",
    "from sympy.utilities.lambdify import lambdify, lambdastr\n",
    "import math\n",
    "from collections import deque\n",
    "import copy\n",
    "import random\n",
    "import numpy as np\n",
    "import time\n",
    "from scipy import integrate as integ\n",
    "import matplotlib.pyplot as plt"
   ]
  },
  {
   "cell_type": "code",
   "execution_count": 2,
   "metadata": {},
   "outputs": [],
   "source": [
    "avaliable_classes = ['mono_poly']"
   ]
  },
  {
   "cell_type": "code",
   "execution_count": 3,
   "metadata": {},
   "outputs": [],
   "source": [
    "def condition_num(A, norm = None):\n",
    "    min_dim = min(A.shape)\n",
    "    if A.rank() != min_dim:\n",
    "        return -1 # since condition number is geq 1, this indicate it is not full rank\n",
    "    else:\n",
    "        npA = np.array(A).astype(np.float64)\n",
    "        cond = np.linalg.norm(np.linalg.pinv(npA)) * np.linalg.norm(npA)\n",
    "        # cond = A.pinv().norm() * A.norm()\n",
    "        return cond"
   ]
  },
  {
   "cell_type": "code",
   "execution_count": 4,
   "metadata": {},
   "outputs": [],
   "source": [
    "def get_class_name(obj):\n",
    "    return obj.__class__.__name__"
   ]
  },
  {
   "cell_type": "code",
   "execution_count": 5,
   "metadata": {},
   "outputs": [],
   "source": [
    "class mono_poly:\n",
    "    \n",
    "    def _gen_terms(self, var_list, total_degree, term):\n",
    "        '''\n",
    "        var_list is of type deque\n",
    "        '''\n",
    "        terms = []\n",
    "        if len(var_list) == 1:\n",
    "            term *= var_list[0] ** total_degree\n",
    "            terms.append(term)\n",
    "            return terms\n",
    "        elif total_degree == 0:\n",
    "            term *= 1\n",
    "            terms.append(term)\n",
    "            return terms\n",
    "        else:\n",
    "            for i in range(total_degree, -1, -1):\n",
    "                var_list_further = copy.deepcopy(var_list)\n",
    "                var = var_list_further.popleft()\n",
    "                term_further = term * var ** i\n",
    "                terms += self._gen_terms(var_list_further, total_degree - i, term_further)\n",
    "            return terms\n",
    "    \n",
    "    def __init__(self, deg, var_num, coeff=None):\n",
    "        '''\n",
    "        Init a multivariate polynomial with given num of var and num of degree.\n",
    "        The base used here is monomial\n",
    "        '''\n",
    "        self.degree = deg\n",
    "        self.var_num = var_num\n",
    "        var_list = deque()\n",
    "        for i in range(var_num):\n",
    "            var_list.append(syms('x_' + str(i)))\n",
    "        self.var_list = var_list\n",
    "        terms = []\n",
    "        for i in range(deg, -1, -1):\n",
    "            terms += self._gen_terms(self.var_list, i, 1)\n",
    "        self.base = terms\n",
    "        self.term = terms\n",
    "        self.base_vec = spmtx(terms)\n",
    "        if coeff == None:\n",
    "            pass\n",
    "            # coeff = []\n",
    "            # for i in range(len(terms)):\n",
    "            #     coeff.append(random.randint(-100, 100))\n",
    "            # coeff = numpy.array(coeff)\n",
    "        self.coeff = coeff\n",
    "    \n",
    "    def c_extract_map(self, poly, basis, num_var=0):\n",
    "        \"\"\"\n",
    "        Return the coeff of the poly input. \n",
    "        \"\"\"\n",
    "        c = poly.coeff(basis)\n",
    "        if len(c.free_symbols) == 0:\n",
    "            return c\n",
    "        else:\n",
    "            return sp.core.numbers.Zero()"
   ]
  },
  {
   "cell_type": "code",
   "execution_count": 6,
   "metadata": {},
   "outputs": [],
   "source": [
    "def gen_mmoment_matrix(base_vec):\n",
    "    m_mtx = base_vec * spmtx.transpose(base_vec)\n",
    "    for i in range(m_mtx.shape[0]):\n",
    "        for j in range(m_mtx.shape[1]):\n",
    "            m_mtx[i, j] = sp.expand(m_mtx[i, j])\n",
    "    \n",
    "    return m_mtx"
   ]
  },
  {
   "cell_type": "code",
   "execution_count": 7,
   "metadata": {},
   "outputs": [],
   "source": [
    "def a_vec(m_mtx, base_type, basis, var_num):\n",
    "    a = []\n",
    "    for i in range(0, m_mtx.shape[0]):\n",
    "        for j in range(i, m_mtx.shape[1]):\n",
    "            coeff = base_type.c_extract_map(m_mtx[i, j], basis, var_num)\n",
    "            if i != j:\n",
    "                coeff *= 2\n",
    "            a.append(coeff)\n",
    "    return a"
   ]
  },
  {
   "cell_type": "code",
   "execution_count": 8,
   "metadata": {},
   "outputs": [],
   "source": [
    "def A_mtx(m_mtx, base_type, base, var_num):\n",
    "    A = []\n",
    "    for b in base:\n",
    "        A.append(a_vec(m_mtx, base_type, b, var_num))\n",
    "    return spmtx(A)"
   ]
  },
  {
   "cell_type": "code",
   "execution_count": null,
   "metadata": {},
   "outputs": [],
   "source": [
    "x = var_list[0]\n",
    "y = var_list[1]\n",
    "terms = []\n",
    "terms.append([6, y])\n",
    "\n",
    "\n",
    "terms.append([x, (x * y - 12) / 4])\n",
    "\n"
   ]
  },
  {
   "cell_type": "code",
   "execution_count": 15,
   "metadata": {},
   "outputs": [],
   "source": [
    "class cheby_first_kind:\n",
    "    def _gen_terms_biv_a2(self, var_list, total_degree, term):\n",
    "        '''\n",
    "        var_list is of type deque\n",
    "        '''\n",
    "        terms = []\n",
    "        if len(var_list) == 1:\n",
    "            term *= var_list[0] ** total_degree\n",
    "            terms.append(term)\n",
    "            return terms\n",
    "        elif total_degree == 0:\n",
    "            term *= 1\n",
    "            terms.append(term)\n",
    "            return terms\n",
    "        else:\n",
    "            for i in range(total_degree, -1, -1):\n",
    "                var_list_further = copy.deepcopy(var_list)\n",
    "                var = var_list_further.popleft()\n",
    "                term_further = term * var ** i\n",
    "                terms += self._gen_terms(var_list_further, total_degree - i, term_further)\n",
    "            return terms\n",
    "    \n",
    "    def _gen_terms_uni(self, var_list, total_degree):\n",
    "        T = [1, var_list[0]]\n",
    "        for i in range(2, total_degree + 1):\n",
    "            n_term = 2 * var_list[0] * T[i-1] - T[i-2]\n",
    "            n_term = sp.simplify(n_term)\n",
    "            n_term = sp.expand(n_term)\n",
    "            # print(n_term)\n",
    "            T.append(n_term)\n",
    "        return T\n",
    "\n",
    "    def __init__(self, deg, var_num, coeff=None):\n",
    "        '''\n",
    "        Init a uni/bivariate polynomial with given num of var and num of degree.\n",
    "        The base used here is first-kind chebyshev polynomial\n",
    "        '''\n",
    "        if var_num > 2:\n",
    "            raise ValueError(\"Only support 2 variable max\")\n",
    "        \n",
    "        self.degree = deg\n",
    "        self.var_num = var_num\n",
    "\n",
    "        var_list = deque()\n",
    "        for i in range(var_num):\n",
    "            var_list.append(syms('x_' + str(i)))\n",
    "        self.var_list = var_list\n",
    "        \n",
    "        if var_num == 1:\n",
    "            terms = self._gen_terms_uni(self.var_list, self.degree)\n",
    "\n",
    "        self.base = terms\n",
    "        self.term = terms\n",
    "        self.base_vec = spmtx(terms) # arrange the terms in a vector format\n",
    "        if coeff == None:\n",
    "            pass\n",
    "            # coeff = []\n",
    "            # for i in range(len(terms)):\n",
    "            #     coeff.append(random.randint(-100, 100))\n",
    "            # coeff = numpy.array(coeff)\n",
    "        self.coeff = coeff\n",
    "    \n",
    "    def c_extract_map(self, poly, basis, num_var):\n",
    "        \"\"\"\n",
    "        Return the coeff of the poly input. \n",
    "        \"\"\"\n",
    "        if num_var == 1:\n",
    "            f = lambdify(self.var_list[0], (poly * basis) / sqrt((1 - self.var_list[0] ** 2)))\n",
    "            r = integ.quad(f, -1, 1)[0]\n",
    "            if r < 1e-10:\n",
    "                return 0\n",
    "            else:\n",
    "                f = lambdify(self.var_list[0], (basis * basis) / sqrt((1 - self.var_list[0] ** 2)))\n",
    "                norm = integ.quad(f, -1, 1)[0]\n",
    "                return round(r / norm, 10)\n",
    "        # c = poly.coeff(basis)\n",
    "        #if len(c.free_symbols) == 0:\n",
    "        #    return c\n",
    "        #else:\n",
    "        #    return sp.core.numbers.Zero()"
   ]
  },
  {
   "cell_type": "code",
   "execution_count": 9,
   "metadata": {},
   "outputs": [],
   "source": [
    "def experiment(m_mtx_base, poly_base, deg, num_var):\n",
    "    if deg % 2 != 0:\n",
    "        print(\"No need to experiment polynomial with even degree\")\n",
    "        return 0\n",
    "    #print('Init-process')\n",
    "    #start = time.process_time()\n",
    "\n",
    "    r = m_mtx_base(deg = deg // 2, var_num = num_var)\n",
    "    m_mtx = gen_mmoment_matrix(r.base_vec)\n",
    "    base = poly_base(deg=deg, var_num = num_var)\n",
    "    A = A_mtx(m_mtx, base_type=base, base=base.base, var_num=base.var_num)\n",
    "    # print(time.process_time() - start)\n",
    "    #print('condition number')\n",
    "    #start = time.process_time()\n",
    "    c_num = condition_num(A)\n",
    "    #print(time.process_time() - start)\n",
    "\n",
    "    return c_num"
   ]
  },
  {
   "cell_type": "code",
   "execution_count": 16,
   "metadata": {},
   "outputs": [
    {
     "data": {
      "text/plain": [
       "__main__.cheby_first_kind"
      ]
     },
     "execution_count": 16,
     "metadata": {},
     "output_type": "execute_result"
    }
   ],
   "source": [
    "cheby_first_kind"
   ]
  },
  {
   "cell_type": "code",
   "execution_count": 17,
   "metadata": {
    "scrolled": true
   },
   "outputs": [
    {
     "data": {
      "text/plain": [
       "__main__.mono_poly"
      ]
     },
     "execution_count": 17,
     "metadata": {},
     "output_type": "execute_result"
    }
   ],
   "source": [
    "mono_poly"
   ]
  },
  {
   "cell_type": "code",
   "execution_count": 18,
   "metadata": {},
   "outputs": [
    {
     "name": "stderr",
     "output_type": "stream",
     "text": [
      "<ipython-input-15-c2fdd08a0490>:69: IntegrationWarning: The integral is probably divergent, or slowly convergent.\n",
      "  r = integ.quad(f, -1, 1)[0]\n"
     ]
    },
    {
     "data": {
      "text/plain": [
       "<function matplotlib.pyplot.show(close=None, block=None)>"
      ]
     },
     "execution_count": 18,
     "metadata": {},
     "output_type": "execute_result"
    },
    {
     "data": {
      "image/png": "[encoded data removed]",
      "text/plain": [
       "<Figure size 432x288 with 1 Axes>"
      ]
     },
     "metadata": {
      "needs_background": "light"
     },
     "output_type": "display_data"
    }
   ],
   "source": [
    "conds = []\n",
    "x = []\n",
    "for i in range(0, 10):\n",
    "    conds.append(experiment(mono_poly, cheby_first_kind, i*2, 1))\n",
    "    x.append(i * 2)\n",
    "plt.plot(x, conds)\n",
    "plt.show"
   ]
  },
  {
   "cell_type": "code",
   "execution_count": 29,
   "metadata": {},
   "outputs": [
    {
     "data": {
      "text/plain": [
       "47.063111020466714"
      ]
     },
     "execution_count": 29,
     "metadata": {},
     "output_type": "execute_result"
    }
   ],
   "source": [
    "experiment(mono_poly, mono_poly, 30, 1)"
   ]
  },
  {
   "cell_type": "code",
   "execution_count": 19,
   "metadata": {},
   "outputs": [
    {
     "data": {
      "text/plain": [
       "<function matplotlib.pyplot.show(close=None, block=None)>"
      ]
     },
     "execution_count": 19,
     "metadata": {},
     "output_type": "execute_result"
    },
    {
     "data": {
      "image/png": "[encoded data removed]",
      "text/plain": [
       "<Figure size 432x288 with 1 Axes>"
      ]
     },
     "metadata": {
      "needs_background": "light"
     },
     "output_type": "display_data"
    }
   ],
   "source": [
    "conds = []\n",
    "x = []\n",
    "for i in range(0, 10):\n",
    "    conds.append(experiment(cheby_first_kind, cheby_first_kind, i*2, 1))\n",
    "    x.append(i * 2)\n",
    "plt.plot(x, conds)\n",
    "plt.show"
   ]
  },
  {
   "cell_type": "code",
   "execution_count": 20,
   "metadata": {},
   "outputs": [
    {
     "data": {
      "text/plain": [
       "<function matplotlib.pyplot.show(close=None, block=None)>"
      ]
     },
     "execution_count": 20,
     "metadata": {},
     "output_type": "execute_result"
    },
    {
     "data": {
      "image/png": "[encoded data removed]",
      "text/plain": [
       "<Figure size 432x288 with 1 Axes>"
      ]
     },
     "metadata": {
      "needs_background": "light"
     },
     "output_type": "display_data"
    }
   ],
   "source": [
    "conds = []\n",
    "x = []\n",
    "for i in range(0, 10):\n",
    "    conds.append(experiment(mono_poly, mono_poly, i*2, 1))\n",
    "    x.append(i * 2)\n",
    "plt.plot(x, conds)\n",
    "plt.show"
   ]
  },
  {
   "cell_type": "code",
   "execution_count": 21,
   "metadata": {},
   "outputs": [
    {
     "data": {
      "text/plain": [
       "<function matplotlib.pyplot.show(close=None, block=None)>"
      ]
     },
     "execution_count": 21,
     "metadata": {},
     "output_type": "execute_result"
    },
    {
     "data": {
      "image/png": "[encoded data removed]",
      "text/plain": [
       "<Figure size 432x288 with 1 Axes>"
      ]
     },
     "metadata": {
      "needs_background": "light"
     },
     "output_type": "display_data"
    }
   ],
   "source": [
    "conds = []\n",
    "x = []\n",
    "for i in range(0, 10):\n",
    "    conds.append(experiment(cheby_first_kind, mono_poly, i*2, 1))\n",
    "    x.append(i * 2)\n",
    "plt.plot(x, conds)\n",
    "plt.show"
   ]
  },
  {
   "cell_type": "code",
   "execution_count": 22,
   "metadata": {
    "scrolled": true
   },
   "outputs": [
    {
     "data": {
      "text/plain": [
       "243.95198338531648"
      ]
     },
     "execution_count": 22,
     "metadata": {},
     "output_type": "execute_result"
    }
   ],
   "source": [
    "experiment(cheby_first_kind, mono_poly, 8, 1)"
   ]
  },
  {
   "cell_type": "code",
   "execution_count": 44,
   "metadata": {},
   "outputs": [],
   "source": [
    "a = cheby_first_kind(4, 1)"
   ]
  },
  {
   "cell_type": "code",
   "execution_count": 45,
   "metadata": {},
   "outputs": [
    {
     "data": {
      "text/latex": [
       "$\\displaystyle 1.0$"
      ],
      "text/plain": [
       "1.00000000000000"
      ]
     },
     "execution_count": 45,
     "metadata": {},
     "output_type": "execute_result"
    }
   ],
   "source": [
    "a.c_extract_map(a.base[1], a.base[1], 1)"
   ]
  },
  {
   "cell_type": "code",
   "execution_count": 46,
   "metadata": {},
   "outputs": [
    {
     "data": {
      "text/latex": [
       "$\\displaystyle x_{0}^{2}$"
      ],
      "text/plain": [
       "x_0**2"
      ]
     },
     "execution_count": 46,
     "metadata": {},
     "output_type": "execute_result"
    }
   ],
   "source": [
    "x_0 = syms('x_0')\n",
    "x_0 ** 2"
   ]
  },
  {
   "cell_type": "code",
   "execution_count": 47,
   "metadata": {},
   "outputs": [
    {
     "data": {
      "text/latex": [
       "$\\displaystyle \\frac{5}{\\pi}$"
      ],
      "text/plain": [
       "5/pi"
      ]
     },
     "execution_count": 47,
     "metadata": {},
     "output_type": "execute_result"
    }
   ],
   "source": [
    "10 / pi/2"
   ]
  },
  {
   "cell_type": "code",
   "execution_count": 48,
   "metadata": {},
   "outputs": [
    {
     "data": {
      "text/latex": [
       "$\\displaystyle \\frac{\\left(2 x_{0}^{2} - 1\\right) \\left(8 x_{0}^{4} - 8 x_{0}^{2} + 1\\right)}{\\sqrt{1 - x_{0}^{2}}}$"
      ],
      "text/plain": [
       "(2*x_0**2 - 1)*(8*x_0**4 - 8*x_0**2 + 1)/sqrt(1 - x_0**2)"
      ]
     },
     "execution_count": 48,
     "metadata": {},
     "output_type": "execute_result"
    }
   ],
   "source": [
    "(a.base[4] * a.base[2]) / sqrt((1 - x_0 ** 2))"
   ]
  },
  {
   "cell_type": "code",
   "execution_count": 54,
   "metadata": {},
   "outputs": [
    {
     "data": {
      "text/plain": [
       "(-2.1394287251284634e-12, 4.272426055364603e-10)"
      ]
     },
     "execution_count": 54,
     "metadata": {},
     "output_type": "execute_result"
    }
   ],
   "source": [
    "f = lambdify(x_0, (a.base[4] * a.base[2]) / sqrt((1 - x_0 ** 2)))\n",
    "integ.quad(f, -1, 1)\n",
    "\n",
    "# integrate((a.base[4] * a.base[4]) / sqrt((1 - x_0 ** 2)), (x_0, -1, 1))"
   ]
  },
  {
   "cell_type": "code",
   "execution_count": 55,
   "metadata": {},
   "outputs": [
    {
     "data": {
      "text/latex": [
       "$\\displaystyle 0$"
      ],
      "text/plain": [
       "0"
      ]
     },
     "execution_count": 55,
     "metadata": {},
     "output_type": "execute_result"
    }
   ],
   "source": [
    "a.base[4].coeff(a.base[2])"
   ]
  },
  {
   "cell_type": "code",
   "execution_count": 23,
   "metadata": {},
   "outputs": [],
   "source": [
    "a = [[1, 2], [3, 4]]"
   ]
  },
  {
   "cell_type": "code",
   "execution_count": 24,
   "metadata": {},
   "outputs": [
    {
     "ename": "TypeError",
     "evalue": "list indices must be integers or slices, not tuple",
     "output_type": "error",
     "traceback": [
      "\u001b[0;31m---------------------------------------------------------------------------\u001b[0m",
      "\u001b[0;31mTypeError\u001b[0m                                 Traceback (most recent call last)",
      "\u001b[0;32m<ipython-input-24-5f2894e9f20f>\u001b[0m in \u001b[0;36m<module>\u001b[0;34m\u001b[0m\n\u001b[0;32m----> 1\u001b[0;31m \u001b[0ma\u001b[0m\u001b[0;34m[\u001b[0m\u001b[0;36m0\u001b[0m\u001b[0;34m,\u001b[0m\u001b[0;36m0\u001b[0m\u001b[0;34m]\u001b[0m\u001b[0;34m\u001b[0m\u001b[0;34m\u001b[0m\u001b[0m\n\u001b[0m",
      "\u001b[0;31mTypeError\u001b[0m: list indices must be integers or slices, not tuple"
     ]
    }
   ],
   "source": [
    "a[0,0]"
   ]
  },
  {
   "cell_type": "code",
   "execution_count": 25,
   "metadata": {},
   "outputs": [],
   "source": [
    "x = syms('x')\n",
    "y = syms('y')\n"
   ]
  },
  {
   "cell_type": "code",
   "execution_count": 26,
   "metadata": {},
   "outputs": [],
   "source": [
    "T_2_1 = 1/8 * x**2 * y - 1/2 * y ** 2 - 1/2 * x"
   ]
  },
  {
   "cell_type": "code",
   "execution_count": null,
   "metadata": {},
   "outputs": [],
   "source": [
    "T_2_2 = "
   ]
  }
 ],
 "metadata": {
  "kernelspec": {
   "display_name": "Python 3",
   "language": "python",
   "name": "python3"
  },
  "language_info": {
   "codemirror_mode": {
    "name": "ipython",
    "version": 3
   },
   "file_extension": ".py",
   "mimetype": "text/x-python",
   "name": "python",
   "nbconvert_exporter": "python",
   "pygments_lexer": "ipython3",
   "version": "3.8.5"
  }
 },
 "nbformat": 4,
 "nbformat_minor": 4
}
