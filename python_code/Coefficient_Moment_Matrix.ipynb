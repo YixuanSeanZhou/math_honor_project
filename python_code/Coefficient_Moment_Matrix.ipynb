{
 "cells": [
  {
   "cell_type": "code",
   "execution_count": 1,
   "metadata": {},
   "outputs": [],
   "source": [
    "import sympy as sp\n",
    "from sympy import Matrix as spmtx\n",
    "from sympy import *\n",
    "from sympy import symbols as syms\n",
    "from sympy.utilities.lambdify import lambdify, lambdastr\n",
    "import math\n",
    "from collections import deque\n",
    "import copy\n",
    "from copy import deepcopy\n",
    "import random\n",
    "import numpy as np\n",
    "import time\n",
    "from scipy import integrate as sci_int\n",
    "import matplotlib.pyplot as plt\n",
    "import progressbar"
   ]
  },
  {
   "cell_type": "code",
   "execution_count": 2,
   "metadata": {},
   "outputs": [],
   "source": [
    "avaliable_classes = ['mono_poly']"
   ]
  },
  {
   "cell_type": "code",
   "execution_count": 3,
   "metadata": {},
   "outputs": [],
   "source": [
    "def condition_num(A, norm = None):\n",
    "    min_dim = min(A.shape)\n",
    "    if A.rank() != min_dim:\n",
    "        return -1 # since condition number is geq 1, this indicate it is not full rank\n",
    "    else:\n",
    "        npA = np.array(A).astype(np.float64)\n",
    "        cond = np.linalg.norm(np.linalg.pinv(npA)) * np.linalg.norm(npA)\n",
    "        # cond = A.pinv().norm() * A.norm()\n",
    "        return cond"
   ]
  },
  {
   "cell_type": "code",
   "execution_count": 4,
   "metadata": {},
   "outputs": [],
   "source": [
    "def get_class_name(obj):\n",
    "    return obj.__class__.__name__"
   ]
  },
  {
   "cell_type": "markdown",
   "metadata": {},
   "source": [
    "### Stock Of Polynomial Basis"
   ]
  },
  {
   "cell_type": "code",
   "execution_count": 5,
   "metadata": {},
   "outputs": [],
   "source": [
    "class mono_poly:\n",
    "    '''\n",
    "    The monomial polynomial basis class\n",
    "    data_field:\n",
    "        var_list: A list of symbols for different variables\n",
    "        num_var: The number of variables\n",
    "        degree: The total degree of the polynomial\n",
    "        base: A list of terms that the basis consists\n",
    "        base_vec: A sympy matrix (vector) of each element in the basis.\n",
    "        coeff: A list of coeffs related to each basis\n",
    "    '''\n",
    "    \n",
    "    \n",
    "    def _gen_terms(self, var_list, total_degree, term):\n",
    "        '''\n",
    "        Description:\n",
    "            Generate all the terms in a basis of the polynomial space consisted of monomial polynomials.\n",
    "        Reference:\n",
    "            None\n",
    "        Input:\n",
    "            var_list --- a deque of symbols in the monomials\n",
    "            total_degree --- the maximun degree of the polynomial\n",
    "            term --- A list of terms in the basis, start with [1] when being called\n",
    "        '''\n",
    "        terms = []\n",
    "        if len(var_list) == 1:\n",
    "            term *= var_list[0] ** total_degree\n",
    "            terms.append(term)\n",
    "            return terms\n",
    "        elif total_degree == 0:\n",
    "            term *= 1\n",
    "            terms.append(term)\n",
    "            return terms\n",
    "        else:\n",
    "            for i in range(total_degree, -1, -1):\n",
    "                var_list_further = copy.deepcopy(var_list)\n",
    "                var = var_list_further.popleft()\n",
    "                term_further = term * var ** i\n",
    "                terms += self._gen_terms(var_list_further, total_degree - i, term_further)\n",
    "            return terms\n",
    "    \n",
    "\n",
    "    def __init__(self, deg, num_var, coeff=None):\n",
    "        '''\n",
    "        Description:\n",
    "            Initalize a basis of the polynomail space by the first kind chebyshev polynomials.\n",
    "        Input:\n",
    "            deg --- The max degree of the polynomail space\n",
    "            num_var --- number of variables in the polynomial space\n",
    "        '''\n",
    "        self.degree = deg\n",
    "        self.num_var = num_var\n",
    "        var_list = deque()\n",
    "        for i in range(num_var):\n",
    "            var_list.append(syms('x_' + str(i)))\n",
    "        self.var_list = var_list\n",
    "        terms = []\n",
    "        for i in range(deg, -1, -1):\n",
    "            terms += self._gen_terms(self.var_list, i, 1)\n",
    "        self.base = terms\n",
    "        self.base_vec = spmtx(terms)\n",
    "        if coeff == None:\n",
    "            pass\n",
    "\n",
    "        self.coeff = coeff\n",
    "    \n",
    "    \n",
    "    def c_extract_map(self, poly, basis, num_var=0):\n",
    "        '''\n",
    "        Description:\n",
    "            Extract the coefficients of an element in a monomial basis from the input polynomial\n",
    "        Input:\n",
    "            deg --- The max degree of the polynomail space\n",
    "            num_var --- number of variables in the polynomial space\n",
    "            num_var --- not really needed\n",
    "        '''\n",
    "        p = sp.expand(poly)\n",
    "        c = p.coeff(basis)\n",
    "        if len(c.free_symbols) == 0:\n",
    "            return c\n",
    "        else:\n",
    "            return sp.core.numbers.Zero()"
   ]
  },
  {
   "cell_type": "code",
   "execution_count": 6,
   "metadata": {},
   "outputs": [],
   "source": [
    "class legendre:\n",
    "    '''\n",
    "    The chebyshev first kind polynomial basis class\n",
    "    data_field:\n",
    "        var_list: A list of symbols for different variables\n",
    "        num_var: The number of variables\n",
    "        degree: The total degree of the polynomial\n",
    "        base: A list of terms that the basis consists\n",
    "        base_vec: A sympy matrix (vector) of each element in the basis.\n",
    "        coeff: A list of coeffs related to each basis\n",
    "    '''\n",
    "    def _gen_terms_biv(self, total_degree):\n",
    "        '''\n",
    "        Description:\n",
    "            Generate all the terms in a bases of bivaraite polynomials using\n",
    "            bivariate legendre polynomials\n",
    "        Reference:\n",
    "             The construction of multivariate chebyshev is based on what Gergely Mádi-Nagy proposed in his\n",
    "            \"Polynomial bases on the numerical solution of the multivariate discrete moment problem\"\n",
    "        Input:\n",
    "            total_degree --- the maximun degree of the polynomial\n",
    "        '''\n",
    "        var_list = []\n",
    "        for i in range(len(self.var_list)):\n",
    "            var_list.append(self.var_list.popleft())\n",
    "        self.var_list = deque()\n",
    "        self.var_list.append(var_list[0])\n",
    "        terms_x_0 = self._gen_terms_uni(total_degree)\n",
    "        self.var_list.popleft()\n",
    "        \n",
    "        self.var_list.append(var_list[1])\n",
    "        terms_x_1 = self._gen_terms_uni(total_degree)\n",
    "        self.var_list.popleft()\n",
    "        \n",
    "        for var in var_list:\n",
    "            self.var_list.append(var)\n",
    "        terms = []\n",
    "        for order_1 in range(len(terms_x_1)):\n",
    "            for order_0 in range(len(terms_x_0) - order_1):\n",
    "                terms.append(terms_x_0[order_0] * terms_x_1[order_1])\n",
    "                # terms.append(sp.expand(x_0 * x_1))\n",
    "        return terms\n",
    "    \n",
    "    def _gen_terms_uni(self, total_degree):\n",
    "        '''\n",
    "        Description:\n",
    "            Generate all the terms in a bases of univaraite polynomials using\n",
    "            univariate chebyshev polynomial of the second kind\n",
    "        Reference:\n",
    "            https://en.wikipedia.org/wiki/Chebyshev_polynomials\n",
    "        Input:\n",
    "            total_degree --- the maximun degree of the polynomial\n",
    "        '''\n",
    "        if total_degree == 0:\n",
    "            return [1]\n",
    "        L = [1, self.var_list[0]]\n",
    "        for i in range(2, total_degree + 1):\n",
    "            n_term = (2*i-1)/i*self.var_list[0]*L[i-1] - (i-1)/i*L[i-2]\n",
    "            n_term = sp.simplify(n_term)\n",
    "            n_term = sp.expand(n_term)\n",
    "            L.append(n_term)\n",
    "        return L\n",
    "    \n",
    "\n",
    "    def __init__(self, deg, num_var, coeff=None):\n",
    "        '''\n",
    "        Description:\n",
    "            Initalize a basis of the polynomial space by the second kind chebyshev polynomials.\n",
    "        Input:\n",
    "            deg --- The max degree of the polynomail space\n",
    "            num_var --- number of variables in the polynomial space\n",
    "        '''\n",
    "        if num_var > 2:\n",
    "            raise ValueError(\"Only support 2 variable max\")\n",
    "        \n",
    "        self.degree = deg\n",
    "        self.num_var = num_var\n",
    "        \n",
    "        self.var_list = deque()\n",
    "        for i in range(num_var):\n",
    "            self.var_list.append(syms('x_' + str(i)))\n",
    "        \n",
    "        if num_var == 1:\n",
    "            terms = self._gen_terms_uni(self.degree)\n",
    "        elif num_var == 2:\n",
    "            terms = self._gen_terms_biv(self.degree)\n",
    "\n",
    "        self.base = terms\n",
    "        self.base_vec = spmtx(terms) # arrange the terms in a vector format\n",
    "        if coeff == None:\n",
    "            pass\n",
    "        self.coeff = coeff\n",
    "\n",
    "        self.norm = dict()\n",
    "        i = 0\n",
    "        #with progressbar.ProgressBar(max_value=len(self.base)) as bar:\n",
    "        for b in self.base:\n",
    "            self.norm[b] = self._base_norm(b, num_var)\n",
    "                #bar.update(i)\n",
    "                #i+=1\n",
    "    \n",
    "    \n",
    "    def _base_norm(self, b, num_var):\n",
    "        '''\n",
    "        Description:\n",
    "            Pre-calculate the norm of an element in the basis using the corresponding inner product.\n",
    "        Input:\n",
    "            b --- an element in the basis\n",
    "            num_var --- univariate vs bivariate\n",
    "        '''\n",
    "        if num_var > 2:\n",
    "            raise ValueError(\"Only support 2 variable max\")\n",
    "        if num_var == 1:\n",
    "            weight = 1\n",
    "            f = lambdify(self.var_list[0], (b * b) * weight)\n",
    "            r = sci_int.quad(f, -1, 1, epsabs=1e-4, epsrel=1e-4, limit=15)[0]\n",
    "            if r < 1e-4:\n",
    "                return 0\n",
    "            else:\n",
    "                return round(r, 5)\n",
    "        if num_var == 2:\n",
    "            weight = 1\n",
    "            f = lambdify(self.var_list, b * b * weight)\n",
    "            r = sci_int.nquad(f, [[-1,1],[-1, 1]], opts=[{'epsabs':1e-4, 'epsrel':1e-4, 'limit': 15}, \n",
    "                                                         {'epsabs':1e-4, 'epsrel':1e-4, 'limit': 15}])[0]\n",
    "            if r < 1e-4:\n",
    "                return 0\n",
    "            else:\n",
    "                return round(r, 5)\n",
    "    \n",
    "    def c_extract_map(self, poly, basis, num_var):\n",
    "        '''\n",
    "        Description:\n",
    "            Using orthogonality to extract the coefficient of a vector in the basis in the input polynomial.\n",
    "            The basis should be generated by the constructor of this class.\n",
    "        Reference:\n",
    "            https://en.wikipedia.org/wiki/Legendre_polynomials\n",
    "            \"Polynomial bases on the numerical solution of the multivariate discrete moment problem\"\n",
    "        Input:\n",
    "            poly --- A given polynomial\n",
    "            basis --- An element in the first kind chebyshve basis \n",
    "            num_var --- Univariate vs Bivariate\n",
    "        '''\n",
    "        if num_var > 2:\n",
    "            raise ValueError(\"Only support 2 variable max\")\n",
    "        if num_var == 1:\n",
    "            weight = 1\n",
    "            f = lambdify(self.var_list[0], (poly * basis) * weight)\n",
    "            r = sci_int.quad(f, -1, 1, epsabs=1e-5, epsrel=1e-5, limit=20)[0]\n",
    "            if abs(r) < 1e-5:\n",
    "                return 0\n",
    "            else:\n",
    "                return round(r / self.norm[basis], 5)\n",
    "        if num_var == 2:\n",
    "            weight = 1\n",
    "            f = lambdify(self.var_list, poly * basis * weight)\n",
    "            r = sci_int.nquad(f, [[-1,1],[-1, 1]], opts=[{'epsabs':1e-4, 'epsrel':1e-4, 'limit': 15}, \n",
    "                                                         {'epsabs':1e-4, 'epsrel':1e-4, 'limit': 15}])[0]\n",
    "            if abs(r) < 1e-4:\n",
    "                return 0\n",
    "            else:\n",
    "                return round(r / self.norm[basis], 5)"
   ]
  },
  {
   "cell_type": "code",
   "execution_count": 7,
   "metadata": {},
   "outputs": [],
   "source": [
    "class cheby_second_kind:\n",
    "    '''\n",
    "    The chebyshev first kind polynomial basis class\n",
    "    data_field:\n",
    "        var_list: A list of symbols for different variables\n",
    "        num_var: The number of variables\n",
    "        degree: The total degree of the polynomial\n",
    "        base: A list of terms that the basis consists\n",
    "        base_vec: A sympy matrix (vector) of each element in the basis.\n",
    "        coeff: A list of coeffs related to each basis\n",
    "    '''\n",
    "    def _gen_terms_biv(self, total_degree):\n",
    "        '''\n",
    "        Description:\n",
    "            Generate all the terms in a bases of bivaraite polynomials using\n",
    "            bivariate chebyshev polynomial of the second kind\n",
    "        Reference:\n",
    "             The construction of multivariate chebyshev is based on what Gergely Mádi-Nagy proposed in his\n",
    "            \"Polynomial bases on the numerical solution of the multivariate discrete moment problem\"\n",
    "        Input:\n",
    "            total_degree --- the maximun degree of the polynomial\n",
    "        '''\n",
    "        var_list = []\n",
    "        for i in range(len(self.var_list)):\n",
    "            var_list.append(self.var_list.popleft())\n",
    "        self.var_list = deque()\n",
    "        self.var_list.append(var_list[0])\n",
    "        terms_x_0 = self._gen_terms_uni(total_degree)\n",
    "        self.var_list.popleft()\n",
    "        \n",
    "        self.var_list.append(var_list[1])\n",
    "        terms_x_1 = self._gen_terms_uni(total_degree)\n",
    "        self.var_list.popleft()\n",
    "        \n",
    "        for var in var_list:\n",
    "            self.var_list.append(var)\n",
    "        terms = []\n",
    "        for order_1 in range(len(terms_x_1)):\n",
    "            for order_0 in range(len(terms_x_0) - order_1):\n",
    "                terms.append(terms_x_0[order_0] * terms_x_1[order_1])\n",
    "                # terms.append(sp.expand(x_0 * x_1))\n",
    "        return terms\n",
    "    \n",
    "    \n",
    "    def _gen_terms_uni(self, total_degree):\n",
    "        '''\n",
    "        Description:\n",
    "            Generate all the terms in a bases of univaraite polynomials using\n",
    "            univariate chebyshev polynomial of the second kind\n",
    "        Reference:\n",
    "            https://en.wikipedia.org/wiki/Chebyshev_polynomials\n",
    "        Input:\n",
    "            total_degree --- the maximun degree of the polynomial\n",
    "        '''\n",
    "        if total_degree == 0:\n",
    "            return [1]\n",
    "        U = [1, 2 * self.var_list[0]]\n",
    "        for i in range(2, total_degree + 1):\n",
    "            n_term = 2 * self.var_list[0] * U[i-1] - U[i-2]\n",
    "            n_term = sp.simplify(n_term)\n",
    "            n_term = sp.expand(n_term)\n",
    "            U.append(n_term)\n",
    "        return U\n",
    "    \n",
    "\n",
    "    def __init__(self, deg, num_var, coeff=None):\n",
    "        '''\n",
    "        Description:\n",
    "            Initalize a basis of the polynomial space by the second kind chebyshev polynomials.\n",
    "        Input:\n",
    "            deg --- The max degree of the polynomail space\n",
    "            num_var --- number of variables in the polynomial space\n",
    "        '''\n",
    "        if num_var > 2:\n",
    "            raise ValueError(\"Only support 2 variable max\")\n",
    "        \n",
    "        self.degree = deg\n",
    "        self.num_var = num_var\n",
    "        \n",
    "        self.var_list = deque()\n",
    "        for i in range(num_var):\n",
    "            self.var_list.append(syms('x_' + str(i)))\n",
    "        \n",
    "        if num_var == 1:\n",
    "            terms = self._gen_terms_uni(self.degree)\n",
    "        elif num_var == 2:\n",
    "            terms = self._gen_terms_biv(self.degree)\n",
    "\n",
    "        self.base = terms\n",
    "        self.base_vec = spmtx(terms) # arrange the terms in a vector format\n",
    "        if coeff == None:\n",
    "            pass\n",
    "        self.coeff = coeff\n",
    "\n",
    "        self.norm = dict()\n",
    "        i = 0\n",
    "        #with progressbar.ProgressBar(max_value=len(self.base)) as bar:\n",
    "        for b in self.base:\n",
    "            self.norm[b] = self._base_norm(b, num_var)\n",
    "                #bar.update(i)\n",
    "                #i+=1\n",
    "    \n",
    "    \n",
    "    def _base_norm(self, b, num_var):\n",
    "        '''\n",
    "        Description:\n",
    "            Pre-calculate the norm of an element in the basis using the corresponding inner product.\n",
    "        Input:\n",
    "            b --- an element in the basis\n",
    "            num_var --- univariate vs bivariate\n",
    "        '''\n",
    "        if num_var > 2:\n",
    "            raise ValueError(\"Only support 2 variable max\")\n",
    "        if num_var == 1:\n",
    "            weight = sqrt(1 - self.var_list[0] ** 2)\n",
    "            f = lambdify(self.var_list[0], (b * b) * weight)\n",
    "            r = sci_int.quad(f, -1, 1, epsabs=1e-4, epsrel=1e-4, limit=15)[0]\n",
    "            if r < 1e-4:\n",
    "                return 0\n",
    "            else:\n",
    "                return round(r, 5)\n",
    "        if num_var == 2:\n",
    "            weight = sqrt(1 - self.var_list[0] ** 2) * sqrt(1 - self.var_list[1] ** 2)\n",
    "            f = lambdify(self.var_list, b * b * weight)\n",
    "            r = sci_int.nquad(f, [[-1,1],[-1, 1]], opts=[{'epsabs':1e-4, 'epsrel':1e-4, 'limit': 15}, \n",
    "                                                         {'epsabs':1e-4, 'epsrel':1e-4, 'limit': 15}])[0]\n",
    "            if r < 1e-4:\n",
    "                return 0\n",
    "            else:\n",
    "                return round(r, 5)\n",
    "    \n",
    "    def c_extract_map(self, poly, basis, num_var):\n",
    "        '''\n",
    "        Description:\n",
    "            Using orthogonality to extract the coefficient of a vector in the basis in the input polynomial.\n",
    "            The basis should be generated by the constructor of this class.\n",
    "        Reference:\n",
    "            \"Polynomial bases on the numerical solution of the multivariate discrete moment problem\"\n",
    "        Input:\n",
    "            poly --- A given polynomial\n",
    "            basis --- An element in the first kind chebyshve basis \n",
    "            num_var --- Univariate vs Bivariate\n",
    "        '''\n",
    "        if num_var > 2:\n",
    "            raise ValueError(\"Only support 2 variable max\")\n",
    "        if num_var == 1:\n",
    "            weight = sqrt(1 - self.var_list[0] ** 2)\n",
    "            f = lambdify(self.var_list[0], (poly * basis) * weight)\n",
    "            r = sci_int.quad(f, -1, 1, epsabs=1e-5, epsrel=1e-5, limit=20)[0]\n",
    "            if abs(r) < 1e-5:\n",
    "                return 0\n",
    "            else:\n",
    "                return round(r / self.norm[basis], 5)\n",
    "        if num_var == 2:\n",
    "            weight = sqrt(1 - self.var_list[0] ** 2) * sqrt(1 - self.var_list[1] ** 2)\n",
    "            f = lambdify(self.var_list, poly * basis * weight)\n",
    "            r = sci_int.nquad(f, [[-1,1],[-1, 1]], opts=[{'epsabs':1e-4, 'epsrel':1e-4, 'limit': 15}, \n",
    "                                                         {'epsabs':1e-4, 'epsrel':1e-4, 'limit': 15}])[0]\n",
    "            if abs(r) < 1e-4:\n",
    "                return 0\n",
    "            else:\n",
    "                return round(r / self.norm[basis], 5)"
   ]
  },
  {
   "cell_type": "code",
   "execution_count": 8,
   "metadata": {},
   "outputs": [],
   "source": [
    "class cheby_first_kind:\n",
    "    '''\n",
    "    The chebyshev first kind polynomial basis class\n",
    "    data_field:\n",
    "        var_list: A list of symbols for different variables\n",
    "        num_var: The number of variables\n",
    "        degree: The total degree of the polynomial\n",
    "        base: A list of terms that the basis consists\n",
    "        base_vec: A sympy matrix (vector) of each element in the basis.\n",
    "        coeff: A list of coeffs related to each basis\n",
    "        norm: A dictionary of norm of an element in basis\n",
    "    '''\n",
    "    def _gen_terms_biv(self, total_degree):\n",
    "        '''\n",
    "        Description:\n",
    "            Generate all the terms in a bases of bivaraite polynomials using\n",
    "            bivariate chebyshev polynomial of the first kind\n",
    "        Reference:\n",
    "             The construction of multivariate chebyshev is based on what Gergely Mádi-Nagy proposed in his\n",
    "            \"Polynomial bases on the numerical solution of the multivariate discrete moment problem\"\n",
    "        Input:\n",
    "            total_degree --- the maximun degree of the polynomial\n",
    "        '''\n",
    "        var_list = []\n",
    "        for i in range(len(self.var_list)):\n",
    "            var_list.append(self.var_list.popleft())\n",
    "        self.var_list = deque()\n",
    "        self.var_list.append(var_list[0])\n",
    "        terms_x_0 = self._gen_terms_uni(total_degree)\n",
    "        self.var_list.popleft()\n",
    "        \n",
    "        self.var_list.append(var_list[1])\n",
    "        terms_x_1 = self._gen_terms_uni(total_degree)\n",
    "        self.var_list.popleft()\n",
    "        \n",
    "        for var in var_list:\n",
    "            self.var_list.append(var)\n",
    "        terms = []\n",
    "        for order_1 in range(len(terms_x_1)):\n",
    "            for order_0 in range(len(terms_x_0) - order_1):\n",
    "                terms.append(terms_x_0[order_0] * terms_x_1[order_1])\n",
    "                # terms.append(sp.expand(x_0 * x_1))\n",
    "        return terms\n",
    "        \n",
    "    \n",
    "    def _gen_terms_uni(self, total_degree):\n",
    "        '''\n",
    "        Description:\n",
    "            Generate all the terms in a bases of univaraite polynomials using\n",
    "            univariate chebyshev polynomial of the first kind\n",
    "        Reference:\n",
    "            https://en.wikipedia.org/wiki/Chebyshev_polynomials\n",
    "        Input:\n",
    "            total_degree --- the maximun degree of the polynomial\n",
    "        '''\n",
    "        if total_degree == 0:\n",
    "            return [1]\n",
    "        T = [1, self.var_list[0]]\n",
    "        for i in range(2, total_degree + 1):\n",
    "            n_term = 2 * self.var_list[0] * T[i-1] - T[i-2]\n",
    "            n_term = sp.simplify(n_term)\n",
    "            n_term = sp.expand(n_term)\n",
    "            # print(n_term)\n",
    "            T.append(n_term)\n",
    "        return T\n",
    "\n",
    "    \n",
    "    def __init__(self, deg, num_var, coeff=None):\n",
    "        '''\n",
    "        Description:\n",
    "            Initalize a basis of the polynomail space by the first kind chebyshev polynomials.\n",
    "        Input:\n",
    "            deg --- The max degree of the polynomail space\n",
    "            num_var --- number of variables in the polynomial space\n",
    "        '''\n",
    "        if num_var > 2:\n",
    "            raise ValueError(\"Only support 2 variable max\")\n",
    "        \n",
    "        self.degree = deg\n",
    "        self.num_var = num_var\n",
    "        \n",
    "        self.var_list = deque()\n",
    "        for i in range(num_var):\n",
    "            self.var_list.append(syms('x_' + str(i)))\n",
    "        \n",
    "        if num_var == 1:\n",
    "            terms = self._gen_terms_uni(self.degree)\n",
    "        elif num_var == 2:\n",
    "            terms = self._gen_terms_biv(self.degree)\n",
    "\n",
    "        self.base = terms\n",
    "        self.base_vec = spmtx(terms) # arrange the terms in a vector format\n",
    "        \n",
    "        if coeff == None:\n",
    "            pass\n",
    "        self.coeff = coeff\n",
    "        \n",
    "        self.norm = dict()\n",
    "        i = 0\n",
    "        #with progressbar.ProgressBar(max_value=len(self.base)) as bar:\n",
    "        for b in self.base:\n",
    "            self.norm[b] = self._base_norm(b, num_var)\n",
    "            i+=1\n",
    "                #bar.update(i)\n",
    "        \n",
    "    def _base_norm(self, b, num_var):\n",
    "        '''\n",
    "        Description:\n",
    "            Pre-calculate the norm of an element in the basis using the corresponding inner product.\n",
    "        Input:\n",
    "            b --- an element in the basis\n",
    "            num_var --- univariate vs bivariate\n",
    "        '''\n",
    "        if num_var > 2:\n",
    "            raise ValueError(\"Only support 2 variable max\")\n",
    "        if num_var == 1:\n",
    "            weight = sqrt(1 - self.var_list[0] ** 2)\n",
    "            f = lambdify(self.var_list[0], (b * b) / weight)\n",
    "            r = sci_int.quad(f, -1, 1, epsabs=1e-4, epsrel=1e-4, limit=15)[0]\n",
    "            if abs(r) < 1e-4:\n",
    "                return 0\n",
    "            else:\n",
    "                return round(r, 5)\n",
    "        if num_var == 2:\n",
    "            weight = sqrt(1 - self.var_list[0] ** 2) * sqrt(1 - self.var_list[1] ** 2)\n",
    "            f = lambdify(self.var_list, b * b / weight)\n",
    "            r = sci_int.nquad(f, [[-1,1],[-1, 1]], opts=[{'epsabs':1e-4, 'epsrel':1e-4, 'limit': 15}, \n",
    "                                                         {'epsabs':1e-4, 'epsrel':1e-4, 'limit': 15}])[0]\n",
    "            if abs(r) < 1e-4:\n",
    "                return 0\n",
    "            else:\n",
    "                return round(r, 5)\n",
    "    \n",
    "    def c_extract_map(self, poly, basis, num_var):\n",
    "        '''\n",
    "        Description:\n",
    "            Using orthogonality to extract the coefficient of a vector in the basis in the input polynomial.\n",
    "            The basis should be generated by the constructor of this class.\n",
    "        Reference:\n",
    "            \"Polynomial bases on the numerical solution of the multivariate discrete moment problem\"\n",
    "        Input:\n",
    "            poly --- A given polynomial\n",
    "            basis --- An element in the first kind chebyshve basis \n",
    "            num_var --- Univariate vs Bivariate\n",
    "        '''\n",
    "        if num_var > 2:\n",
    "            raise ValueError(\"Only support 2 variable max\")\n",
    "        if num_var == 1:\n",
    "            weight = sqrt(1 - self.var_list[0] ** 2)\n",
    "            f = lambdify(self.var_list[0], (poly * basis) / weight)\n",
    "            r = sci_int.quad(f, -1, 1, epsabs=1e-5, epsrel=1e-5, limit=20)[0]\n",
    "            if abs(r) < 1e-5:\n",
    "                return 0\n",
    "            else:\n",
    "                return round(r / self.norm[basis], 5)\n",
    "        if num_var == 2:\n",
    "            weight = sqrt(1 - self.var_list[0] ** 2) * sqrt(1 - self.var_list[1] ** 2)\n",
    "            f = lambdify(self.var_list, poly * basis / weight)\n",
    "            r = sci_int.nquad(f, [[-1,1],[-1, 1]], opts=[{'epsabs':1e-4, 'epsrel':1e-4, 'limit': 15}, \n",
    "                                                         {'epsabs':1e-4, 'epsrel':1e-4, 'limit': 15}])[0]\n",
    "            if abs(r) < 1e-4:\n",
    "                return 0\n",
    "            else:\n",
    "                return round(r / self.norm[basis], 5)"
   ]
  },
  {
   "cell_type": "code",
   "execution_count": 9,
   "metadata": {},
   "outputs": [],
   "source": [
    "class jacobi_poly:\n",
    "    '''\n",
    "    The jacobi polynomial basis class\n",
    "    data_field:\n",
    "        alpha, beta: To specify the polynomial\n",
    "        var_list: A list of symbols for different variables\n",
    "        num_var: The number of variables\n",
    "        degree: The total degree of the polynomial\n",
    "        base: A list of terms that the basis consists\n",
    "        base_vec: A sympy matrix (vector) of each element in the basis.\n",
    "        coeff: A list of coeffs related to each basis\n",
    "        norm: A dictionary of norm of an element in basis\n",
    "    '''\n",
    "    def _rodrigues_formula(self, a, b, n, x):\n",
    "        f = (1-x) ** a * (1+x) ** b  * (1-x**2) ** n\n",
    "        for i in range(n):\n",
    "            f = sp.diff(f, x)\n",
    "        t = (-1)**n / (2 ** n * math.factorial(n)) * (1-x) ** (-a) * (1-x)** (-b) * f\n",
    "        t = sp.expand(t)\n",
    "        return t\n",
    "    \n",
    "    def _gen_terms_uni(self):\n",
    "        '''\n",
    "        Description:\n",
    "            Generate the terms that consists of univiarate jacobi polynomial\n",
    "        Reference:\n",
    "            We shall create the terms using Rodrigues' formula\n",
    "        Output:\n",
    "            A list of terms\n",
    "        '''\n",
    "        if self.degree == 0:\n",
    "            return [1]\n",
    "        a = self.alpha\n",
    "        b = self.beta\n",
    "        x = self.var_list[0]\n",
    "        terms = [1, (a + 1) + (a + b + 2) * (x-1) / 2]\n",
    "        for n in range(2, self.degree + 1):\n",
    "            terms.append(self._rodrigues_formula(a, b, n, x))\n",
    "        return terms\n",
    "\n",
    "    def _gen_terms_biv(self):\n",
    "        '''\n",
    "        Description:\n",
    "            Generate all the terms in a bases of bivaraite polynomials using\n",
    "            bivariate chebyshev polynomial of the first kind\n",
    "        Reference:\n",
    "             The construction of multivariate chebyshev is based on what Gergely Mádi-Nagy proposed in his\n",
    "            \"Polynomial bases on the numerical solution of the multivariate discrete moment problem\"\n",
    "        Input:\n",
    "            total_degree --- the maximun degree of the polynomial\n",
    "        '''\n",
    "        if self.degree == 0:\n",
    "            return [1]\n",
    "        total_degree = self.degree\n",
    "        var_list = []\n",
    "        for i in range(len(self.var_list)):\n",
    "            var_list.append(self.var_list.popleft())\n",
    "        self.var_list = deque()\n",
    "        self.var_list.append(var_list[0])\n",
    "        terms_x_0 = self._gen_terms_uni()\n",
    "        self.var_list.popleft()\n",
    "        \n",
    "        self.var_list.append(var_list[1])\n",
    "        terms_x_1 = self._gen_terms_uni()\n",
    "        self.var_list.popleft()\n",
    "        \n",
    "        for var in var_list:\n",
    "            self.var_list.append(var)\n",
    "        terms = []\n",
    "        for order_1 in range(len(terms_x_1)):\n",
    "            for order_0 in range(len(terms_x_0) - order_1):\n",
    "                terms.append(terms_x_0[order_0] * terms_x_1[order_1])\n",
    "                # terms.append(sp.expand(x_0 * x_1))\n",
    "        return terms\n",
    "    \n",
    "    def __init__(self, deg, num_var, alpha, beta, coeff=None):\n",
    "        '''\n",
    "        Description:\n",
    "            Initalize a basis of the polynomail space by the jacobi polynomial\n",
    "        Input:\n",
    "            deg --- The max degree of the polynomail space\n",
    "            num_var --- number of variables in the polynomial space\n",
    "        '''\n",
    "        self.alpha = alpha\n",
    "        self.beta = beta\n",
    "        \n",
    "        if num_var > 2:\n",
    "            raise ValueError(\"Only support 2 variable max\")\n",
    "        \n",
    "        self.degree = deg\n",
    "        self.num_var = num_var\n",
    "        \n",
    "        self.var_list = deque()\n",
    "        for i in range(num_var):\n",
    "            self.var_list.append(syms('x_' + str(i)))\n",
    "        \n",
    "        if num_var == 1:\n",
    "            terms = self._gen_terms_uni()\n",
    "        if num_var == 2:\n",
    "            terms = self._gen_terms_biv()\n",
    "       \n",
    "        self.base = terms\n",
    "        self.base_vec = spmtx(terms) # arrange the terms in a vector format\n",
    "        \n",
    "        if coeff == None:\n",
    "            pass\n",
    "        self.coeff = coeff\n",
    "        \n",
    "        self.norm = dict()\n",
    "        i = 0\n",
    "         \n",
    "        for b in self.base:\n",
    "            self.norm[b] = self._base_norm(b, num_var)\n",
    "    \n",
    "    def _base_norm(self, basis, num_var):\n",
    "        if num_var == 1:\n",
    "            x = self.var_list[0]\n",
    "            a = self.alpha\n",
    "            b = self.beta\n",
    "            weight = (1-x)**a * (1+x)**b\n",
    "            f = lambdify(self.var_list[0], (basis * basis) * weight)\n",
    "            r = sci_int.quad(f, -1, 1, epsabs=1e-5, epsrel=1e-5, limit=20)[0]\n",
    "            return round(r, 5)\n",
    "        if num_var == 2:\n",
    "            x = self.var_list[0]\n",
    "            y = self.var_list[1]\n",
    "            a = self.alpha\n",
    "            b = self.beta\n",
    "            weight = (1-x)**a * (1+x)**b * (1-y)**a * (1+y) **b\n",
    "            f = lambdify(self.var_list, basis * basis * weight)\n",
    "            r = sci_int.nquad(f, [[-1,1],[-1, 1]], opts=[{'epsabs':1e-4, 'epsrel':1e-4, 'limit': 15}, \n",
    "                                                         {'epsabs':1e-4, 'epsrel':1e-4, 'limit': 15}])[0]\n",
    "            if abs(r) < 1e-4:\n",
    "                return 0\n",
    "            else:\n",
    "                return round(r, 5)\n",
    "        \n",
    "    def c_extract_map(self, poly, basis, num_var):\n",
    "        '''\n",
    "        Description:\n",
    "            Using orthogonality to extract the coefficient of a vector in the basis in the input polynomial.\n",
    "            The basis should be generated by the constructor of this class.\n",
    "        Reference:\n",
    "            \"Polynomial bases on the numerical solution of the multivariate discrete moment problem\"\n",
    "        Input:\n",
    "            poly --- A given polynomial\n",
    "            basis --- An element in the first kind chebyshve basis \n",
    "            num_var --- Univariate vs Bivariate\n",
    "        '''\n",
    "        if num_var > 2:\n",
    "            raise ValueError(\"Only support 2 variable max\")\n",
    "        if num_var == 1:\n",
    "            x = self.var_list[0]\n",
    "            a = self.alpha\n",
    "            b = self.beta\n",
    "            weight = (1-x)**a * (1+x)**b\n",
    "            f = lambdify(self.var_list[0], (poly * basis) * weight)\n",
    "            r = sci_int.quad(f, -1, 1, epsabs=1e-5, epsrel=1e-5, limit=20)[0]\n",
    "            if abs(r) < 1e-5:\n",
    "                return 0\n",
    "            else:\n",
    "                return round(r / self.norm[basis], 5)\n",
    "        if num_var == 2:\n",
    "            x = self.var_list[0]\n",
    "            y = self.var_list[1]\n",
    "            a = self.alpha\n",
    "            b = self.beta\n",
    "            weight = (1-x)**a * (1+x)**b * (1-y)**a * (1+y) **b\n",
    "            f = lambdify(self.var_list, poly * basis * weight)\n",
    "            r = sci_int.nquad(f, [[-1,1],[-1, 1]], opts=[{'epsabs':1e-4, 'epsrel':1e-4, 'limit': 15}, \n",
    "                                                         {'epsabs':1e-4, 'epsrel':1e-4, 'limit': 15}])[0]\n",
    "            if abs(r) < 1e-4:\n",
    "                return 0\n",
    "            else:\n",
    "                return round(r, 5)"
   ]
  },
  {
   "cell_type": "code",
   "execution_count": 10,
   "metadata": {},
   "outputs": [],
   "source": [
    "p = jacobi_poly(deg=3, num_var=2, alpha=0, beta=0)"
   ]
  },
  {
   "cell_type": "code",
   "execution_count": 11,
   "metadata": {},
   "outputs": [
    {
     "data": {
      "text/plain": [
       "{1: 4.0,\n",
       " x_0: 1.33333,\n",
       " 1.5*x_0**2 - 0.5: 0.8,\n",
       " 2.5*x_0**3 - 1.5*x_0: 0.57143,\n",
       " x_1: 1.33333,\n",
       " x_0*x_1: 0.44444,\n",
       " x_1*(1.5*x_0**2 - 0.5): 0.26667,\n",
       " 1.5*x_1**2 - 0.5: 0.8,\n",
       " x_0*(1.5*x_1**2 - 0.5): 0.26667,\n",
       " 2.5*x_1**3 - 1.5*x_1: 0.57143}"
      ]
     },
     "execution_count": 11,
     "metadata": {},
     "output_type": "execute_result"
    }
   ],
   "source": [
    "p.norm"
   ]
  },
  {
   "cell_type": "code",
   "execution_count": 28,
   "metadata": {},
   "outputs": [
    {
     "data": {
      "text/plain": [
       "[1,\n",
       " x_0,\n",
       " 1.5*x_0**2 - 0.5,\n",
       " 2.5*x_0**3 - 1.5*x_0,\n",
       " x_1,\n",
       " x_0*x_1,\n",
       " x_1*(1.5*x_0**2 - 0.5),\n",
       " 1.5*x_1**2 - 0.5,\n",
       " x_0*(1.5*x_1**2 - 0.5),\n",
       " 2.5*x_1**3 - 1.5*x_1]"
      ]
     },
     "execution_count": 28,
     "metadata": {},
     "output_type": "execute_result"
    }
   ],
   "source": [
    "p.base"
   ]
  },
  {
   "cell_type": "code",
   "execution_count": 60,
   "metadata": {},
   "outputs": [
    {
     "data": {
      "text/plain": [
       "2.99999"
      ]
     },
     "execution_count": 60,
     "metadata": {},
     "output_type": "execute_result"
    }
   ],
   "source": [
    "p.c_extract_map(3 * p.base[1] + 4 * p.base[2], p.base[1], 1)"
   ]
  },
  {
   "cell_type": "code",
   "execution_count": 57,
   "metadata": {},
   "outputs": [
    {
     "data": {
      "text/plain": [
       "[1, x_0, 1.5*x_0**2 - 0.5, 2.5*x_0**3 - 1.5*x_0]"
      ]
     },
     "execution_count": 57,
     "metadata": {},
     "output_type": "execute_result"
    }
   ],
   "source": [
    "p.base"
   ]
  },
  {
   "cell_type": "markdown",
   "metadata": {},
   "source": [
    "### Code To Preform Expermiment"
   ]
  },
  {
   "cell_type": "code",
   "execution_count": 14,
   "metadata": {},
   "outputs": [],
   "source": [
    "p = cheby_second_kind(deg=3, num_var=2)"
   ]
  },
  {
   "cell_type": "code",
   "execution_count": 16,
   "metadata": {},
   "outputs": [
    {
     "data": {
      "text/plain": [
       "[1,\n",
       " 2*x_0,\n",
       " 4*x_0**2 - 1,\n",
       " 8*x_0**3 - 4*x_0,\n",
       " 2*x_1,\n",
       " 4*x_0*x_1,\n",
       " 2*x_1*(4*x_0**2 - 1),\n",
       " 4*x_1**2 - 1,\n",
       " 2*x_0*(4*x_1**2 - 1),\n",
       " 8*x_1**3 - 4*x_1]"
      ]
     },
     "execution_count": 16,
     "metadata": {},
     "output_type": "execute_result"
    }
   ],
   "source": [
    "p.base"
   ]
  },
  {
   "cell_type": "code",
   "execution_count": 23,
   "metadata": {},
   "outputs": [],
   "source": [
    "x_0, x_1 = syms(['x_0', 'x_1'])"
   ]
  },
  {
   "cell_type": "code",
   "execution_count": 17,
   "metadata": {},
   "outputs": [],
   "source": [
    "m = mono_poly(deg=3, num_var=2)"
   ]
  },
  {
   "cell_type": "code",
   "execution_count": 18,
   "metadata": {},
   "outputs": [
    {
     "data": {
      "text/plain": [
       "[x_0**3, x_0**2*x_1, x_0*x_1**2, x_1**3, x_0**2, x_0*x_1, x_1**2, x_0, x_1, 1]"
      ]
     },
     "execution_count": 18,
     "metadata": {},
     "output_type": "execute_result"
    }
   ],
   "source": [
    "m.base"
   ]
  },
  {
   "cell_type": "code",
   "execution_count": 19,
   "metadata": {},
   "outputs": [],
   "source": [
    "a = m.base[1]"
   ]
  },
  {
   "cell_type": "code",
   "execution_count": 20,
   "metadata": {},
   "outputs": [],
   "source": [
    "b = p.base[-2]"
   ]
  },
  {
   "cell_type": "code",
   "execution_count": 21,
   "metadata": {},
   "outputs": [
    {
     "data": {
      "text/latex": [
       "$\\displaystyle 2 x_{0} \\left(4 x_{1}^{2} - 1\\right)$"
      ],
      "text/plain": [
       "2*x_0*(4*x_1**2 - 1)"
      ]
     },
     "execution_count": 21,
     "metadata": {},
     "output_type": "execute_result"
    }
   ],
   "source": [
    "b"
   ]
  },
  {
   "cell_type": "code",
   "execution_count": 38,
   "metadata": {},
   "outputs": [
    {
     "data": {
      "text/latex": [
       "$\\displaystyle 3 x_{0}$"
      ],
      "text/plain": [
       "3*x_0"
      ]
     },
     "execution_count": 38,
     "metadata": {},
     "output_type": "execute_result"
    }
   ],
   "source": [
    "integrate(1+2, x_0)"
   ]
  },
  {
   "cell_type": "code",
   "execution_count": 31,
   "metadata": {},
   "outputs": [],
   "source": [
    "f = a * b"
   ]
  },
  {
   "cell_type": "code",
   "execution_count": 47,
   "metadata": {},
   "outputs": [],
   "source": [
    "weight = sqrt(1 - x_0 ** 2) * sqrt(1 - x_1 ** 2)"
   ]
  },
  {
   "cell_type": "code",
   "execution_count": 46,
   "metadata": {},
   "outputs": [
    {
     "data": {
      "text/latex": [
       "$\\displaystyle 2 x_{0}^{3} x_{1} \\left(4 x_{1}^{2} - 1\\right)$"
      ],
      "text/plain": [
       "2*x_0**3*x_1*(4*x_1**2 - 1)"
      ]
     },
     "execution_count": 46,
     "metadata": {},
     "output_type": "execute_result"
    }
   ],
   "source": [
    "f"
   ]
  },
  {
   "cell_type": "code",
   "execution_count": 48,
   "metadata": {},
   "outputs": [],
   "source": [
    "f = 2 * x_0 ** 3 * x_1 * (4 * x_1 ** 2 - 1)"
   ]
  },
  {
   "cell_type": "code",
   "execution_count": 49,
   "metadata": {},
   "outputs": [],
   "source": [
    "f = f * weight"
   ]
  },
  {
   "cell_type": "code",
   "execution_count": null,
   "metadata": {},
   "outputs": [],
   "source": []
  },
  {
   "cell_type": "code",
   "execution_count": null,
   "metadata": {},
   "outputs": [],
   "source": []
  },
  {
   "cell_type": "code",
   "execution_count": 54,
   "metadata": {},
   "outputs": [],
   "source": [
    "weight = sqrt(1 - x_0** 2)"
   ]
  },
  {
   "cell_type": "code",
   "execution_count": 55,
   "metadata": {},
   "outputs": [],
   "source": [
    "p = cheby_second_kind(deg=3, num_var=1)"
   ]
  },
  {
   "cell_type": "code",
   "execution_count": 56,
   "metadata": {},
   "outputs": [],
   "source": [
    "m = mono_poly(deg=3, num_var=1)"
   ]
  },
  {
   "cell_type": "code",
   "execution_count": 58,
   "metadata": {},
   "outputs": [
    {
     "data": {
      "text/plain": [
       "[x_0**3, x_0**2, x_0, 1]"
      ]
     },
     "execution_count": 58,
     "metadata": {},
     "output_type": "execute_result"
    }
   ],
   "source": [
    "m.base"
   ]
  },
  {
   "cell_type": "code",
   "execution_count": 59,
   "metadata": {},
   "outputs": [
    {
     "data": {
      "text/plain": [
       "[1, 2*x_0, 4*x_0**2 - 1, 8*x_0**3 - 4*x_0]"
      ]
     },
     "execution_count": 59,
     "metadata": {},
     "output_type": "execute_result"
    }
   ],
   "source": [
    "p.base"
   ]
  },
  {
   "cell_type": "code",
   "execution_count": 69,
   "metadata": {},
   "outputs": [],
   "source": [
    "f = m.base[1] * p.base[2] * weight"
   ]
  },
  {
   "cell_type": "code",
   "execution_count": 70,
   "metadata": {},
   "outputs": [],
   "source": [
    "f = sp.simplify(f)"
   ]
  },
  {
   "cell_type": "code",
   "execution_count": 76,
   "metadata": {},
   "outputs": [],
   "source": [
    "f = sp.expand(f)"
   ]
  },
  {
   "cell_type": "code",
   "execution_count": 77,
   "metadata": {},
   "outputs": [
    {
     "data": {
      "text/latex": [
       "$\\displaystyle 4 x_{0}^{4} \\sqrt{1 - x_{0}^{2}} - x_{0}^{2} \\sqrt{1 - x_{0}^{2}}$"
      ],
      "text/plain": [
       "4*x_0**4*sqrt(1 - x_0**2) - x_0**2*sqrt(1 - x_0**2)"
      ]
     },
     "execution_count": 77,
     "metadata": {},
     "output_type": "execute_result"
    }
   ],
   "source": [
    "f"
   ]
  },
  {
   "cell_type": "code",
   "execution_count": 78,
   "metadata": {},
   "outputs": [
    {
     "data": {
      "text/latex": [
       "$\\displaystyle \\frac{\\pi}{8}$"
      ],
      "text/plain": [
       "pi/8"
      ]
     },
     "execution_count": 78,
     "metadata": {},
     "output_type": "execute_result"
    }
   ],
   "source": [
    "integrate(f, (x_0, -1, 1))"
   ]
  },
  {
   "cell_type": "code",
   "execution_count": 74,
   "metadata": {},
   "outputs": [],
   "source": [
    "b = lambdify(x_0, f)\n",
    "r = sci_int.quad(b, -1, 1, epsabs=1e-5, epsrel=1e-5, limit=20)[0]"
   ]
  },
  {
   "cell_type": "code",
   "execution_count": 75,
   "metadata": {},
   "outputs": [
    {
     "data": {
      "text/plain": [
       "0.3926990816969261"
      ]
     },
     "execution_count": 75,
     "metadata": {},
     "output_type": "execute_result"
    }
   ],
   "source": [
    "r"
   ]
  },
  {
   "cell_type": "code",
   "execution_count": null,
   "metadata": {},
   "outputs": [],
   "source": []
  },
  {
   "cell_type": "code",
   "execution_count": 53,
   "metadata": {},
   "outputs": [
    {
     "data": {
      "text/latex": [
       "$\\displaystyle 0$"
      ],
      "text/plain": [
       "0"
      ]
     },
     "execution_count": 53,
     "metadata": {},
     "output_type": "execute_result"
    }
   ],
   "source": [
    "integrate(integrate(f, (x_0, -1, 1)), (x_1, -1, 1))"
   ]
  },
  {
   "cell_type": "code",
   "execution_count": 12,
   "metadata": {},
   "outputs": [],
   "source": [
    "def gen_mmoment_matrix(base_vec):\n",
    "    m_mtx = base_vec * spmtx.transpose(base_vec)\n",
    "    for i in range(m_mtx.shape[0]):\n",
    "        for j in range(m_mtx.shape[1]):\n",
    "            m_mtx[i, j] = sp.expand(m_mtx[i, j])\n",
    "    \n",
    "    return m_mtx\n",
    "\n",
    "def a_vec(m_mtx, base_type, basis, num_var):\n",
    "    # print(\"Moment Matrix Shape:\")\n",
    "    # print(m_mtx.shape)\n",
    "    # print()\n",
    "    a = []\n",
    "    for i in range(0, m_mtx.shape[0]):\n",
    "        for j in range(i, m_mtx.shape[1]):\n",
    "            #print(\"Time Extracting Map\")\n",
    "            #start = time.process_time()\n",
    "            coeff = base_type.c_extract_map(m_mtx[i, j], basis, num_var)\n",
    "            #print(time.process_time() - start)\n",
    "            if i != j:\n",
    "                coeff *= 2\n",
    "            a.append(coeff)\n",
    "    return a\n",
    "\n",
    "def A_mtx(m_mtx, base_type, base, num_var):\n",
    "    A = []\n",
    "    #with progressbar.ProgressBar(max_value=len(base)) as bar:\n",
    "    for b in base:\n",
    "        A.append(a_vec(m_mtx, base_type, b, num_var))\n",
    "        #bar.update(i)\n",
    "    return spmtx(A)\n",
    "\n",
    "def experiment(m_mtx_base, poly_base, deg, num_var):\n",
    "    if deg % 2 != 0:\n",
    "        print(\"No need to experiment polynomial with even degree\")\n",
    "        return 0\n",
    "\n",
    "    #print('calculating moment matrix')\n",
    "    r = m_mtx_base(deg = deg // 2, num_var = num_var)\n",
    "    m_mtx = gen_mmoment_matrix(r.base_vec)\n",
    "    #print('calculating A matrix')\n",
    "    base = poly_base(deg=deg, num_var = num_var)\n",
    "    A = A_mtx(m_mtx, base_type=base, base=base.base, num_var=base.num_var)\n",
    "    #print('calculating condition number')\n",
    "    c_num = condition_num(A)\n",
    "    # print('found condition num')\n",
    "    return c_num"
   ]
  },
  {
   "cell_type": "markdown",
   "metadata": {},
   "source": [
    "## Experiment Section"
   ]
  },
  {
   "cell_type": "markdown",
   "metadata": {},
   "source": [
    "### Univariate Experiment"
   ]
  },
  {
   "cell_type": "code",
   "execution_count": null,
   "metadata": {},
   "outputs": [],
   "source": [
    "class legendre:\n",
    "    '''\n",
    "    The chebyshev first kind polynomial basis class\n",
    "    data_field:\n",
    "        var_list: A list of symbols for different variables\n",
    "        num_var: The number of variables\n",
    "        degree: The total degree of the polynomial\n",
    "        base: A list of terms that the basis consists\n",
    "        base_vec: A sympy matrix (vector) of each element in the basis.\n",
    "        coeff: A list of coeffs related to each basis\n",
    "    '''\n",
    "    def _gen_terms_biv(self, total_degree):\n",
    "        '''\n",
    "        Description:\n",
    "            Generate all the terms in a bases of bivaraite polynomials using\n",
    "            bivariate legendre polynomials\n",
    "        Reference:\n",
    "             The construction of multivariate chebyshev is based on what Gergely Mádi-Nagy proposed in his\n",
    "            \"Polynomial bases on the numerical solution of the multivariate discrete moment problem\"\n",
    "        Input:\n",
    "            total_degree --- the maximun degree of the polynomial\n",
    "        '''\n",
    "        var_list = []\n",
    "        for i in range(len(self.var_list)):\n",
    "            var_list.append(self.var_list.popleft())\n",
    "        self.var_list = deque()\n",
    "        self.var_list.append(var_list[0])\n",
    "        terms_x_0 = self._gen_terms_uni(total_degree)\n",
    "        self.var_list.popleft()\n",
    "        \n",
    "        self.var_list.append(var_list[1])\n",
    "        terms_x_1 = self._gen_terms_uni(total_degree)\n",
    "        self.var_list.popleft()\n",
    "        \n",
    "        for var in var_list:\n",
    "            self.var_list.append(var)\n",
    "        terms = []\n",
    "        for order_1 in range(len(terms_x_1)):\n",
    "            for order_0 in range(len(terms_x_0) - order_1):\n",
    "                terms.append(terms_x_0[order_0] * terms_x_1[order_1])\n",
    "                # terms.append(sp.expand(x_0 * x_1))\n",
    "        return terms\n",
    "    \n",
    "    def _gen_terms_uni(self, total_degree):\n",
    "        '''\n",
    "        Description:\n",
    "            Generate all the terms in a bases of univaraite polynomials using\n",
    "            univariate chebyshev polynomial of the second kind\n",
    "        Reference:\n",
    "            https://en.wikipedia.org/wiki/Chebyshev_polynomials\n",
    "        Input:\n",
    "            total_degree --- the maximun degree of the polynomial\n",
    "        '''\n",
    "        if total_degree == 0:\n",
    "            return [1]\n",
    "        L = [1, self.var_list[0]]\n",
    "        for i in range(2, total_degree + 1):\n",
    "            n_term = (2*i-1)/i*self.var_list[0]*L[i-1] - (i-1)/i*L[i-2]\n",
    "            n_term = sp.simplify(n_term)\n",
    "            n_term = sp.expand(n_term)\n",
    "            L.append(n_term)\n",
    "        return L\n",
    "    \n",
    "\n",
    "    def __init__(self, deg, num_var, coeff=None):\n",
    "        '''\n",
    "        Description:\n",
    "            Initalize a basis of the polynomial space by the second kind chebyshev polynomials.\n",
    "        Input:\n",
    "            deg --- The max degree of the polynomail space\n",
    "            num_var --- number of variables in the polynomial space\n",
    "        '''\n",
    "        if num_var > 2:\n",
    "            raise ValueError(\"Only support 2 variable max\")\n",
    "        \n",
    "        self.degree = deg\n",
    "        self.num_var = num_var\n",
    "        \n",
    "        self.var_list = deque()\n",
    "        for i in range(num_var):\n",
    "            self.var_list.append(syms('x_' + str(i)))\n",
    "        \n",
    "        if num_var == 1:\n",
    "            terms = self._gen_terms_uni(self.degree)\n",
    "        elif num_var == 2:\n",
    "            terms = self._gen_terms_biv(self.degree)\n",
    "\n",
    "        self.base = terms\n",
    "        self.base_vec = spmtx(terms) # arrange the terms in a vector format\n",
    "        if coeff == None:\n",
    "            pass\n",
    "        self.coeff = coeff\n",
    "\n",
    "        self.norm = dict()\n",
    "        i = 0\n",
    "        #with progressbar.ProgressBar(max_value=len(self.base)) as bar:\n",
    "        for b in self.base:\n",
    "            self.norm[b] = self._base_norm(b, num_var)\n",
    "                #bar.update(i)\n",
    "                #i+=1\n",
    "    \n",
    "    \n",
    "    def _base_norm(self, b, num_var):\n",
    "        '''\n",
    "        Description:\n",
    "            Pre-calculate the norm of an element in the basis using the corresponding inner product.\n",
    "        Input:\n",
    "            b --- an element in the basis\n",
    "            num_var --- univariate vs bivariate\n",
    "        '''\n",
    "        if num_var > 2:\n",
    "            raise ValueError(\"Only support 2 variable max\")\n",
    "        if num_var == 1:\n",
    "            weight = 1\n",
    "            f = lambdify(self.var_list[0], (b * b) * weight)\n",
    "            r = sci_int.quad(f, -1, 1, epsabs=1e-4, epsrel=1e-4, limit=15)[0]\n",
    "            if r < 1e-4:\n",
    "                return 0\n",
    "            else:\n",
    "                return round(r, 5)\n",
    "        if num_var == 2:\n",
    "            weight = 1\n",
    "            f = lambdify(self.var_list, b * b * weight)\n",
    "            r = sci_int.nquad(f, [[-1,1],[-1, 1]], opts=[{'epsabs':1e-4, 'epsrel':1e-4, 'limit': 15}, \n",
    "                                                         {'epsabs':1e-4, 'epsrel':1e-4, 'limit': 15}])[0]\n",
    "            if r < 1e-4:\n",
    "                return 0\n",
    "            else:\n",
    "                return round(r, 5)\n",
    "    \n",
    "    def c_extract_map(self, poly, basis, num_var):\n",
    "        '''\n",
    "        Description:\n",
    "            Using orthogonality to extract the coefficient of a vector in the basis in the input polynomial.\n",
    "            The basis should be generated by the constructor of this class.\n",
    "        Reference:\n",
    "            https://en.wikipedia.org/wiki/Legendre_polynomials\n",
    "            \"Polynomial bases on the numerical solution of the multivariate discrete moment problem\"\n",
    "        Input:\n",
    "            poly --- A given polynomial\n",
    "            basis --- An element in the first kind chebyshve basis \n",
    "            num_var --- Univariate vs Bivariate\n",
    "        '''\n",
    "        if num_var > 2:\n",
    "            raise ValueError(\"Only support 2 variable max\")\n",
    "        if num_var == 1:\n",
    "            weight = 1\n",
    "            f = (poly * basis) * weight\n",
    "            # r = sci_int.quad(f, -1, 1, epsabs=1e-5, epsrel=1e-5, limit=20)[0]\n",
    "            \n",
    "            if abs(r) < 1e-5:\n",
    "                return 0\n",
    "            else:\n",
    "                return round(r / self.norm[basis], 5)\n",
    "        if num_var == 2:\n",
    "            weight = 1\n",
    "            f = lambdify(self.var_list, poly * basis * weight)\n",
    "            r = sci_int.nquad(f, [[-1,1],[-1, 1]], opts=[{'epsabs':1e-4, 'epsrel':1e-4, 'limit': 15}, \n",
    "                                                         {'epsabs':1e-4, 'epsrel':1e-4, 'limit': 15}])[0]\n",
    "            if abs(r) < 1e-4:\n",
    "                return 0\n",
    "            else:\n",
    "                return round(r / self.norm[basis], 5)"
   ]
  },
  {
   "cell_type": "code",
   "execution_count": null,
   "metadata": {},
   "outputs": [],
   "source": []
  },
  {
   "cell_type": "code",
   "execution_count": null,
   "metadata": {},
   "outputs": [],
   "source": []
  },
  {
   "cell_type": "code",
   "execution_count": null,
   "metadata": {},
   "outputs": [],
   "source": []
  },
  {
   "cell_type": "code",
   "execution_count": null,
   "metadata": {},
   "outputs": [],
   "source": []
  },
  {
   "cell_type": "code",
   "execution_count": null,
   "metadata": {},
   "outputs": [],
   "source": []
  },
  {
   "cell_type": "code",
   "execution_count": null,
   "metadata": {},
   "outputs": [],
   "source": []
  },
  {
   "cell_type": "code",
   "execution_count": 30,
   "metadata": {},
   "outputs": [
    {
     "name": "stderr",
     "output_type": "stream",
     "text": [
      "100% (7 of 7) |##########################| Elapsed Time: 0:00:00 Time:  0:00:00\n"
     ]
    },
    {
     "data": {
      "image/png": "[encoded data removed]",
      "text/plain": [
       "<Figure size 432x288 with 1 Axes>"
      ]
     },
     "metadata": {
      "needs_background": "light"
     },
     "output_type": "display_data"
    },
    {
     "name": "stderr",
     "output_type": "stream",
     "text": [
      " 28% (2 of 7) |#######                   | Elapsed Time: 0:00:00 ETA:   0:00:00<ipython-input-7-4499988f32a5>:151: IntegrationWarning: The integral is probably divergent, or slowly convergent.\n",
      "  r = sci_int.quad(f, -1, 1, epsabs=1e-5, epsrel=1e-5, limit=20)[0]\n",
      " 71% (5 of 7) |##################        | Elapsed Time: 0:00:01 ETA:   0:00:00<ipython-input-7-4499988f32a5>:119: IntegrationWarning: The maximum number of subdivisions (15) has been achieved.\n",
      "  If increasing the limit yields no improvement it is advised to analyze \n",
      "  the integrand in order to determine the difficulties.  If the position of a \n",
      "  local difficulty can be determined (singularity, discontinuity) one will \n",
      "  probably gain from splitting up the interval and calling the integrator \n",
      "  on the subranges.  Perhaps a special-purpose integrator should be used.\n",
      "  r = sci_int.quad(f, -1, 1, epsabs=1e-4, epsrel=1e-4, limit=15)[0]\n",
      "<ipython-input-7-4499988f32a5>:151: IntegrationWarning: The maximum number of subdivisions (20) has been achieved.\n",
      "  If increasing the limit yields no improvement it is advised to analyze \n",
      "  the integrand in order to determine the difficulties.  If the position of a \n",
      "  local difficulty can be determined (singularity, discontinuity) one will \n",
      "  probably gain from splitting up the interval and calling the integrator \n",
      "  on the subranges.  Perhaps a special-purpose integrator should be used.\n",
      "  r = sci_int.quad(f, -1, 1, epsabs=1e-5, epsrel=1e-5, limit=20)[0]\n",
      "100% (7 of 7) |##########################| Elapsed Time: 0:00:04 Time:  0:00:04\n"
     ]
    },
    {
     "data": {
      "image/png": "[encoded data removed]",
      "text/plain": [
       "<Figure size 432x288 with 1 Axes>"
      ]
     },
     "metadata": {
      "needs_background": "light"
     },
     "output_type": "display_data"
    },
    {
     "name": "stderr",
     "output_type": "stream",
     "text": [
      " 57% (4 of 7) |##############            | Elapsed Time: 0:00:00 ETA:   0:00:00<ipython-input-6-17d9a42bb766>:149: IntegrationWarning: The integral is probably divergent, or slowly convergent.\n",
      "  r = sci_int.quad(f, -1, 1, epsabs=1e-5, epsrel=1e-5, limit=20)[0]\n",
      "100% (7 of 7) |##########################| Elapsed Time: 0:00:04 Time:  0:00:04\n"
     ]
    },
    {
     "data": {
      "image/png": "[encoded data removed]",
      "text/plain": [
       "<Figure size 432x288 with 1 Axes>"
      ]
     },
     "metadata": {
      "needs_background": "light"
     },
     "output_type": "display_data"
    },
    {
     "name": "stderr",
     "output_type": "stream",
     "text": [
      "\n"
     ]
    },
    {
     "ename": "TypeError",
     "evalue": "legendre takes exactly 2 arguments (0 given)",
     "output_type": "error",
     "traceback": [
      "\u001b[0;31m---------------------------------------------------------------------------\u001b[0m",
      "\u001b[0;31mTypeError\u001b[0m                                 Traceback (most recent call last)",
      "\u001b[0;32m/usr/local/lib/python3.9/site-packages/sympy/core/cache.py\u001b[0m in \u001b[0;36mwrapper\u001b[0;34m(*args, **kwargs)\u001b[0m\n\u001b[1;32m     71\u001b[0m             \u001b[0;32mtry\u001b[0m\u001b[0;34m:\u001b[0m\u001b[0;34m\u001b[0m\u001b[0;34m\u001b[0m\u001b[0m\n\u001b[0;32m---> 72\u001b[0;31m                 \u001b[0mretval\u001b[0m \u001b[0;34m=\u001b[0m \u001b[0mcfunc\u001b[0m\u001b[0;34m(\u001b[0m\u001b[0;34m*\u001b[0m\u001b[0margs\u001b[0m\u001b[0;34m,\u001b[0m \u001b[0;34m**\u001b[0m\u001b[0mkwargs\u001b[0m\u001b[0;34m)\u001b[0m\u001b[0;34m\u001b[0m\u001b[0;34m\u001b[0m\u001b[0m\n\u001b[0m\u001b[1;32m     73\u001b[0m             \u001b[0;32mexcept\u001b[0m \u001b[0mTypeError\u001b[0m\u001b[0;34m:\u001b[0m\u001b[0;34m\u001b[0m\u001b[0;34m\u001b[0m\u001b[0m\n",
      "\u001b[0;32m/usr/local/lib/python3.9/site-packages/sympy/core/function.py\u001b[0m in \u001b[0;36m__new__\u001b[0;34m(cls, *args, **options)\u001b[0m\n\u001b[1;32m    464\u001b[0m                    'argument%(plural)s (%(given)s given)')\n\u001b[0;32m--> 465\u001b[0;31m             raise TypeError(temp % {\n\u001b[0m\u001b[1;32m    466\u001b[0m                 \u001b[0;34m'name'\u001b[0m\u001b[0;34m:\u001b[0m \u001b[0mcls\u001b[0m\u001b[0;34m,\u001b[0m\u001b[0;34m\u001b[0m\u001b[0;34m\u001b[0m\u001b[0m\n",
      "\u001b[0;31mTypeError\u001b[0m: legendre takes exactly 2 arguments (0 given)",
      "\nDuring handling of the above exception, another exception occurred:\n",
      "\u001b[0;31mTypeError\u001b[0m                                 Traceback (most recent call last)",
      "\u001b[0;32m<ipython-input-30-ed412836ce5d>\u001b[0m in \u001b[0;36m<module>\u001b[0;34m\u001b[0m\n\u001b[1;32m      6\u001b[0m         \u001b[0;32mwith\u001b[0m \u001b[0mprogressbar\u001b[0m\u001b[0;34m.\u001b[0m\u001b[0mProgressBar\u001b[0m\u001b[0;34m(\u001b[0m\u001b[0mmax_value\u001b[0m\u001b[0;34m=\u001b[0m\u001b[0;36m7\u001b[0m\u001b[0;34m)\u001b[0m \u001b[0;32mas\u001b[0m \u001b[0mbar\u001b[0m\u001b[0;34m:\u001b[0m\u001b[0;34m\u001b[0m\u001b[0;34m\u001b[0m\u001b[0m\n\u001b[1;32m      7\u001b[0m             \u001b[0;32mfor\u001b[0m \u001b[0mi\u001b[0m \u001b[0;32min\u001b[0m \u001b[0mrange\u001b[0m\u001b[0;34m(\u001b[0m\u001b[0;36m1\u001b[0m\u001b[0;34m,\u001b[0m \u001b[0;36m8\u001b[0m\u001b[0;34m)\u001b[0m\u001b[0;34m:\u001b[0m\u001b[0;34m\u001b[0m\u001b[0;34m\u001b[0m\u001b[0m\n\u001b[0;32m----> 8\u001b[0;31m                 \u001b[0mconds\u001b[0m\u001b[0;34m.\u001b[0m\u001b[0mappend\u001b[0m\u001b[0;34m(\u001b[0m\u001b[0mexperiment\u001b[0m\u001b[0;34m(\u001b[0m\u001b[0mc_m\u001b[0m\u001b[0;34m,\u001b[0m \u001b[0mc_p\u001b[0m\u001b[0;34m,\u001b[0m \u001b[0mi\u001b[0m\u001b[0;34m*\u001b[0m\u001b[0;36m2\u001b[0m\u001b[0;34m,\u001b[0m \u001b[0;36m1\u001b[0m\u001b[0;34m)\u001b[0m\u001b[0;34m)\u001b[0m\u001b[0;34m\u001b[0m\u001b[0;34m\u001b[0m\u001b[0m\n\u001b[0m\u001b[1;32m      9\u001b[0m                 \u001b[0mx\u001b[0m\u001b[0;34m.\u001b[0m\u001b[0mappend\u001b[0m\u001b[0;34m(\u001b[0m\u001b[0mi\u001b[0m \u001b[0;34m*\u001b[0m \u001b[0;36m2\u001b[0m\u001b[0;34m)\u001b[0m\u001b[0;34m\u001b[0m\u001b[0;34m\u001b[0m\u001b[0m\n\u001b[1;32m     10\u001b[0m                 \u001b[0mbar\u001b[0m\u001b[0;34m.\u001b[0m\u001b[0mupdate\u001b[0m\u001b[0;34m(\u001b[0m\u001b[0mi\u001b[0m\u001b[0;34m)\u001b[0m\u001b[0;34m\u001b[0m\u001b[0;34m\u001b[0m\u001b[0m\n",
      "\u001b[0;32m<ipython-input-29-3c189cfaa8b3>\u001b[0m in \u001b[0;36mexperiment\u001b[0;34m(m_mtx_base, poly_base, deg, num_var)\u001b[0m\n\u001b[1;32m     40\u001b[0m     \u001b[0mm_mtx\u001b[0m \u001b[0;34m=\u001b[0m \u001b[0mgen_mmoment_matrix\u001b[0m\u001b[0;34m(\u001b[0m\u001b[0mr\u001b[0m\u001b[0;34m.\u001b[0m\u001b[0mbase_vec\u001b[0m\u001b[0;34m)\u001b[0m\u001b[0;34m\u001b[0m\u001b[0;34m\u001b[0m\u001b[0m\n\u001b[1;32m     41\u001b[0m     \u001b[0;31m#print('calculating A matrix')\u001b[0m\u001b[0;34m\u001b[0m\u001b[0;34m\u001b[0m\u001b[0;34m\u001b[0m\u001b[0m\n\u001b[0;32m---> 42\u001b[0;31m     \u001b[0mbase\u001b[0m \u001b[0;34m=\u001b[0m \u001b[0mpoly_base\u001b[0m\u001b[0;34m(\u001b[0m\u001b[0mdeg\u001b[0m\u001b[0;34m=\u001b[0m\u001b[0mdeg\u001b[0m\u001b[0;34m,\u001b[0m \u001b[0mnum_var\u001b[0m \u001b[0;34m=\u001b[0m \u001b[0mnum_var\u001b[0m\u001b[0;34m)\u001b[0m\u001b[0;34m\u001b[0m\u001b[0;34m\u001b[0m\u001b[0m\n\u001b[0m\u001b[1;32m     43\u001b[0m     \u001b[0mA\u001b[0m \u001b[0;34m=\u001b[0m \u001b[0mA_mtx\u001b[0m\u001b[0;34m(\u001b[0m\u001b[0mm_mtx\u001b[0m\u001b[0;34m,\u001b[0m \u001b[0mbase_type\u001b[0m\u001b[0;34m=\u001b[0m\u001b[0mbase\u001b[0m\u001b[0;34m,\u001b[0m \u001b[0mbase\u001b[0m\u001b[0;34m=\u001b[0m\u001b[0mbase\u001b[0m\u001b[0;34m.\u001b[0m\u001b[0mbase\u001b[0m\u001b[0;34m,\u001b[0m \u001b[0mnum_var\u001b[0m\u001b[0;34m=\u001b[0m\u001b[0mbase\u001b[0m\u001b[0;34m.\u001b[0m\u001b[0mnum_var\u001b[0m\u001b[0;34m)\u001b[0m\u001b[0;34m\u001b[0m\u001b[0;34m\u001b[0m\u001b[0m\n\u001b[1;32m     44\u001b[0m     \u001b[0;31m#print('calculating condition number')\u001b[0m\u001b[0;34m\u001b[0m\u001b[0;34m\u001b[0m\u001b[0;34m\u001b[0m\u001b[0m\n",
      "\u001b[0;32m/usr/local/lib/python3.9/site-packages/sympy/core/cache.py\u001b[0m in \u001b[0;36mwrapper\u001b[0;34m(*args, **kwargs)\u001b[0m\n\u001b[1;32m     72\u001b[0m                 \u001b[0mretval\u001b[0m \u001b[0;34m=\u001b[0m \u001b[0mcfunc\u001b[0m\u001b[0;34m(\u001b[0m\u001b[0;34m*\u001b[0m\u001b[0margs\u001b[0m\u001b[0;34m,\u001b[0m \u001b[0;34m**\u001b[0m\u001b[0mkwargs\u001b[0m\u001b[0;34m)\u001b[0m\u001b[0;34m\u001b[0m\u001b[0;34m\u001b[0m\u001b[0m\n\u001b[1;32m     73\u001b[0m             \u001b[0;32mexcept\u001b[0m \u001b[0mTypeError\u001b[0m\u001b[0;34m:\u001b[0m\u001b[0;34m\u001b[0m\u001b[0;34m\u001b[0m\u001b[0m\n\u001b[0;32m---> 74\u001b[0;31m                 \u001b[0mretval\u001b[0m \u001b[0;34m=\u001b[0m \u001b[0mfunc\u001b[0m\u001b[0;34m(\u001b[0m\u001b[0;34m*\u001b[0m\u001b[0margs\u001b[0m\u001b[0;34m,\u001b[0m \u001b[0;34m**\u001b[0m\u001b[0mkwargs\u001b[0m\u001b[0;34m)\u001b[0m\u001b[0;34m\u001b[0m\u001b[0;34m\u001b[0m\u001b[0m\n\u001b[0m\u001b[1;32m     75\u001b[0m             \u001b[0;32mreturn\u001b[0m \u001b[0mretval\u001b[0m\u001b[0;34m\u001b[0m\u001b[0;34m\u001b[0m\u001b[0m\n\u001b[1;32m     76\u001b[0m \u001b[0;34m\u001b[0m\u001b[0m\n",
      "\u001b[0;32m/usr/local/lib/python3.9/site-packages/sympy/core/function.py\u001b[0m in \u001b[0;36m__new__\u001b[0;34m(cls, *args, **options)\u001b[0m\n\u001b[1;32m    463\u001b[0m             temp = ('%(name)s takes %(qual)s %(args)s '\n\u001b[1;32m    464\u001b[0m                    'argument%(plural)s (%(given)s given)')\n\u001b[0;32m--> 465\u001b[0;31m             raise TypeError(temp % {\n\u001b[0m\u001b[1;32m    466\u001b[0m                 \u001b[0;34m'name'\u001b[0m\u001b[0;34m:\u001b[0m \u001b[0mcls\u001b[0m\u001b[0;34m,\u001b[0m\u001b[0;34m\u001b[0m\u001b[0;34m\u001b[0m\u001b[0m\n\u001b[1;32m    467\u001b[0m                 \u001b[0;34m'qual'\u001b[0m\u001b[0;34m:\u001b[0m \u001b[0;34m'exactly'\u001b[0m \u001b[0;32mif\u001b[0m \u001b[0mlen\u001b[0m\u001b[0;34m(\u001b[0m\u001b[0mcls\u001b[0m\u001b[0;34m.\u001b[0m\u001b[0mnargs\u001b[0m\u001b[0;34m)\u001b[0m \u001b[0;34m==\u001b[0m \u001b[0;36m1\u001b[0m \u001b[0;32melse\u001b[0m \u001b[0;34m'at least'\u001b[0m\u001b[0;34m,\u001b[0m\u001b[0;34m\u001b[0m\u001b[0;34m\u001b[0m\u001b[0m\n",
      "\u001b[0;31mTypeError\u001b[0m: legendre takes exactly 2 arguments (0 given)"
     ]
    }
   ],
   "source": [
    "classes = [mono_poly, cheby_first_kind, cheby_second_kind, legendre]\n",
    "for c_m in classes:\n",
    "    for c_p in classes:\n",
    "        conds = []\n",
    "        x = []\n",
    "        with progressbar.ProgressBar(max_value=7) as bar:\n",
    "            for i in range(1, 8):\n",
    "                conds.append(experiment(c_m, c_p, i*2, 1))\n",
    "                x.append(i * 2)\n",
    "                bar.update(i)\n",
    "        plt.title(str(c_m.__name__) + ' - ' + str(c_p.__name__))\n",
    "        plt.plot(x, conds)\n",
    "        plt.savefig('univariate/' + str(c_m.__name__) + '_' + str(c_p.__name__) + '.png')\n",
    "        plt.show()"
   ]
  },
  {
   "cell_type": "markdown",
   "metadata": {},
   "source": [
    "### Bivariate Experiement"
   ]
  },
  {
   "cell_type": "code",
   "execution_count": null,
   "metadata": {},
   "outputs": [],
   "source": []
  },
  {
   "cell_type": "code",
   "execution_count": 64,
   "metadata": {},
   "outputs": [
    {
     "name": "stderr",
     "output_type": "stream",
     "text": [
      "\n"
     ]
    },
    {
     "ename": "TypeError",
     "evalue": "__init__() missing 2 required positional arguments: 'alpha' and 'beta'",
     "output_type": "error",
     "traceback": [
      "\u001b[0;31m---------------------------------------------------------------------------\u001b[0m",
      "\u001b[0;31mTypeError\u001b[0m                                 Traceback (most recent call last)",
      "\u001b[0;32m<ipython-input-64-2e07722452ee>\u001b[0m in \u001b[0;36m<module>\u001b[0;34m\u001b[0m\n\u001b[1;32m      3\u001b[0m \u001b[0;32mwith\u001b[0m \u001b[0mprogressbar\u001b[0m\u001b[0;34m.\u001b[0m\u001b[0mProgressBar\u001b[0m\u001b[0;34m(\u001b[0m\u001b[0mmax_value\u001b[0m\u001b[0;34m=\u001b[0m\u001b[0;36m3\u001b[0m\u001b[0;34m)\u001b[0m \u001b[0;32mas\u001b[0m \u001b[0mbar\u001b[0m\u001b[0;34m:\u001b[0m\u001b[0;34m\u001b[0m\u001b[0;34m\u001b[0m\u001b[0m\n\u001b[1;32m      4\u001b[0m     \u001b[0;32mfor\u001b[0m \u001b[0mi\u001b[0m \u001b[0;32min\u001b[0m \u001b[0mrange\u001b[0m\u001b[0;34m(\u001b[0m\u001b[0;36m1\u001b[0m\u001b[0;34m,\u001b[0m \u001b[0;36m4\u001b[0m\u001b[0;34m)\u001b[0m\u001b[0;34m:\u001b[0m\u001b[0;34m\u001b[0m\u001b[0;34m\u001b[0m\u001b[0m\n\u001b[0;32m----> 5\u001b[0;31m         \u001b[0mconds\u001b[0m\u001b[0;34m.\u001b[0m\u001b[0mappend\u001b[0m\u001b[0;34m(\u001b[0m\u001b[0mexperiment\u001b[0m\u001b[0;34m(\u001b[0m\u001b[0mmono_poly\u001b[0m\u001b[0;34m,\u001b[0m \u001b[0mjacobi_poly\u001b[0m\u001b[0;34m,\u001b[0m \u001b[0mi\u001b[0m\u001b[0;34m*\u001b[0m\u001b[0;36m2\u001b[0m\u001b[0;34m,\u001b[0m \u001b[0;36m2\u001b[0m\u001b[0;34m)\u001b[0m\u001b[0;34m)\u001b[0m\u001b[0;34m\u001b[0m\u001b[0;34m\u001b[0m\u001b[0m\n\u001b[0m\u001b[1;32m      6\u001b[0m         \u001b[0mx\u001b[0m\u001b[0;34m.\u001b[0m\u001b[0mappend\u001b[0m\u001b[0;34m(\u001b[0m\u001b[0mi\u001b[0m \u001b[0;34m*\u001b[0m \u001b[0;36m2\u001b[0m\u001b[0;34m)\u001b[0m\u001b[0;34m\u001b[0m\u001b[0;34m\u001b[0m\u001b[0m\n\u001b[1;32m      7\u001b[0m         \u001b[0mbar\u001b[0m\u001b[0;34m.\u001b[0m\u001b[0mupdate\u001b[0m\u001b[0;34m(\u001b[0m\u001b[0mi\u001b[0m\u001b[0;34m)\u001b[0m\u001b[0;34m\u001b[0m\u001b[0;34m\u001b[0m\u001b[0m\n",
      "\u001b[0;32m<ipython-input-61-3c189cfaa8b3>\u001b[0m in \u001b[0;36mexperiment\u001b[0;34m(m_mtx_base, poly_base, deg, num_var)\u001b[0m\n\u001b[1;32m     40\u001b[0m     \u001b[0mm_mtx\u001b[0m \u001b[0;34m=\u001b[0m \u001b[0mgen_mmoment_matrix\u001b[0m\u001b[0;34m(\u001b[0m\u001b[0mr\u001b[0m\u001b[0;34m.\u001b[0m\u001b[0mbase_vec\u001b[0m\u001b[0;34m)\u001b[0m\u001b[0;34m\u001b[0m\u001b[0;34m\u001b[0m\u001b[0m\n\u001b[1;32m     41\u001b[0m     \u001b[0;31m#print('calculating A matrix')\u001b[0m\u001b[0;34m\u001b[0m\u001b[0;34m\u001b[0m\u001b[0;34m\u001b[0m\u001b[0m\n\u001b[0;32m---> 42\u001b[0;31m     \u001b[0mbase\u001b[0m \u001b[0;34m=\u001b[0m \u001b[0mpoly_base\u001b[0m\u001b[0;34m(\u001b[0m\u001b[0mdeg\u001b[0m\u001b[0;34m=\u001b[0m\u001b[0mdeg\u001b[0m\u001b[0;34m,\u001b[0m \u001b[0mnum_var\u001b[0m \u001b[0;34m=\u001b[0m \u001b[0mnum_var\u001b[0m\u001b[0;34m)\u001b[0m\u001b[0;34m\u001b[0m\u001b[0;34m\u001b[0m\u001b[0m\n\u001b[0m\u001b[1;32m     43\u001b[0m     \u001b[0mA\u001b[0m \u001b[0;34m=\u001b[0m \u001b[0mA_mtx\u001b[0m\u001b[0;34m(\u001b[0m\u001b[0mm_mtx\u001b[0m\u001b[0;34m,\u001b[0m \u001b[0mbase_type\u001b[0m\u001b[0;34m=\u001b[0m\u001b[0mbase\u001b[0m\u001b[0;34m,\u001b[0m \u001b[0mbase\u001b[0m\u001b[0;34m=\u001b[0m\u001b[0mbase\u001b[0m\u001b[0;34m.\u001b[0m\u001b[0mbase\u001b[0m\u001b[0;34m,\u001b[0m \u001b[0mnum_var\u001b[0m\u001b[0;34m=\u001b[0m\u001b[0mbase\u001b[0m\u001b[0;34m.\u001b[0m\u001b[0mnum_var\u001b[0m\u001b[0;34m)\u001b[0m\u001b[0;34m\u001b[0m\u001b[0;34m\u001b[0m\u001b[0m\n\u001b[1;32m     44\u001b[0m     \u001b[0;31m#print('calculating condition number')\u001b[0m\u001b[0;34m\u001b[0m\u001b[0;34m\u001b[0m\u001b[0;34m\u001b[0m\u001b[0m\n",
      "\u001b[0;31mTypeError\u001b[0m: __init__() missing 2 required positional arguments: 'alpha' and 'beta'"
     ]
    }
   ],
   "source": [
    "conds = []\n",
    "x = []\n",
    "with progressbar.ProgressBar(max_value=3) as bar:\n",
    "    for i in range(1, 4):\n",
    "        conds.append(experiment(mono_poly, jacobi_poly, i*2, 2))\n",
    "        x.append(i * 2)\n",
    "        bar.update(i)\n",
    "plt.plot(x, conds)\n",
    "plt.show"
   ]
  },
  {
   "cell_type": "code",
   "execution_count": 83,
   "metadata": {},
   "outputs": [
    {
     "name": "stderr",
     "output_type": "stream",
     "text": [
      "100% (3 of 3) |##########################| Elapsed Time: 0:00:04 Time:  0:00:04\n"
     ]
    },
    {
     "data": {
      "text/plain": [
       "<function matplotlib.pyplot.show(close=None, block=None)>"
      ]
     },
     "execution_count": 83,
     "metadata": {},
     "output_type": "execute_result"
    },
    {
     "data": {
      "image/png": "[encoded data removed]",
      "text/plain": [
       "<Figure size 432x288 with 1 Axes>"
      ]
     },
     "metadata": {
      "needs_background": "light"
     },
     "output_type": "display_data"
    }
   ],
   "source": [
    "conds = []\n",
    "x = []\n",
    "with progressbar.ProgressBar(max_value=3) as bar:\n",
    "    for i in range(1, 4):\n",
    "        conds.append(experiment(mono_poly, legendre, i*2, 2))\n",
    "        x.append(i * 2)\n",
    "        bar.update(i)\n",
    "plt.plot(x, conds)\n",
    "plt.show"
   ]
  },
  {
   "cell_type": "code",
   "execution_count": 34,
   "metadata": {
    "scrolled": true
   },
   "outputs": [
    {
     "name": "stderr",
     "output_type": "stream",
     "text": [
      "100% (3 of 3) |##########################| Elapsed Time: 0:00:07 Time:  0:00:07\n"
     ]
    },
    {
     "data": {
      "text/plain": [
       "<function matplotlib.pyplot.show(close=None, block=None)>"
      ]
     },
     "execution_count": 34,
     "metadata": {},
     "output_type": "execute_result"
    },
    {
     "data": {
      "image/png": "[encoded data removed]",
      "text/plain": [
       "<Figure size 432x288 with 1 Axes>"
      ]
     },
     "metadata": {
      "needs_background": "light"
     },
     "output_type": "display_data"
    }
   ],
   "source": [
    "conds = []\n",
    "x = []\n",
    "with progressbar.ProgressBar(max_value=3) as bar:\n",
    "    for i in range(1, 4):\n",
    "        conds.append(experiment(cheby_first_kind, mono_poly, i*2, 2))\n",
    "        x.append(i * 2)\n",
    "        bar.update(i)\n",
    "plt.plot(x, conds)\n",
    "plt.show"
   ]
  },
  {
   "cell_type": "code",
   "execution_count": null,
   "metadata": {},
   "outputs": [],
   "source": [
    "r = m_mtx_base(deg = deg // 2, num_var = num_var)\n",
    "    m_mtx = gen_mmoment_matrix(r.base_vec)\n",
    "    #print('calculating A matrix')\n",
    "    base = poly_base(deg=deg, num_var = num_var)\n",
    "    A = A_mtx(m_mtx, base_type=base, base=base.base, num_var=base.num_var)\n",
    "    #print('calculating condition number')\n",
    "    c_num = condition_num(A)"
   ]
  },
  {
   "cell_type": "code",
   "execution_count": 308,
   "metadata": {},
   "outputs": [],
   "source": [
    "r = mono_poly(deg = 6 // 2, num_var = 2)"
   ]
  },
  {
   "cell_type": "code",
   "execution_count": 309,
   "metadata": {},
   "outputs": [],
   "source": [
    "m_mtx = gen_mmoment_matrix(r.base_vec)"
   ]
  },
  {
   "cell_type": "code",
   "execution_count": 310,
   "metadata": {},
   "outputs": [],
   "source": [
    "base = cheby_first_kind(deg=6, num_var = 2)"
   ]
  },
  {
   "cell_type": "code",
   "execution_count": 311,
   "metadata": {},
   "outputs": [
    {
     "data": {
      "text/plain": [
       "28"
      ]
     },
     "execution_count": 311,
     "metadata": {},
     "output_type": "execute_result"
    }
   ],
   "source": [
    "len(base.base)"
   ]
  },
  {
   "cell_type": "code",
   "execution_count": null,
   "metadata": {},
   "outputs": [],
   "source": [
    "A_mtx(m_mtx, base_type=base, base=base.base, num_var=base.num_var)"
   ]
  },
  {
   "cell_type": "code",
   "execution_count": 298,
   "metadata": {},
   "outputs": [],
   "source": [
    "c_num = condition_num(A)"
   ]
  },
  {
   "cell_type": "code",
   "execution_count": 302,
   "metadata": {},
   "outputs": [
    {
     "data": {
      "text/plain": [
       "12.825755338380658"
      ]
     },
     "execution_count": 302,
     "metadata": {},
     "output_type": "execute_result"
    }
   ],
   "source": [
    "experiment(mono_poly, cheby_first_kind, 1*2, 2)"
   ]
  },
  {
   "cell_type": "code",
   "execution_count": 37,
   "metadata": {},
   "outputs": [
    {
     "data": {
      "text/plain": [
       "[12.825755338380658, 89.60289999492207, 608.311333323818]"
      ]
     },
     "execution_count": 37,
     "metadata": {},
     "output_type": "execute_result"
    }
   ],
   "source": [
    "conds"
   ]
  },
  {
   "cell_type": "code",
   "execution_count": 39,
   "metadata": {},
   "outputs": [
    {
     "name": "stderr",
     "output_type": "stream",
     "text": [
      "100% (3 of 3) |##########################| Elapsed Time: 0:03:35 Time:  0:03:35\n"
     ]
    },
    {
     "data": {
      "text/plain": [
       "<function matplotlib.pyplot.show(close=None, block=None)>"
      ]
     },
     "execution_count": 39,
     "metadata": {},
     "output_type": "execute_result"
    },
    {
     "data": {
      "image/png": "[encoded data removed]",
      "text/plain": [
       "<Figure size 432x288 with 1 Axes>"
      ]
     },
     "metadata": {
      "needs_background": "light"
     },
     "output_type": "display_data"
    }
   ],
   "source": [
    "conds = []\n",
    "x = []\n",
    "with progressbar.ProgressBar(max_value=3) as bar:\n",
    "    for i in range(1, 4):\n",
    "        conds.append(experiment(mono_poly, cheby_first_kind, i*2, 2))\n",
    "        bar.update(i)\n",
    "        x.append(i*2)\n",
    "plt.plot(x, conds)\n",
    "plt.show"
   ]
  },
  {
   "cell_type": "code",
   "execution_count": 38,
   "metadata": {},
   "outputs": [
    {
     "name": "stderr",
     "output_type": "stream",
     "text": [
      "100% (3 of 3) |##########################| Elapsed Time: 0:03:40 Time:  0:03:40\n"
     ]
    },
    {
     "data": {
      "text/plain": [
       "<function matplotlib.pyplot.show(close=None, block=None)>"
      ]
     },
     "execution_count": 38,
     "metadata": {},
     "output_type": "execute_result"
    },
    {
     "data": {
      "image/png": "[encoded data removed]",
      "text/plain": [
       "<Figure size 432x288 with 1 Axes>"
      ]
     },
     "metadata": {
      "needs_background": "light"
     },
     "output_type": "display_data"
    }
   ],
   "source": [
    "conds = []\n",
    "x = []\n",
    "with progressbar.ProgressBar(max_value=3) as bar:\n",
    "    for i in range(1, 4):\n",
    "        conds.append(experiment(cheby_first_kind, cheby_first_kind, i*2, 2))\n",
    "        x.append(i * 2)\n",
    "        bar.update(i)\n",
    "plt.plot(x, conds)\n",
    "plt.show"
   ]
  },
  {
   "cell_type": "code",
   "execution_count": null,
   "metadata": {},
   "outputs": [],
   "source": []
  },
  {
   "cell_type": "code",
   "execution_count": null,
   "metadata": {},
   "outputs": [],
   "source": []
  }
 ],
 "metadata": {
  "kernelspec": {
   "display_name": "Python 3",
   "language": "python",
   "name": "python3"
  },
  "language_info": {
   "codemirror_mode": {
    "name": "ipython",
    "version": 3
   },
   "file_extension": ".py",
   "mimetype": "text/x-python",
   "name": "python",
   "nbconvert_exporter": "python",
   "pygments_lexer": "ipython3",
   "version": "3.9.2"
  }
 },
 "nbformat": 4,
 "nbformat_minor": 4
}
