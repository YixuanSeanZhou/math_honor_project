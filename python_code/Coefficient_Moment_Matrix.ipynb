{
 "cells": [
  {
   "cell_type": "code",
   "execution_count": 45,
   "metadata": {},
   "outputs": [],
   "source": [
    "import sympy as sp\n",
    "from sympy import Matrix as spmtx\n",
    "from sympy import symbols as syms\n",
    "import math\n",
    "from collections import deque\n",
    "import copy\n",
    "import random\n",
    "import numpy as np"
   ]
  },
  {
   "cell_type": "code",
   "execution_count": 32,
   "metadata": {},
   "outputs": [],
   "source": [
    "avaliable_classes = ['mono_poly']"
   ]
  },
  {
   "cell_type": "code",
   "execution_count": 162,
   "metadata": {},
   "outputs": [],
   "source": [
    "def condition_num(A, norm = None):\n",
    "    min_dim = min(A.shape)\n",
    "    if A.rank() != min_dim:\n",
    "        return -1 # since condition number is geq 1, this indicate it is not full rank\n",
    "    else:\n",
    "        cond = A.pinv().norm() * A.norm()\n",
    "        return cond"
   ]
  },
  {
   "cell_type": "code",
   "execution_count": 33,
   "metadata": {},
   "outputs": [],
   "source": [
    "def get_class_name(obj):\n",
    "    return obj.__class__.__name__"
   ]
  },
  {
   "cell_type": "code",
   "execution_count": 170,
   "metadata": {},
   "outputs": [],
   "source": [
    "class mono_poly:\n",
    "    \n",
    "    def _gen_terms(self, var_list, total_degree, term):\n",
    "        '''\n",
    "        var_list is of type deque\n",
    "        '''\n",
    "        terms = []\n",
    "        if len(var_list) == 1:\n",
    "            term *= var_list[0] ** total_degree\n",
    "            terms.append(term)\n",
    "            return terms\n",
    "        elif total_degree == 0:\n",
    "            term *= 1\n",
    "            terms.append(term)\n",
    "            return terms\n",
    "        else:\n",
    "            for i in range(total_degree, -1, -1):\n",
    "                var_list_further = copy.deepcopy(var_list)\n",
    "                var = var_list_further.popleft()\n",
    "                term_further = term * var ** i\n",
    "                terms += self._gen_terms(var_list_further, total_degree - i, term_further)\n",
    "            return terms\n",
    "    \n",
    "    def __init__(self, deg, var_num, coeff=None):\n",
    "        '''\n",
    "        Init a multivariate polynomial with given num of var and num of degree.\n",
    "        The base used here is monomial\n",
    "        '''\n",
    "        self.degree = deg\n",
    "        self.var_num = var_num\n",
    "        var_list = deque()\n",
    "        for i in range(var_num):\n",
    "            var_list.append(syms('x_' + str(i)))\n",
    "        self.var_list = var_list\n",
    "        terms = []\n",
    "        for i in range(deg, -1, -1):\n",
    "            terms += self._gen_terms(self.var_list, i, 1)\n",
    "        self.base = terms\n",
    "        self.term = terms\n",
    "        self.base_vec = spmtx(terms)\n",
    "        if coeff == None:\n",
    "            pass\n",
    "            # coeff = []\n",
    "            # for i in range(len(terms)):\n",
    "            #     coeff.append(random.randint(-100, 100))\n",
    "            # coeff = numpy.array(coeff)\n",
    "        self.coeff = coeff\n",
    "    \n",
    "    def c_extract_map(self, poly, basis):\n",
    "        \"\"\"\n",
    "        Return the coeff of the poly input. \n",
    "        \"\"\"\n",
    "        c = poly.coeff(basis)\n",
    "        if len(c.free_symbols) == 0:\n",
    "            return c\n",
    "        else:\n",
    "            return sp.core.numbers.Zero()"
   ]
  },
  {
   "cell_type": "code",
   "execution_count": 147,
   "metadata": {},
   "outputs": [],
   "source": [
    "def gen_mmoment_matrix(base_vec):\n",
    "    return base_vec * spmtx.transpose(base_vec)"
   ]
  },
  {
   "cell_type": "code",
   "execution_count": 148,
   "metadata": {},
   "outputs": [],
   "source": [
    "def a_vec(m_mtx, base_type, basis):\n",
    "    a = []\n",
    "    for i in range(0, m_mtx.shape[0]):\n",
    "        for j in range(i, m_mtx.shape[1]):\n",
    "            coeff = base_type.c_extract_map(m_mtx[i, j], basis)\n",
    "            if i != j:\n",
    "                coeff *= 2\n",
    "            a.append(coeff)\n",
    "    return a"
   ]
  },
  {
   "cell_type": "code",
   "execution_count": 160,
   "metadata": {},
   "outputs": [],
   "source": [
    "def A_mtx(m_mtx, base_type, base):\n",
    "    A = []\n",
    "    for b in base:\n",
    "        A.append(a_vec(m_mtx, base_type, b))\n",
    "    return spmtx(A)"
   ]
  },
  {
   "cell_type": "code",
   "execution_count": 161,
   "metadata": {},
   "outputs": [],
   "source": [
    "r = mono_poly(2, 2)\n",
    "\n",
    "m_mtx = gen_mmoment_matrix(r.base_vec)\n",
    "\n",
    "base = mono_poly(deg=4, var_num = 2)\n",
    "\n",
    "base.base\n",
    "\n",
    "b = base.base[0]\n",
    "args = m_mtx[0].coeff(b).args\n",
    "\n",
    "base.c_extract_map(m_mtx[0,0], b)\n",
    "\n",
    "gather_a_vec(m_mtx, base_type=base, basis=base.base[0])\n",
    "\n",
    "A = A_mtx(m_mtx, base_type=base, base=base.base)"
   ]
  },
  {
   "cell_type": "code",
   "execution_count": 164,
   "metadata": {},
   "outputs": [
    {
     "data": {
      "text/latex": [
       "$\\displaystyle 19.0092082949291$"
      ],
      "text/plain": [
       "19.0092082949291"
      ]
     },
     "execution_count": 164,
     "metadata": {},
     "output_type": "execute_result"
    }
   ],
   "source": [
    "condition_num(A).evalf()"
   ]
  },
  {
   "cell_type": "code",
   "execution_count": 165,
   "metadata": {},
   "outputs": [
    {
     "data": {
      "text/plain": [
       "__main__.mono_poly"
      ]
     },
     "execution_count": 165,
     "metadata": {},
     "output_type": "execute_result"
    }
   ],
   "source": [
    "mono_poly"
   ]
  },
  {
   "cell_type": "code",
   "execution_count": 186,
   "metadata": {},
   "outputs": [],
   "source": [
    "def experiment(m_mtx_base, poly_base, deg, num_var):\n",
    "    if deg % 2 != 0:\n",
    "        print(\"No need to experiment polynomial with even degree\")\n",
    "        return 0\n",
    "    r = m_mtx_base(deg = deg / 2, var_num = num_var)\n",
    "    m_mtx = gen_mmoment_matrix(r.base_vec)\n",
    "    base = mono_poly(deg=deg, var_num = num_var)\n",
    "    A = A_mtx(m_mtx, base_type=base, base=base.base)\n",
    "    c_num = condition_num(A)\n",
    "    return c_num, c_num.evalf()"
   ]
  },
  {
   "cell_type": "code",
   "execution_count": 187,
   "metadata": {},
   "outputs": [
    {
     "ename": "TypeError",
     "evalue": "'float' object cannot be interpreted as an integer",
     "output_type": "error",
     "traceback": [
      "\u001b[0;31m---------------------------------------------------------------------------\u001b[0m",
      "\u001b[0;31mTypeError\u001b[0m                                 Traceback (most recent call last)",
      "\u001b[0;32m<ipython-input-187-5c6b9ba5dc21>\u001b[0m in \u001b[0;36m<module>\u001b[0;34m\u001b[0m\n\u001b[0;32m----> 1\u001b[0;31m \u001b[0mexperiment\u001b[0m\u001b[0;34m(\u001b[0m\u001b[0mmono_poly\u001b[0m\u001b[0;34m,\u001b[0m \u001b[0mmono_poly\u001b[0m\u001b[0;34m,\u001b[0m \u001b[0;36m4\u001b[0m\u001b[0;34m,\u001b[0m \u001b[0;36m2\u001b[0m\u001b[0;34m)\u001b[0m\u001b[0;34m\u001b[0m\u001b[0;34m\u001b[0m\u001b[0m\n\u001b[0m",
      "\u001b[0;32m<ipython-input-186-527ae8974030>\u001b[0m in \u001b[0;36mexperiment\u001b[0;34m(m_mtx_base, poly_base, deg, num_var)\u001b[0m\n\u001b[1;32m      3\u001b[0m         \u001b[0mprint\u001b[0m\u001b[0;34m(\u001b[0m\u001b[0;34m\"No need to experiment polynomial with even degree\"\u001b[0m\u001b[0;34m)\u001b[0m\u001b[0;34m\u001b[0m\u001b[0;34m\u001b[0m\u001b[0m\n\u001b[1;32m      4\u001b[0m         \u001b[0;32mreturn\u001b[0m \u001b[0;36m0\u001b[0m\u001b[0;34m\u001b[0m\u001b[0;34m\u001b[0m\u001b[0m\n\u001b[0;32m----> 5\u001b[0;31m     \u001b[0mr\u001b[0m \u001b[0;34m=\u001b[0m \u001b[0mm_mtx_base\u001b[0m\u001b[0;34m(\u001b[0m\u001b[0mdeg\u001b[0m \u001b[0;34m=\u001b[0m \u001b[0mdeg\u001b[0m \u001b[0;34m/\u001b[0m \u001b[0;36m2\u001b[0m\u001b[0;34m,\u001b[0m \u001b[0mvar_num\u001b[0m \u001b[0;34m=\u001b[0m \u001b[0mnum_var\u001b[0m\u001b[0;34m)\u001b[0m\u001b[0;34m\u001b[0m\u001b[0;34m\u001b[0m\u001b[0m\n\u001b[0m\u001b[1;32m      6\u001b[0m     \u001b[0mm_mtx\u001b[0m \u001b[0;34m=\u001b[0m \u001b[0mgen_mmoment_matrix\u001b[0m\u001b[0;34m(\u001b[0m\u001b[0mr\u001b[0m\u001b[0;34m.\u001b[0m\u001b[0mbase_vec\u001b[0m\u001b[0;34m)\u001b[0m\u001b[0;34m\u001b[0m\u001b[0;34m\u001b[0m\u001b[0m\n\u001b[1;32m      7\u001b[0m     \u001b[0mbase\u001b[0m \u001b[0;34m=\u001b[0m \u001b[0mmono_poly\u001b[0m\u001b[0;34m(\u001b[0m\u001b[0mdeg\u001b[0m\u001b[0;34m=\u001b[0m\u001b[0mdeg\u001b[0m\u001b[0;34m,\u001b[0m \u001b[0mvar_num\u001b[0m \u001b[0;34m=\u001b[0m \u001b[0mnum_var\u001b[0m\u001b[0;34m)\u001b[0m\u001b[0;34m\u001b[0m\u001b[0;34m\u001b[0m\u001b[0m\n",
      "\u001b[0;32m<ipython-input-170-d65217f08f97>\u001b[0m in \u001b[0;36m__init__\u001b[0;34m(self, deg, var_num, coeff)\u001b[0m\n\u001b[1;32m     34\u001b[0m         \u001b[0mself\u001b[0m\u001b[0;34m.\u001b[0m\u001b[0mvar_list\u001b[0m \u001b[0;34m=\u001b[0m \u001b[0mvar_list\u001b[0m\u001b[0;34m\u001b[0m\u001b[0;34m\u001b[0m\u001b[0m\n\u001b[1;32m     35\u001b[0m         \u001b[0mterms\u001b[0m \u001b[0;34m=\u001b[0m \u001b[0;34m[\u001b[0m\u001b[0;34m]\u001b[0m\u001b[0;34m\u001b[0m\u001b[0;34m\u001b[0m\u001b[0m\n\u001b[0;32m---> 36\u001b[0;31m         \u001b[0;32mfor\u001b[0m \u001b[0mi\u001b[0m \u001b[0;32min\u001b[0m \u001b[0mrange\u001b[0m\u001b[0;34m(\u001b[0m\u001b[0mdeg\u001b[0m\u001b[0;34m,\u001b[0m \u001b[0;34m-\u001b[0m\u001b[0;36m1\u001b[0m\u001b[0;34m,\u001b[0m \u001b[0;34m-\u001b[0m\u001b[0;36m1\u001b[0m\u001b[0;34m)\u001b[0m\u001b[0;34m:\u001b[0m\u001b[0;34m\u001b[0m\u001b[0;34m\u001b[0m\u001b[0m\n\u001b[0m\u001b[1;32m     37\u001b[0m             \u001b[0mterms\u001b[0m \u001b[0;34m+=\u001b[0m \u001b[0mself\u001b[0m\u001b[0;34m.\u001b[0m\u001b[0m_gen_terms\u001b[0m\u001b[0;34m(\u001b[0m\u001b[0mself\u001b[0m\u001b[0;34m.\u001b[0m\u001b[0mvar_list\u001b[0m\u001b[0;34m,\u001b[0m \u001b[0mi\u001b[0m\u001b[0;34m,\u001b[0m \u001b[0;36m1\u001b[0m\u001b[0;34m)\u001b[0m\u001b[0;34m\u001b[0m\u001b[0;34m\u001b[0m\u001b[0m\n\u001b[1;32m     38\u001b[0m         \u001b[0mself\u001b[0m\u001b[0;34m.\u001b[0m\u001b[0mbase\u001b[0m \u001b[0;34m=\u001b[0m \u001b[0mterms\u001b[0m\u001b[0;34m\u001b[0m\u001b[0;34m\u001b[0m\u001b[0m\n",
      "\u001b[0;31mTypeError\u001b[0m: 'float' object cannot be interpreted as an integer"
     ]
    }
   ],
   "source": [
    "experiment(mono_poly, mono_poly, 4, 2)"
   ]
  },
  {
   "cell_type": "code",
   "execution_count": null,
   "metadata": {},
   "outputs": [],
   "source": []
  },
  {
   "cell_type": "code",
   "execution_count": null,
   "metadata": {},
   "outputs": [],
   "source": []
  }
 ],
 "metadata": {
  "kernelspec": {
   "display_name": "Python 3",
   "language": "python",
   "name": "python3"
  },
  "language_info": {
   "codemirror_mode": {
    "name": "ipython",
    "version": 3
   },
   "file_extension": ".py",
   "mimetype": "text/x-python",
   "name": "python",
   "nbconvert_exporter": "python",
   "pygments_lexer": "ipython3",
   "version": "3.8.5"
  }
 },
 "nbformat": 4,
 "nbformat_minor": 4
}
